{
 "cells": [
  {
   "cell_type": "markdown",
   "metadata": {},
   "source": [
    "# TD 3 | Étude de la marge EGT d'un turboréacteur\n",
    "\n",
    "---\n",
    "\n",
    "Objectifs du TD :\n",
    "\n",
    "* pratiquer sur un premier use case concret d'analyse de données de moteurs d'avion\n",
    "* fonctions glissantes pandas (_rolling_)\n",
    "* régression linéaire\n",
    "\n",
    "---"
   ]
  },
  {
   "cell_type": "markdown",
   "metadata": {},
   "source": [
    "La table fournie contient les données moteurs disposant de l'information \"marge EGT\" (egthdm) issue\n",
    "des rapports ACARS. Il s'agit donc uniquement de rapports extraits au décollage (TAKEOFF). On a\n",
    "récupéré l'ensemble des rapports des moteurs livrés depuis avril 2016."
   ]
  },
  {
   "cell_type": "code",
   "execution_count": 2,
   "metadata": {},
   "outputs": [],
   "source": [
    "import pandas as pd\n",
    "import numpy as np\n",
    "import matplotlib.pyplot as plt"
   ]
  },
  {
   "cell_type": "markdown",
   "metadata": {},
   "source": [
    "## 1. Chargement et nettoyage des données\n",
    "\n",
    "#### 1.1. Chargez les données ACARS à l'aide de la méthode pandas `read_excel`. Explorez les propriétés générales du jeu de données.\n",
    "\n",
    "Fichier de données : `./data/accars_b.xlsx`."
   ]
  },
  {
   "cell_type": "code",
   "execution_count": 3,
   "metadata": {},
   "outputs": [],
   "source": [
    "accars_b = pd.read_excel(\"../data/accars_b.xlsx\")"
   ]
  },
  {
   "cell_type": "code",
   "execution_count": 4,
   "metadata": {},
   "outputs": [
    {
     "name": "stdout",
     "output_type": "stream",
     "text": [
      "shape : (46621, 50)\n",
      "  flight_phase  engine_number  engine_type  aircraft_number  engine_position  \\\n",
      "0        CLIMB            186           10              192                1   \n",
      "1        CLIMB            186           10              192                1   \n",
      "2        CLIMB            186           10              192                1   \n",
      "3        CLIMB            186           10              192                1   \n",
      "4        CLIMB            186           10              192                1   \n",
      "\n",
      "  airline_classif_environment  brat    cas  cycles   delfn  ...  ztoil  zvb1f  \\\n",
      "0                     Neutral   1.0  151.0     6.0 -0.1146  ...   88.0   0.57   \n",
      "1                     Neutral   1.0  143.0     7.0 -0.2464  ...   90.8   0.58   \n",
      "2                     Neutral   1.0  163.0     8.0     NaN  ...   89.0   0.28   \n",
      "3                     Neutral   1.0  152.0     9.0     NaN  ...   87.0   0.44   \n",
      "4                     Neutral   1.0  154.0    10.0     NaN  ...   85.3   0.26   \n",
      "\n",
      "   zvb1r  zvb2f  zvb2r  zvsv  zwbp1  zwbp2   zwf36    zxm  \n",
      "0   0.73   0.12   0.13   8.9    5.0    5.0  5335.0  0.637  \n",
      "1   0.76   0.15   0.10   9.0    5.6    5.6  4987.0  0.624  \n",
      "2   0.48   0.16   0.05  10.1    5.0    5.2  4251.0  0.530  \n",
      "3   0.67   0.14   0.08   8.9    5.6    5.6  5356.0  0.380  \n",
      "4   0.48   0.25   0.06  10.5    5.6    5.6     NaN  0.543  \n",
      "\n",
      "[5 rows x 50 columns]\n",
      "type : flight_phase                    object\n",
      "engine_number                    int64\n",
      "engine_type                      int64\n",
      "aircraft_number                  int64\n",
      "engine_position                  int64\n",
      "airline_classif_environment     object\n",
      "brat                           float64\n",
      "cas                            float64\n",
      "cycles                         float64\n",
      "delfn                          float64\n",
      "deln1                          float64\n",
      "dtamb                          float64\n",
      "egthdm                         float64\n",
      "iai                            float64\n",
      "iaie1                          float64\n",
      "iaie2                          float64\n",
      "iaiwg                          float64\n",
      "ibe1                             int64\n",
      "ibe2                             int64\n",
      "ivs12                            int64\n",
      "pcn1k                          float64\n",
      "sloatl                         float64\n",
      "tsih                           float64\n",
      "vbvpos                         float64\n",
      "wbe                            float64\n",
      "yn1mod                         float64\n",
      "zalt                           float64\n",
      "zhptac                         float64\n",
      "zlptac                         float64\n",
      "zpcn12                         float64\n",
      "zpcn25                         float64\n",
      "zphsf                          float64\n",
      "zphsr                          float64\n",
      "zpoil                          float64\n",
      "zps3                           float64\n",
      "zt1a                           float64\n",
      "zt25                           float64\n",
      "zt3                            float64\n",
      "zt49                           float64\n",
      "ztla                           float64\n",
      "ztoil                          float64\n",
      "zvb1f                          float64\n",
      "zvb1r                          float64\n",
      "zvb2f                          float64\n",
      "zvb2r                          float64\n",
      "zvsv                           float64\n",
      "zwbp1                          float64\n",
      "zwbp2                          float64\n",
      "zwf36                          float64\n",
      "zxm                            float64\n",
      "dtype: object\n"
     ]
    }
   ],
   "source": [
    "print(\"shape : \"+str(accars_b.shape))\n",
    "print(accars_b.head())\n",
    "print(\"type : \"+str(accars_b.dtypes))"
   ]
  },
  {
   "cell_type": "code",
   "execution_count": 5,
   "metadata": {},
   "outputs": [
    {
     "data": {
      "text/plain": [
       "flight_phase                    object\n",
       "engine_number                    int64\n",
       "engine_type                      int64\n",
       "aircraft_number                  int64\n",
       "engine_position                  int64\n",
       "airline_classif_environment     object\n",
       "brat                           float64\n",
       "cas                            float64\n",
       "cycles                         float64\n",
       "delfn                          float64\n",
       "deln1                          float64\n",
       "dtamb                          float64\n",
       "egthdm                         float64\n",
       "iai                            float64\n",
       "iaie1                          float64\n",
       "iaie2                          float64\n",
       "iaiwg                          float64\n",
       "ibe1                             int64\n",
       "ibe2                             int64\n",
       "ivs12                            int64\n",
       "pcn1k                          float64\n",
       "sloatl                         float64\n",
       "tsih                           float64\n",
       "vbvpos                         float64\n",
       "wbe                            float64\n",
       "yn1mod                         float64\n",
       "zalt                           float64\n",
       "zhptac                         float64\n",
       "zlptac                         float64\n",
       "zpcn12                         float64\n",
       "zpcn25                         float64\n",
       "zphsf                          float64\n",
       "zphsr                          float64\n",
       "zpoil                          float64\n",
       "zps3                           float64\n",
       "zt1a                           float64\n",
       "zt25                           float64\n",
       "zt3                            float64\n",
       "zt49                           float64\n",
       "ztla                           float64\n",
       "ztoil                          float64\n",
       "zvb1f                          float64\n",
       "zvb1r                          float64\n",
       "zvb2f                          float64\n",
       "zvb2r                          float64\n",
       "zvsv                           float64\n",
       "zwbp1                          float64\n",
       "zwbp2                          float64\n",
       "zwf36                          float64\n",
       "zxm                            float64\n",
       "dtype: object"
      ]
     },
     "execution_count": 5,
     "metadata": {},
     "output_type": "execute_result"
    }
   ],
   "source": [
    "accars_b.dtypes"
   ]
  },
  {
   "cell_type": "markdown",
   "metadata": {},
   "source": [
    "#### 1.2. Y a-t-il des valeurs manquantes ? Si oui, décrivez leur répartition et affichez le nombre de valeurs manquantes par colonne sous forme d'un bar plot."
   ]
  },
  {
   "cell_type": "code",
   "execution_count": 6,
   "metadata": {},
   "outputs": [],
   "source": [
    "import seaborn as sns"
   ]
  },
  {
   "cell_type": "code",
   "execution_count": 7,
   "metadata": {},
   "outputs": [],
   "source": [
    "count_nan=accars_b.isna().sum()"
   ]
  },
  {
   "cell_type": "code",
   "execution_count": 8,
   "metadata": {},
   "outputs": [
    {
     "data": {
      "image/png": "[encoded data removed]",
      "text/plain": [
       "<Figure size 432x288 with 1 Axes>"
      ]
     },
     "metadata": {
      "needs_background": "light"
     },
     "output_type": "display_data"
    }
   ],
   "source": [
    "plt.bar(np.arange(count_nan.size),count_nan,tick_label=count_nan.index.to_list())\n",
    "plt.xticks(rotation=45,fontsize=6,ha=\"right\")\n",
    "plt.show()"
   ]
  },
  {
   "cell_type": "markdown",
   "metadata": {},
   "source": [
    "#### 1.3. Ne gardez que les lignes où le nombre de cycles (variable `cycles`) et la marge EGT (variable `egthdm`) sont présentes."
   ]
  },
  {
   "cell_type": "code",
   "execution_count": 9,
   "metadata": {},
   "outputs": [],
   "source": [
    "accarsb2=accars_b.dropna(axis=0,how=\"any\",subset=[\"cycles\",\"egthdm\"])"
   ]
  },
  {
   "cell_type": "markdown",
   "metadata": {},
   "source": [
    "#### 1.4. Affichez les différents types de moteurs (indice : utilisez la méthode `unique()`)."
   ]
  },
  {
   "cell_type": "code",
   "execution_count": 10,
   "metadata": {},
   "outputs": [
    {
     "data": {
      "text/plain": [
       "array([10,  5,  7], dtype=int64)"
      ]
     },
     "execution_count": 10,
     "metadata": {},
     "output_type": "execute_result"
    }
   ],
   "source": [
    "accarsb2[\"engine_type\"].unique()"
   ]
  },
  {
   "cell_type": "markdown",
   "metadata": {},
   "source": [
    "#### 1.5. Sélectionnez uniquement les moteurs de type 10. Combien y a-t-il d'avions distincts ? Combien de vols par avion ? (attention : il y a 2 moteurs sur un avion)"
   ]
  },
  {
   "cell_type": "code",
   "execution_count": 11,
   "metadata": {},
   "outputs": [],
   "source": [
    "moteur10=accarsb2[accarsb2[\"engine_type\"]==10]"
   ]
  },
  {
   "cell_type": "code",
   "execution_count": 12,
   "metadata": {},
   "outputs": [
    {
     "data": {
      "text/html": [
       "<div>\n",
       "<style scoped>\n",
       "    .dataframe tbody tr th:only-of-type {\n",
       "        vertical-align: middle;\n",
       "    }\n",
       "\n",
       "    .dataframe tbody tr th {\n",
       "        vertical-align: top;\n",
       "    }\n",
       "\n",
       "    .dataframe thead th {\n",
       "        text-align: right;\n",
       "    }\n",
       "</style>\n",
       "<table border=\"1\" class=\"dataframe\">\n",
       "  <thead>\n",
       "    <tr style=\"text-align: right;\">\n",
       "      <th></th>\n",
       "      <th>flight_phase</th>\n",
       "      <th>engine_number</th>\n",
       "      <th>engine_type</th>\n",
       "      <th>aircraft_number</th>\n",
       "      <th>engine_position</th>\n",
       "      <th>airline_classif_environment</th>\n",
       "      <th>brat</th>\n",
       "      <th>cas</th>\n",
       "      <th>cycles</th>\n",
       "      <th>delfn</th>\n",
       "      <th>...</th>\n",
       "      <th>ztoil</th>\n",
       "      <th>zvb1f</th>\n",
       "      <th>zvb1r</th>\n",
       "      <th>zvb2f</th>\n",
       "      <th>zvb2r</th>\n",
       "      <th>zvsv</th>\n",
       "      <th>zwbp1</th>\n",
       "      <th>zwbp2</th>\n",
       "      <th>zwf36</th>\n",
       "      <th>zxm</th>\n",
       "    </tr>\n",
       "  </thead>\n",
       "  <tbody>\n",
       "    <tr>\n",
       "      <th>104</th>\n",
       "      <td>TAKEOFF</td>\n",
       "      <td>186</td>\n",
       "      <td>10</td>\n",
       "      <td>192</td>\n",
       "      <td>1</td>\n",
       "      <td>Neutral</td>\n",
       "      <td>0.0</td>\n",
       "      <td>88.0</td>\n",
       "      <td>5.0</td>\n",
       "      <td>23.8191</td>\n",
       "      <td>...</td>\n",
       "      <td>84.3</td>\n",
       "      <td>0.39</td>\n",
       "      <td>0.58</td>\n",
       "      <td>0.05</td>\n",
       "      <td>0.15</td>\n",
       "      <td>12.3</td>\n",
       "      <td>0.2</td>\n",
       "      <td>0.0</td>\n",
       "      <td>NaN</td>\n",
       "      <td>0.133</td>\n",
       "    </tr>\n",
       "    <tr>\n",
       "      <th>105</th>\n",
       "      <td>TAKEOFF</td>\n",
       "      <td>186</td>\n",
       "      <td>10</td>\n",
       "      <td>192</td>\n",
       "      <td>1</td>\n",
       "      <td>Neutral</td>\n",
       "      <td>0.0</td>\n",
       "      <td>93.0</td>\n",
       "      <td>6.0</td>\n",
       "      <td>25.4038</td>\n",
       "      <td>...</td>\n",
       "      <td>95.1</td>\n",
       "      <td>0.24</td>\n",
       "      <td>0.69</td>\n",
       "      <td>0.16</td>\n",
       "      <td>0.10</td>\n",
       "      <td>11.1</td>\n",
       "      <td>0.2</td>\n",
       "      <td>0.0</td>\n",
       "      <td>NaN</td>\n",
       "      <td>0.148</td>\n",
       "    </tr>\n",
       "    <tr>\n",
       "      <th>106</th>\n",
       "      <td>TAKEOFF</td>\n",
       "      <td>186</td>\n",
       "      <td>10</td>\n",
       "      <td>192</td>\n",
       "      <td>1</td>\n",
       "      <td>Neutral</td>\n",
       "      <td>0.0</td>\n",
       "      <td>92.0</td>\n",
       "      <td>7.0</td>\n",
       "      <td>22.7509</td>\n",
       "      <td>...</td>\n",
       "      <td>81.6</td>\n",
       "      <td>0.23</td>\n",
       "      <td>0.46</td>\n",
       "      <td>0.13</td>\n",
       "      <td>0.11</td>\n",
       "      <td>12.1</td>\n",
       "      <td>0.3</td>\n",
       "      <td>0.0</td>\n",
       "      <td>NaN</td>\n",
       "      <td>0.140</td>\n",
       "    </tr>\n",
       "    <tr>\n",
       "      <th>107</th>\n",
       "      <td>TAKEOFF</td>\n",
       "      <td>186</td>\n",
       "      <td>10</td>\n",
       "      <td>192</td>\n",
       "      <td>1</td>\n",
       "      <td>Neutral</td>\n",
       "      <td>0.0</td>\n",
       "      <td>87.0</td>\n",
       "      <td>8.0</td>\n",
       "      <td>22.1533</td>\n",
       "      <td>...</td>\n",
       "      <td>87.8</td>\n",
       "      <td>0.59</td>\n",
       "      <td>0.80</td>\n",
       "      <td>0.12</td>\n",
       "      <td>0.13</td>\n",
       "      <td>11.1</td>\n",
       "      <td>0.2</td>\n",
       "      <td>0.0</td>\n",
       "      <td>NaN</td>\n",
       "      <td>0.140</td>\n",
       "    </tr>\n",
       "    <tr>\n",
       "      <th>108</th>\n",
       "      <td>TAKEOFF</td>\n",
       "      <td>186</td>\n",
       "      <td>10</td>\n",
       "      <td>192</td>\n",
       "      <td>1</td>\n",
       "      <td>Neutral</td>\n",
       "      <td>0.0</td>\n",
       "      <td>88.0</td>\n",
       "      <td>9.0</td>\n",
       "      <td>23.8673</td>\n",
       "      <td>...</td>\n",
       "      <td>79.3</td>\n",
       "      <td>0.43</td>\n",
       "      <td>0.47</td>\n",
       "      <td>0.13</td>\n",
       "      <td>0.17</td>\n",
       "      <td>12.5</td>\n",
       "      <td>0.3</td>\n",
       "      <td>0.0</td>\n",
       "      <td>NaN</td>\n",
       "      <td>0.136</td>\n",
       "    </tr>\n",
       "    <tr>\n",
       "      <th>...</th>\n",
       "      <td>...</td>\n",
       "      <td>...</td>\n",
       "      <td>...</td>\n",
       "      <td>...</td>\n",
       "      <td>...</td>\n",
       "      <td>...</td>\n",
       "      <td>...</td>\n",
       "      <td>...</td>\n",
       "      <td>...</td>\n",
       "      <td>...</td>\n",
       "      <td>...</td>\n",
       "      <td>...</td>\n",
       "      <td>...</td>\n",
       "      <td>...</td>\n",
       "      <td>...</td>\n",
       "      <td>...</td>\n",
       "      <td>...</td>\n",
       "      <td>...</td>\n",
       "      <td>...</td>\n",
       "      <td>...</td>\n",
       "      <td>...</td>\n",
       "    </tr>\n",
       "    <tr>\n",
       "      <th>45809</th>\n",
       "      <td>TAKEOFF</td>\n",
       "      <td>180</td>\n",
       "      <td>10</td>\n",
       "      <td>190</td>\n",
       "      <td>2</td>\n",
       "      <td>Neutral</td>\n",
       "      <td>0.0</td>\n",
       "      <td>86.0</td>\n",
       "      <td>48.0</td>\n",
       "      <td>24.0682</td>\n",
       "      <td>...</td>\n",
       "      <td>95.4</td>\n",
       "      <td>0.03</td>\n",
       "      <td>0.41</td>\n",
       "      <td>0.49</td>\n",
       "      <td>0.64</td>\n",
       "      <td>12.4</td>\n",
       "      <td>0.0</td>\n",
       "      <td>0.0</td>\n",
       "      <td>NaN</td>\n",
       "      <td>0.132</td>\n",
       "    </tr>\n",
       "    <tr>\n",
       "      <th>45810</th>\n",
       "      <td>TAKEOFF</td>\n",
       "      <td>180</td>\n",
       "      <td>10</td>\n",
       "      <td>190</td>\n",
       "      <td>2</td>\n",
       "      <td>Neutral</td>\n",
       "      <td>0.0</td>\n",
       "      <td>86.0</td>\n",
       "      <td>58.0</td>\n",
       "      <td>19.5614</td>\n",
       "      <td>...</td>\n",
       "      <td>87.7</td>\n",
       "      <td>0.02</td>\n",
       "      <td>0.37</td>\n",
       "      <td>0.35</td>\n",
       "      <td>0.50</td>\n",
       "      <td>11.8</td>\n",
       "      <td>0.0</td>\n",
       "      <td>0.0</td>\n",
       "      <td>NaN</td>\n",
       "      <td>0.133</td>\n",
       "    </tr>\n",
       "    <tr>\n",
       "      <th>46111</th>\n",
       "      <td>TAKEOFF</td>\n",
       "      <td>179</td>\n",
       "      <td>10</td>\n",
       "      <td>190</td>\n",
       "      <td>1</td>\n",
       "      <td>Neutral</td>\n",
       "      <td>0.0</td>\n",
       "      <td>87.0</td>\n",
       "      <td>163.0</td>\n",
       "      <td>23.3822</td>\n",
       "      <td>...</td>\n",
       "      <td>93.0</td>\n",
       "      <td>0.13</td>\n",
       "      <td>0.23</td>\n",
       "      <td>0.17</td>\n",
       "      <td>0.18</td>\n",
       "      <td>11.5</td>\n",
       "      <td>0.0</td>\n",
       "      <td>0.0</td>\n",
       "      <td>NaN</td>\n",
       "      <td>0.141</td>\n",
       "    </tr>\n",
       "    <tr>\n",
       "      <th>46411</th>\n",
       "      <td>TAKEOFF</td>\n",
       "      <td>179</td>\n",
       "      <td>10</td>\n",
       "      <td>190</td>\n",
       "      <td>1</td>\n",
       "      <td>Neutral</td>\n",
       "      <td>0.0</td>\n",
       "      <td>85.0</td>\n",
       "      <td>30.0</td>\n",
       "      <td>22.6940</td>\n",
       "      <td>...</td>\n",
       "      <td>96.6</td>\n",
       "      <td>0.13</td>\n",
       "      <td>0.51</td>\n",
       "      <td>0.23</td>\n",
       "      <td>0.11</td>\n",
       "      <td>12.3</td>\n",
       "      <td>0.0</td>\n",
       "      <td>0.0</td>\n",
       "      <td>NaN</td>\n",
       "      <td>0.130</td>\n",
       "    </tr>\n",
       "    <tr>\n",
       "      <th>46412</th>\n",
       "      <td>TAKEOFF</td>\n",
       "      <td>179</td>\n",
       "      <td>10</td>\n",
       "      <td>190</td>\n",
       "      <td>1</td>\n",
       "      <td>Neutral</td>\n",
       "      <td>0.0</td>\n",
       "      <td>91.0</td>\n",
       "      <td>101.0</td>\n",
       "      <td>0.1767</td>\n",
       "      <td>...</td>\n",
       "      <td>85.3</td>\n",
       "      <td>0.32</td>\n",
       "      <td>0.36</td>\n",
       "      <td>0.17</td>\n",
       "      <td>0.05</td>\n",
       "      <td>10.1</td>\n",
       "      <td>0.0</td>\n",
       "      <td>0.0</td>\n",
       "      <td>NaN</td>\n",
       "      <td>0.140</td>\n",
       "    </tr>\n",
       "  </tbody>\n",
       "</table>\n",
       "<p>712 rows × 50 columns</p>\n",
       "</div>"
      ],
      "text/plain": [
       "      flight_phase  engine_number  engine_type  aircraft_number  \\\n",
       "104        TAKEOFF            186           10              192   \n",
       "105        TAKEOFF            186           10              192   \n",
       "106        TAKEOFF            186           10              192   \n",
       "107        TAKEOFF            186           10              192   \n",
       "108        TAKEOFF            186           10              192   \n",
       "...            ...            ...          ...              ...   \n",
       "45809      TAKEOFF            180           10              190   \n",
       "45810      TAKEOFF            180           10              190   \n",
       "46111      TAKEOFF            179           10              190   \n",
       "46411      TAKEOFF            179           10              190   \n",
       "46412      TAKEOFF            179           10              190   \n",
       "\n",
       "       engine_position airline_classif_environment  brat   cas  cycles  \\\n",
       "104                  1                     Neutral   0.0  88.0     5.0   \n",
       "105                  1                     Neutral   0.0  93.0     6.0   \n",
       "106                  1                     Neutral   0.0  92.0     7.0   \n",
       "107                  1                     Neutral   0.0  87.0     8.0   \n",
       "108                  1                     Neutral   0.0  88.0     9.0   \n",
       "...                ...                         ...   ...   ...     ...   \n",
       "45809                2                     Neutral   0.0  86.0    48.0   \n",
       "45810                2                     Neutral   0.0  86.0    58.0   \n",
       "46111                1                     Neutral   0.0  87.0   163.0   \n",
       "46411                1                     Neutral   0.0  85.0    30.0   \n",
       "46412                1                     Neutral   0.0  91.0   101.0   \n",
       "\n",
       "         delfn  ...  ztoil  zvb1f  zvb1r  zvb2f  zvb2r  zvsv  zwbp1  zwbp2  \\\n",
       "104    23.8191  ...   84.3   0.39   0.58   0.05   0.15  12.3    0.2    0.0   \n",
       "105    25.4038  ...   95.1   0.24   0.69   0.16   0.10  11.1    0.2    0.0   \n",
       "106    22.7509  ...   81.6   0.23   0.46   0.13   0.11  12.1    0.3    0.0   \n",
       "107    22.1533  ...   87.8   0.59   0.80   0.12   0.13  11.1    0.2    0.0   \n",
       "108    23.8673  ...   79.3   0.43   0.47   0.13   0.17  12.5    0.3    0.0   \n",
       "...        ...  ...    ...    ...    ...    ...    ...   ...    ...    ...   \n",
       "45809  24.0682  ...   95.4   0.03   0.41   0.49   0.64  12.4    0.0    0.0   \n",
       "45810  19.5614  ...   87.7   0.02   0.37   0.35   0.50  11.8    0.0    0.0   \n",
       "46111  23.3822  ...   93.0   0.13   0.23   0.17   0.18  11.5    0.0    0.0   \n",
       "46411  22.6940  ...   96.6   0.13   0.51   0.23   0.11  12.3    0.0    0.0   \n",
       "46412   0.1767  ...   85.3   0.32   0.36   0.17   0.05  10.1    0.0    0.0   \n",
       "\n",
       "       zwf36    zxm  \n",
       "104      NaN  0.133  \n",
       "105      NaN  0.148  \n",
       "106      NaN  0.140  \n",
       "107      NaN  0.140  \n",
       "108      NaN  0.136  \n",
       "...      ...    ...  \n",
       "45809    NaN  0.132  \n",
       "45810    NaN  0.133  \n",
       "46111    NaN  0.141  \n",
       "46411    NaN  0.130  \n",
       "46412    NaN  0.140  \n",
       "\n",
       "[712 rows x 50 columns]"
      ]
     },
     "execution_count": 12,
     "metadata": {},
     "output_type": "execute_result"
    }
   ],
   "source": [
    "moteur10"
   ]
  },
  {
   "cell_type": "code",
   "execution_count": 13,
   "metadata": {},
   "outputs": [
    {
     "data": {
      "text/plain": [
       "5"
      ]
     },
     "execution_count": 13,
     "metadata": {},
     "output_type": "execute_result"
    }
   ],
   "source": [
    "moteur10[\"aircraft_number\"].unique().size"
   ]
  },
  {
   "cell_type": "code",
   "execution_count": 14,
   "metadata": {},
   "outputs": [
    {
     "data": {
      "text/plain": [
       "aircraft_number\n",
       "11      34\n",
       "14     194\n",
       "190    220\n",
       "191     12\n",
       "192    252\n",
       "dtype: int64"
      ]
     },
     "execution_count": 14,
     "metadata": {},
     "output_type": "execute_result"
    }
   ],
   "source": [
    "moteur10.groupby(\"aircraft_number\").size()"
   ]
  },
  {
   "cell_type": "markdown",
   "metadata": {},
   "source": [
    "## 2. Étude de la marge EGT de l'avion 190\n",
    "\n",
    "#### 2.1. Récupérez les variables `engine_number`, nombre de cycles (`cycles`) et marge EGT (`egthdm`) pour l'avion identifié par le numéro 190."
   ]
  },
  {
   "cell_type": "code",
   "execution_count": 15,
   "metadata": {},
   "outputs": [
    {
     "data": {
      "text/html": [
       "<div>\n",
       "<style scoped>\n",
       "    .dataframe tbody tr th:only-of-type {\n",
       "        vertical-align: middle;\n",
       "    }\n",
       "\n",
       "    .dataframe tbody tr th {\n",
       "        vertical-align: top;\n",
       "    }\n",
       "\n",
       "    .dataframe thead th {\n",
       "        text-align: right;\n",
       "    }\n",
       "</style>\n",
       "<table border=\"1\" class=\"dataframe\">\n",
       "  <thead>\n",
       "    <tr style=\"text-align: right;\">\n",
       "      <th></th>\n",
       "      <th>engine_number</th>\n",
       "      <th>cycles</th>\n",
       "      <th>egthdm</th>\n",
       "    </tr>\n",
       "  </thead>\n",
       "  <tbody>\n",
       "    <tr>\n",
       "      <th>11398</th>\n",
       "      <td>179</td>\n",
       "      <td>98.0</td>\n",
       "      <td>52.0118</td>\n",
       "    </tr>\n",
       "    <tr>\n",
       "      <th>11399</th>\n",
       "      <td>180</td>\n",
       "      <td>69.0</td>\n",
       "      <td>57.6415</td>\n",
       "    </tr>\n",
       "    <tr>\n",
       "      <th>11400</th>\n",
       "      <td>180</td>\n",
       "      <td>75.0</td>\n",
       "      <td>48.7217</td>\n",
       "    </tr>\n",
       "    <tr>\n",
       "      <th>11755</th>\n",
       "      <td>179</td>\n",
       "      <td>0.0</td>\n",
       "      <td>37.6572</td>\n",
       "    </tr>\n",
       "    <tr>\n",
       "      <th>11756</th>\n",
       "      <td>179</td>\n",
       "      <td>1.0</td>\n",
       "      <td>37.2208</td>\n",
       "    </tr>\n",
       "    <tr>\n",
       "      <th>...</th>\n",
       "      <td>...</td>\n",
       "      <td>...</td>\n",
       "      <td>...</td>\n",
       "    </tr>\n",
       "    <tr>\n",
       "      <th>45809</th>\n",
       "      <td>180</td>\n",
       "      <td>48.0</td>\n",
       "      <td>51.9444</td>\n",
       "    </tr>\n",
       "    <tr>\n",
       "      <th>45810</th>\n",
       "      <td>180</td>\n",
       "      <td>58.0</td>\n",
       "      <td>59.0032</td>\n",
       "    </tr>\n",
       "    <tr>\n",
       "      <th>46111</th>\n",
       "      <td>179</td>\n",
       "      <td>163.0</td>\n",
       "      <td>45.8711</td>\n",
       "    </tr>\n",
       "    <tr>\n",
       "      <th>46411</th>\n",
       "      <td>179</td>\n",
       "      <td>30.0</td>\n",
       "      <td>56.5585</td>\n",
       "    </tr>\n",
       "    <tr>\n",
       "      <th>46412</th>\n",
       "      <td>179</td>\n",
       "      <td>101.0</td>\n",
       "      <td>41.0874</td>\n",
       "    </tr>\n",
       "  </tbody>\n",
       "</table>\n",
       "<p>220 rows × 3 columns</p>\n",
       "</div>"
      ],
      "text/plain": [
       "       engine_number  cycles   egthdm\n",
       "11398            179    98.0  52.0118\n",
       "11399            180    69.0  57.6415\n",
       "11400            180    75.0  48.7217\n",
       "11755            179     0.0  37.6572\n",
       "11756            179     1.0  37.2208\n",
       "...              ...     ...      ...\n",
       "45809            180    48.0  51.9444\n",
       "45810            180    58.0  59.0032\n",
       "46111            179   163.0  45.8711\n",
       "46411            179    30.0  56.5585\n",
       "46412            179   101.0  41.0874\n",
       "\n",
       "[220 rows x 3 columns]"
      ]
     },
     "execution_count": 15,
     "metadata": {},
     "output_type": "execute_result"
    }
   ],
   "source": [
    "Avion190=accarsb2[accarsb2[\"aircraft_number\"]==190][[\"engine_number\",\"cycles\",\"egthdm\"]]\n",
    "Avion190"
   ]
  },
  {
   "cell_type": "code",
   "execution_count": 16,
   "metadata": {},
   "outputs": [
    {
     "data": {
      "text/plain": [
       "220"
      ]
     },
     "execution_count": 16,
     "metadata": {},
     "output_type": "execute_result"
    }
   ],
   "source": [
    "Avion190.shape[0]"
   ]
  },
  {
   "cell_type": "markdown",
   "metadata": {},
   "source": [
    "#### 2.2. Affichez la courbe de l'évolution de la marge EGT au cours du temps pour les deux moteurs de l'avion, sur deux graphes séparés et en prenant soin d'ajouter des légendes."
   ]
  },
  {
   "cell_type": "code",
   "execution_count": 17,
   "metadata": {},
   "outputs": [
    {
     "data": {
      "image/png": "[encoded data removed]",
      "text/plain": [
       "<Figure size 432x288 with 1 Axes>"
      ]
     },
     "metadata": {
      "needs_background": "light"
     },
     "output_type": "display_data"
    }
   ],
   "source": [
    "sns.lineplot(data=Avion190,x=np.arange(Avion190.shape[0]),y=\"egthdm\",hue=\"engine_number\").set_title(\"Evolution EGT pour les deux moteurs d'avion\")\n",
    "plt.show()"
   ]
  },
  {
   "cell_type": "markdown",
   "metadata": {},
   "source": [
    "#### 2.3. Pour la suite, on ne s'intéresse qu'au moteur 179. Quel est le nombre de vols manquant dans les données ?"
   ]
  },
  {
   "cell_type": "code",
   "execution_count": 18,
   "metadata": {},
   "outputs": [
    {
     "name": "stdout",
     "output_type": "stream",
     "text": [
      "on perd : 166 vols à cause des NaN en moins\n"
     ]
    }
   ],
   "source": [
    "print(\"on perd : \"+str(accars_b[accars_b[\"engine_number\"]==179].shape[0]-moteur10[moteur10[\"engine_number\"]==179].shape[0])+\" vols à cause des NaN en moins\")"
   ]
  },
  {
   "cell_type": "markdown",
   "metadata": {},
   "source": [
    "#### 2.4. Nettoyage de la marge EGT\n",
    "\n",
    "On constate que sur un même cycle, il peut y avoir 2 valeurs de la variable `egthdm` mesurées. On ne souhaite garder que la plus grande des deux, et avoir une seule ligne par cycle, afin que l'on puisse utiliser le nombre de cycles comme index. Enfin, on veut compléter l'index pour les vols manquants, en remplissant les lignes par `NaN`. Pour cela, effectuez l'exercice suivant:\n",
    "\n",
    "1. Utilisez une aggrégation pour obtenir la plus grande valeur à chaque cycle et stockez le résultat dans une Series pandas appelée 'egt'.\n",
    "2. Ré-indexez le DataFrame pour avoir une ligne pour tout nombre de cycles (indice : passez par la méthode reindex)."
   ]
  },
  {
   "cell_type": "code",
   "execution_count": 38,
   "metadata": {},
   "outputs": [
    {
     "data": {
      "text/plain": [
       "91"
      ]
     },
     "execution_count": 38,
     "metadata": {},
     "output_type": "execute_result"
    }
   ],
   "source": [
    "mot179_av190=moteur10[moteur10[\"engine_number\"]==179]\n",
    "mot179_av190[\"cycles\"].unique().size"
   ]
  },
  {
   "cell_type": "code",
   "execution_count": 69,
   "metadata": {},
   "outputs": [
    {
     "data": {
      "text/plain": [
       "163.0"
      ]
     },
     "execution_count": 69,
     "metadata": {},
     "output_type": "execute_result"
    }
   ],
   "source": [
    "mot179_av190[\"cycles\"].unique().max()"
   ]
  },
  {
   "cell_type": "code",
   "execution_count": 61,
   "metadata": {},
   "outputs": [],
   "source": [
    "egt=pd.Series(mot179_av190.groupby(\"cycles\").max()[\"egthdm\"])"
   ]
  },
  {
   "cell_type": "code",
   "execution_count": 73,
   "metadata": {},
   "outputs": [
    {
     "data": {
      "text/plain": [
       "cycles\n",
       "0.0      37.6572\n",
       "1.0      59.1796\n",
       "2.0      56.8104\n",
       "3.0      55.2263\n",
       "4.0      55.1283\n",
       "          ...   \n",
       "159.0        NaN\n",
       "160.0        NaN\n",
       "161.0        NaN\n",
       "162.0        NaN\n",
       "163.0    45.8711\n",
       "Name: egthdm, Length: 164, dtype: float64"
      ]
     },
     "execution_count": 73,
     "metadata": {},
     "output_type": "execute_result"
    }
   ],
   "source": [
    "egt_full=egt.reindex(np.arange(mot179_av190[\"cycles\"].unique().min(),mot179_av190[\"cycles\"].unique().max()+1))\n",
    "egt_full"
   ]
  },
  {
   "cell_type": "markdown",
   "metadata": {},
   "source": [
    "#### 2.5. On souhaite lisser les valeurs et se débarasser des outliers à l'aide d'une médiane glissante sur 15 cycles. Affichez sur un même graphe la marge EGT brute (points) et la marge lissée (ligne).\n",
    "http://pandas.pydata.org/pandas-docs/stable/generated/pandas.Series.rolling.html#pandas.Series.rolling\n",
    "\n",
    "Utilisez une fenêtre glissante de taille 15 cycles, avec un minimum de 3 observations non-nulles par fenêtre (paramètre `min_periods`)."
   ]
  },
  {
   "cell_type": "code",
   "execution_count": 101,
   "metadata": {},
   "outputs": [
    {
     "name": "stdout",
     "output_type": "stream",
     "text": [
      "cycles\n",
      "0.0           NaN\n",
      "1.0           NaN\n",
      "2.0      56.81040\n",
      "3.0      56.01835\n",
      "4.0      55.22630\n",
      "           ...   \n",
      "159.0         NaN\n",
      "160.0         NaN\n",
      "161.0         NaN\n",
      "162.0         NaN\n",
      "163.0         NaN\n",
      "Name: egthdm, Length: 164, dtype: float64\n",
      "Nbr de NaN : 44\n"
     ]
    }
   ],
   "source": [
    "med_glissante_cycle=egt_full.rolling(15,min_periods=3).median()\n",
    "print(med_glissante_cycle)\n",
    "print(\"Nbr de NaN : \"+str(med_glissante_cycle.isna().sum()))"
   ]
  },
  {
   "cell_type": "code",
   "execution_count": 122,
   "metadata": {},
   "outputs": [
    {
     "data": {
      "image/png": "[encoded data removed]",
      "text/plain": [
       "<Figure size 432x288 with 1 Axes>"
      ]
     },
     "metadata": {
      "needs_background": "light"
     },
     "output_type": "display_data"
    }
   ],
   "source": [
    "sns.lineplot(data=med_glissante_cycle,label=\"Lissé\", linewidth=3)\n",
    "sns.lineplot(data=egt_full,label=\"Brut\",linestyle=\"--\")\n",
    "plt.legend()\n",
    "plt.title(\"Lissage des données egthdm selon le cycle\")\n",
    "plt.show()\n"
   ]
  },
  {
   "cell_type": "markdown",
   "metadata": {},
   "source": [
    "#### 2.6. Nettoyage de la marge EGT lissée\n",
    "\n",
    "La marge EGT ne peut être que décroissante, sauf en cas de nettoyage moteur (waterwash) ou peut-être à cause d'éléments extérieurs, on va donc éviter de tenir compte des remontées de marge et ne prendre en considération que les points descendants. Cette estimation est pessimiste mais évite de prendre en compte ces facteurs extérieurs.\n",
    "\n",
    "1. Calculez une série ne contenant que les valeurs décroissantes de la amrge EGT lissée.\n",
    "2. Sur le graphique précédent, ajoutez ces points par-dessus la courbe."
   ]
  },
  {
   "cell_type": "code",
   "execution_count": 128,
   "metadata": {},
   "outputs": [],
   "source": [
    "med_glissante_cycle_dec=med_glissante_cycle.copy()\n",
    "memoire=med_glissante_cycle[0]\n",
    "for indice,x in enumerate(med_glissante_cycle):\n",
    "\tif(x>memoire):\n",
    "\t\tmed_glissante_cycle_dec.drop(indice,inplace=True)\n",
    "\telse:\n",
    "\t\tmemoire=x\n"
   ]
  },
  {
   "cell_type": "code",
   "execution_count": 131,
   "metadata": {},
   "outputs": [
    {
     "data": {
      "image/png": "[encoded data removed]",
      "text/plain": [
       "<Figure size 432x288 with 1 Axes>"
      ]
     },
     "metadata": {
      "needs_background": "light"
     },
     "output_type": "display_data"
    }
   ],
   "source": [
    "sns.lineplot(data=med_glissante_cycle_dec,label=\"EGT lissé nettoyé\")\n",
    "plt.title(\"Nettoyage de la marge EGT lissé\")\n",
    "plt.show()"
   ]
  },
  {
   "cell_type": "markdown",
   "metadata": {},
   "source": [
    "#### 2.7. Estimation de la pente de la marge EGT\n",
    "\n",
    "La pente de la marge EGT est un indicateur très intéressant de l'usure du moteur. On l'estime par régression linéaire par rapport au nombre de cycles. Pour cela, on utilise les points conservés précédemment qui constituent une estimation pessimiste.\n",
    "\n",
    "Pour la régression linéaire, on utilisera le modèle `LinearRegression` de scikit-learn. Son utilisation est similaire aux autres modèles de scikit-learn :\n",
    "```python\n",
    "lr = LinearRegression()\n",
    "model = lr.fit(X, y)\n",
    "```\n",
    "\n",
    "1. Apprenez un modèle `LinearRegression` sur les données calculées précédemment. Affichez les coefficients et l'ordonnée à l'origine (_intercept_) du modèle obtenu. Les valeurs sont-elles cohérentes ? (indices : pour passer d'un objet pandas (DataFrame ou Series) à un array numpy, utilisez la propriété `values`)\n",
    "2. Tracez la droite obtenue sur le graphe précédent."
   ]
  },
  {
   "cell_type": "code",
   "execution_count": 147,
   "metadata": {},
   "outputs": [],
   "source": [
    "from sklearn.linear_model import LinearRegression"
   ]
  },
  {
   "cell_type": "code",
   "execution_count": 178,
   "metadata": {},
   "outputs": [
    {
     "name": "stdout",
     "output_type": "stream",
     "text": [
      "coefficient [-0.08532176]\n",
      "intercept 56.19046323032169\n"
     ]
    }
   ],
   "source": [
    "med_glissante_cycle_dec_dropna=med_glissante_cycle_dec.dropna(axis=0)\n",
    "x=med_glissante_cycle_dec_dropna.index.values\n",
    "med_glissante_cycle_dec_np=med_glissante_cycle_dec_dropna.values\n",
    "\n",
    "lr = LinearRegression()\n",
    "model = lr.fit(x.reshape(-1,1),med_glissante_cycle_dec_np.reshape(-1,1))\n",
    "print(\"coefficient \"+str(model.coef_[0]))\n",
    "print(\"intercept \"+str(model.intercept_[0]))"
   ]
  },
  {
   "cell_type": "code",
   "execution_count": 179,
   "metadata": {},
   "outputs": [
    {
     "data": {
      "image/png": "[encoded data removed]",
      "text/plain": [
       "<Figure size 432x288 with 1 Axes>"
      ]
     },
     "metadata": {
      "needs_background": "light"
     },
     "output_type": "display_data"
    }
   ],
   "source": [
    "\n",
    "plt.plot(x.reshape(-1,1),(x*model.coef_+model.intercept_).reshape(-1,1),label=\"regression\")\n",
    "sns.lineplot(data=med_glissante_cycle_dec,label=\"EGT lissé nettoyé\")\n",
    "plt.title(\"Nettoyage de la marge EGT lissé\")\n",
    "plt.show()"
   ]
  },
  {
   "cell_type": "markdown",
   "metadata": {},
   "source": [
    "### 3. Écriture d'une fonction de calcul de la pente EGT pour tous les moteurs\n",
    "\n",
    "Tout d'abord, bravo si vous êtes arrivés jusque là ! Toutes les opérations que l'on a effectuées ont permis d'estimer la pente de la marge EGT du moteur 179 de l'avion 190 de type 10, et donc son usure. Maintenant, on souhaite répéter ce processus sur tous les moteurs ! Pour cela, il faudra créer une fonction Python générique, prenant en entrée l'ensemble du jeu de données ACARS et produisant en sortie l'ensemble des pentes/intercept des modèles de régression linéaire appris pour chaque moteur.\n",
    "\n",
    "L'un des intérêts est de pouvoir prédire l'usure des moteurs, après un nombre de cycles donné.\n",
    "\n",
    "Voici le squelette de la fonction à écrire (en ré-utilisant et adaptant tout les morceaux de code précédents) :\n",
    "\n",
    "```python\n",
    "def regress_egt_margin(df_acars):\n",
    "    ...\n",
    "    return df_regress_models # Contient les pentes et intercept pour tous les moteurs\n",
    "```"
   ]
  },
  {
   "cell_type": "code",
   "execution_count": 332,
   "metadata": {},
   "outputs": [],
   "source": [
    "from cmath import nan\n",
    "\n",
    "\n",
    "def regress_egt_margin(df_acars):\n",
    "\tdf_regress_model=pd.DataFrame({'pente': [],\n",
    "\n",
    "                   'intercept': []})\n",
    "\tdf_regress_model.index.name=\"engine_number\"\n",
    "\tlr = LinearRegression()\n",
    "\n",
    "\tfor moteur in pd.unique(df_acars[\"engine_number\"]):\n",
    "\t\tmoteur_av=df_acars[df_acars[\"engine_number\"]==moteur]\n",
    "\t\tegt=pd.Series(moteur_av.groupby(\"cycles\").max()[\"egthdm\"])\n",
    "\t\tegt_full=egt.reindex(np.arange(moteur_av[\"cycles\"].unique().min(),moteur_av[\"cycles\"].unique().max()+1))\n",
    "\t\t\n",
    "\t\t#lissage\n",
    "\t\tmed_glissante_cycle=egt_full.rolling(15,min_periods=3).median()\n",
    "\n",
    "\t\t#extraction sous suite decroissante\n",
    "\t\tmed_glissante_cycle_dec=med_glissante_cycle.copy()\n",
    "\t\tindexa=med_glissante_cycle.index #pour recuperer le num du cycle selon l'indice dans enumerate\n",
    "\t\tmemoire=med_glissante_cycle.values[0]  # bug si je fonctionne avec les serie (pb de size output jsp quoi)\n",
    "\t\tindice=0\n",
    "\t\tfor indice,x in enumerate(med_glissante_cycle):\n",
    "\t\t\tif(x>memoire):\n",
    "\t\t\t\tmed_glissante_cycle_dec.drop(indexa[indice],inplace=True)\n",
    "\t\t\telse:\n",
    "\t\t\t\tmemoire=x\n",
    "\t\t#enleve les NaN\n",
    "\t\tmed_glissante_cycle_dec_dropna=med_glissante_cycle_dec.dropna(axis=0)\n",
    "\t\tx=med_glissante_cycle_dec_dropna.index.values\n",
    "\t\tmed_glissante_cycle_dec_np=med_glissante_cycle_dec_dropna.values\n",
    "\n",
    "\t\t#regression lineaire\n",
    "\t\t# if pour pas faire de regression si on a pas plus de 2 points mini\n",
    "\t\tif (x.reshape(-1,1).shape[0]<2):\n",
    "\t\t\tprint(\"pb pas assez de donnee pour le moteur \"+str(moteur))\n",
    "\t\t\tdf_regress_model.loc[moteur]=[float(\"nan\"),float(\"nan\")]\n",
    "\t\telse:\n",
    "\t\t\tmodel = lr.fit(x.reshape(-1,1),med_glissante_cycle_dec_np.reshape(-1,1))\n",
    "\t\t\tcoeff=model.coef_[0]\n",
    "\t\t\tintercept=model.intercept_[0]\n",
    "\t\t\tdf_regress_model.loc[moteur]=[coeff[0],intercept]\n",
    "\t\t#print(df_regress_model)\n",
    "\treturn(df_regress_model)"
   ]
  },
  {
   "cell_type": "code",
   "execution_count": 333,
   "metadata": {},
   "outputs": [
    {
     "name": "stdout",
     "output_type": "stream",
     "text": [
      "pb pas assez de donnee pour le moteur 13\n",
      "pb pas assez de donnee pour le moteur 88\n",
      "pb pas assez de donnee pour le moteur 97\n",
      "pb pas assez de donnee pour le moteur 98\n",
      "pb pas assez de donnee pour le moteur 120\n",
      "pb pas assez de donnee pour le moteur 123\n",
      "pb pas assez de donnee pour le moteur 128\n",
      "pb pas assez de donnee pour le moteur 135\n",
      "pb pas assez de donnee pour le moteur 140\n",
      "pb pas assez de donnee pour le moteur 142\n",
      "pb pas assez de donnee pour le moteur 143\n",
      "pb pas assez de donnee pour le moteur 159\n",
      "pb pas assez de donnee pour le moteur 164\n",
      "pb pas assez de donnee pour le moteur 165\n",
      "pb pas assez de donnee pour le moteur 166\n",
      "pb pas assez de donnee pour le moteur 176\n",
      "pb pas assez de donnee pour le moteur 178\n",
      "pb pas assez de donnee pour le moteur 282\n",
      "pb pas assez de donnee pour le moteur 289\n",
      "pb pas assez de donnee pour le moteur 72\n",
      "pb pas assez de donnee pour le moteur 73\n",
      "pb pas assez de donnee pour le moteur 78\n",
      "pb pas assez de donnee pour le moteur 83\n",
      "pb pas assez de donnee pour le moteur 29\n",
      "pb pas assez de donnee pour le moteur 28\n"
     ]
    },
    {
     "data": {
      "text/html": [
       "<div>\n",
       "<style scoped>\n",
       "    .dataframe tbody tr th:only-of-type {\n",
       "        vertical-align: middle;\n",
       "    }\n",
       "\n",
       "    .dataframe tbody tr th {\n",
       "        vertical-align: top;\n",
       "    }\n",
       "\n",
       "    .dataframe thead th {\n",
       "        text-align: right;\n",
       "    }\n",
       "</style>\n",
       "<table border=\"1\" class=\"dataframe\">\n",
       "  <thead>\n",
       "    <tr style=\"text-align: right;\">\n",
       "      <th></th>\n",
       "      <th>pente</th>\n",
       "      <th>intercept</th>\n",
       "    </tr>\n",
       "    <tr>\n",
       "      <th>engine_number</th>\n",
       "      <th></th>\n",
       "      <th></th>\n",
       "    </tr>\n",
       "  </thead>\n",
       "  <tbody>\n",
       "    <tr>\n",
       "      <th>186</th>\n",
       "      <td>-0.012679</td>\n",
       "      <td>55.687576</td>\n",
       "    </tr>\n",
       "    <tr>\n",
       "      <th>187</th>\n",
       "      <td>-0.035691</td>\n",
       "      <td>57.977670</td>\n",
       "    </tr>\n",
       "    <tr>\n",
       "      <th>184</th>\n",
       "      <td>-0.038658</td>\n",
       "      <td>44.428151</td>\n",
       "    </tr>\n",
       "    <tr>\n",
       "      <th>188</th>\n",
       "      <td>-0.031360</td>\n",
       "      <td>58.658386</td>\n",
       "    </tr>\n",
       "    <tr>\n",
       "      <th>1</th>\n",
       "      <td>-0.159916</td>\n",
       "      <td>94.659143</td>\n",
       "    </tr>\n",
       "    <tr>\n",
       "      <th>...</th>\n",
       "      <td>...</td>\n",
       "      <td>...</td>\n",
       "    </tr>\n",
       "    <tr>\n",
       "      <th>25</th>\n",
       "      <td>-0.008465</td>\n",
       "      <td>111.134943</td>\n",
       "    </tr>\n",
       "    <tr>\n",
       "      <th>15</th>\n",
       "      <td>0.000000</td>\n",
       "      <td>115.422000</td>\n",
       "    </tr>\n",
       "    <tr>\n",
       "      <th>81</th>\n",
       "      <td>-0.147747</td>\n",
       "      <td>110.055802</td>\n",
       "    </tr>\n",
       "    <tr>\n",
       "      <th>14</th>\n",
       "      <td>-0.057313</td>\n",
       "      <td>122.625231</td>\n",
       "    </tr>\n",
       "    <tr>\n",
       "      <th>28</th>\n",
       "      <td>NaN</td>\n",
       "      <td>NaN</td>\n",
       "    </tr>\n",
       "  </tbody>\n",
       "</table>\n",
       "<p>200 rows × 2 columns</p>\n",
       "</div>"
      ],
      "text/plain": [
       "                  pente   intercept\n",
       "engine_number                      \n",
       "186           -0.012679   55.687576\n",
       "187           -0.035691   57.977670\n",
       "184           -0.038658   44.428151\n",
       "188           -0.031360   58.658386\n",
       "1             -0.159916   94.659143\n",
       "...                 ...         ...\n",
       "25            -0.008465  111.134943\n",
       "15             0.000000  115.422000\n",
       "81            -0.147747  110.055802\n",
       "14            -0.057313  122.625231\n",
       "28                  NaN         NaN\n",
       "\n",
       "[200 rows x 2 columns]"
      ]
     },
     "execution_count": 333,
     "metadata": {},
     "output_type": "execute_result"
    }
   ],
   "source": [
    "regress_egt_margin(accarsb2)"
   ]
  },
  {
   "cell_type": "markdown",
   "metadata": {},
   "source": [
    "### 4. Comparaison de l'usure des 3 types de moteurs"
   ]
  },
  {
   "cell_type": "markdown",
   "metadata": {},
   "source": [
    "#### 4.1. Prédiction de la marge EGT au 150ème par type de moteur\n",
    "\n",
    "1. Pour chaque moteur, utilisez son modèle de régression pour prédire la valeur de la marge EGT après 150 cycles d'utilisation (indice : méthode `apply`).\n",
    "2. Représentez ces valeurs par type moteur sur un box plot. Décrivez le résultat obtenu.\n",
    "3. Calculez la moyenne de la marge au 150ème cycle par type de moteur. Quel type de moteur a la plus grande marge moyenne après 150 cycles ?"
   ]
  },
  {
   "cell_type": "code",
   "execution_count": null,
   "metadata": {},
   "outputs": [],
   "source": []
  },
  {
   "cell_type": "markdown",
   "metadata": {},
   "source": [
    "#### 4.3. Vitesse de décroissance de la marge EGT par type de moteur\n",
    "\n",
    "La pente de la marge EGT correspond à sa vitesse de décroissance par cycle.\n",
    "\n",
    "1. Quelle est son unité ?\n",
    "2. Représentez ces valeurs par type de moteur sur un boxplot. Décrivez le résultat obtenu.\n",
    "3. Calculez moyenne de la pente par type de moteur. Quel type de moteur a la plus faible vitesse de décroissance et donc la plus faible vitesse d'usure ?"
   ]
  },
  {
   "cell_type": "code",
   "execution_count": null,
   "metadata": {},
   "outputs": [],
   "source": []
  }
 ],
 "metadata": {
  "kernelspec": {
   "display_name": "Python 3.8.8 ('base')",
   "language": "python",
   "name": "python3"
  },
  "language_info": {
   "codemirror_mode": {
    "name": "ipython",
    "version": 3
   },
   "file_extension": ".py",
   "mimetype": "text/x-python",
   "name": "python",
   "nbconvert_exporter": "python",
   "pygments_lexer": "ipython3",
   "version": "3.8.8"
  },
  "vscode": {
   "interpreter": {
    "hash": "4733dbd1e8826140db1cc445337af4405e38ee5554ffe600d37e6c07e2b40485"
   }
  }
 },
 "nbformat": 4,
 "nbformat_minor": 4
}
