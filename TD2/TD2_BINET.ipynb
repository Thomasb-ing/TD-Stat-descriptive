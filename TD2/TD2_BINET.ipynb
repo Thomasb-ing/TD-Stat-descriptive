{
 "cells": [
  {
   "cell_type": "markdown",
   "metadata": {},
   "source": [
    "# TD 2 | Analyse et visualisation de données avec numpy, pandas et matplotlib\n",
    "\n",
    "\n",
    "Objectifs du TD :\n",
    "\n",
    "* découvrir la visualisation de données avec matplotlib\n",
    "* approfondir la maîtrise de numpy et pandas\n",
    "* effectuer une première analyse exploratoire de données (EDA)\n",
    "* découvrir la librairie de machine learning (ML) scikit-learn\n",
    "* appliquer des techniques basiques d'apprentissage non supervisé pour visualiser et classifier des données (PCA, $k$-means)\n",
    "\n",
    "---"
   ]
  },
  {
   "cell_type": "code",
   "execution_count": 3,
   "metadata": {},
   "outputs": [],
   "source": [
    "import pandas as pd\n",
    "import numpy as np\n",
    "import matplotlib.pyplot as plt"
   ]
  },
  {
   "cell_type": "code",
   "execution_count": 4,
   "metadata": {},
   "outputs": [],
   "source": [
    "# Ne pas modifier\n",
    "vol = pd.read_csv(\"../data/Vol010.csv\").drop(0).dropna(how='any').iloc[::10] # On ne garde qu'un point sur 10 pour limiter les points à affichervol\n",
    "vol.index = np.arange(vol.shape[0])\n",
    "vol['t'] = pd.to_datetime(vol['t'])\n",
    "vol[vol.columns[1:]] = vol[vol.columns[1:]].apply(pd.to_numeric)\n",
    "vol['FLIGHT_MOD'] = vol['FLIGHT_MOD'].apply(int)"
   ]
  },
  {
   "cell_type": "code",
   "execution_count": 5,
   "metadata": {},
   "outputs": [
    {
     "name": "stdout",
     "output_type": "stream",
     "text": [
      "(2283, 26)\n"
     ]
    },
    {
     "data": {
      "text/html": [
       "<div>\n",
       "<style scoped>\n",
       "    .dataframe tbody tr th:only-of-type {\n",
       "        vertical-align: middle;\n",
       "    }\n",
       "\n",
       "    .dataframe tbody tr th {\n",
       "        vertical-align: top;\n",
       "    }\n",
       "\n",
       "    .dataframe thead th {\n",
       "        text-align: right;\n",
       "    }\n",
       "</style>\n",
       "<table border=\"1\" class=\"dataframe\">\n",
       "  <thead>\n",
       "    <tr style=\"text-align: right;\">\n",
       "      <th></th>\n",
       "      <th>t</th>\n",
       "      <th>EGT_SEL</th>\n",
       "      <th>FLIGHT_MOD</th>\n",
       "      <th>FMV_SEL</th>\n",
       "      <th>HPTC_SEL</th>\n",
       "      <th>LPTC_SEL</th>\n",
       "      <th>N1_SEL</th>\n",
       "      <th>N2_ACTSEL</th>\n",
       "      <th>OIL_P</th>\n",
       "      <th>OIL_TEMP</th>\n",
       "      <th>...</th>\n",
       "      <th>T25_SEL</th>\n",
       "      <th>T3_SEL</th>\n",
       "      <th>VBV_SEL</th>\n",
       "      <th>VIB_CN1</th>\n",
       "      <th>VIB_CN2</th>\n",
       "      <th>VIB_TN1</th>\n",
       "      <th>VIB_TN2</th>\n",
       "      <th>VSV_SEL</th>\n",
       "      <th>WFM_SEL</th>\n",
       "      <th>XM</th>\n",
       "    </tr>\n",
       "  </thead>\n",
       "  <tbody>\n",
       "    <tr>\n",
       "      <th>0</th>\n",
       "      <td>2011-09-15 14:26:02.875</td>\n",
       "      <td>335.984000</td>\n",
       "      <td>1</td>\n",
       "      <td>0.0</td>\n",
       "      <td>0.0</td>\n",
       "      <td>0.0</td>\n",
       "      <td>0.0</td>\n",
       "      <td>0.0</td>\n",
       "      <td>0.000</td>\n",
       "      <td>177.3740</td>\n",
       "      <td>...</td>\n",
       "      <td>-128.0</td>\n",
       "      <td>0.0</td>\n",
       "      <td>0.0</td>\n",
       "      <td>0.0</td>\n",
       "      <td>0.0</td>\n",
       "      <td>0.0</td>\n",
       "      <td>0.0</td>\n",
       "      <td>0.0</td>\n",
       "      <td>7679.84</td>\n",
       "      <td>0.15</td>\n",
       "    </tr>\n",
       "    <tr>\n",
       "      <th>1</th>\n",
       "      <td>2011-09-15 14:26:05.375</td>\n",
       "      <td>72.000600</td>\n",
       "      <td>1</td>\n",
       "      <td>0.0</td>\n",
       "      <td>0.0</td>\n",
       "      <td>0.0</td>\n",
       "      <td>0.0</td>\n",
       "      <td>0.0</td>\n",
       "      <td>0.000</td>\n",
       "      <td>68.0000</td>\n",
       "      <td>...</td>\n",
       "      <td>-128.0</td>\n",
       "      <td>0.0</td>\n",
       "      <td>0.0</td>\n",
       "      <td>0.0</td>\n",
       "      <td>0.0</td>\n",
       "      <td>0.0</td>\n",
       "      <td>0.0</td>\n",
       "      <td>0.0</td>\n",
       "      <td>0.00</td>\n",
       "      <td>0.15</td>\n",
       "    </tr>\n",
       "    <tr>\n",
       "      <th>2</th>\n",
       "      <td>2011-09-15 14:26:07.875</td>\n",
       "      <td>72.001100</td>\n",
       "      <td>1</td>\n",
       "      <td>0.0</td>\n",
       "      <td>0.0</td>\n",
       "      <td>0.0</td>\n",
       "      <td>0.0</td>\n",
       "      <td>0.0</td>\n",
       "      <td>0.000</td>\n",
       "      <td>68.0000</td>\n",
       "      <td>...</td>\n",
       "      <td>-128.0</td>\n",
       "      <td>0.0</td>\n",
       "      <td>0.0</td>\n",
       "      <td>0.0</td>\n",
       "      <td>0.0</td>\n",
       "      <td>0.0</td>\n",
       "      <td>0.0</td>\n",
       "      <td>0.0</td>\n",
       "      <td>0.00</td>\n",
       "      <td>0.15</td>\n",
       "    </tr>\n",
       "    <tr>\n",
       "      <th>3</th>\n",
       "      <td>2011-09-15 14:26:10.375</td>\n",
       "      <td>527.978000</td>\n",
       "      <td>1</td>\n",
       "      <td>0.0</td>\n",
       "      <td>0.0</td>\n",
       "      <td>0.0</td>\n",
       "      <td>0.0</td>\n",
       "      <td>0.0</td>\n",
       "      <td>0.000</td>\n",
       "      <td>68.0000</td>\n",
       "      <td>...</td>\n",
       "      <td>-128.0</td>\n",
       "      <td>0.0</td>\n",
       "      <td>0.0</td>\n",
       "      <td>0.0</td>\n",
       "      <td>0.0</td>\n",
       "      <td>0.0</td>\n",
       "      <td>0.0</td>\n",
       "      <td>0.0</td>\n",
       "      <td>10752.10</td>\n",
       "      <td>0.15</td>\n",
       "    </tr>\n",
       "    <tr>\n",
       "      <th>4</th>\n",
       "      <td>2011-09-15 14:26:12.875</td>\n",
       "      <td>-0.001335</td>\n",
       "      <td>1</td>\n",
       "      <td>0.0</td>\n",
       "      <td>0.0</td>\n",
       "      <td>0.0</td>\n",
       "      <td>0.0</td>\n",
       "      <td>0.0</td>\n",
       "      <td>456.002</td>\n",
       "      <td>44.6249</td>\n",
       "      <td>...</td>\n",
       "      <td>-128.0</td>\n",
       "      <td>0.0</td>\n",
       "      <td>0.0</td>\n",
       "      <td>0.0</td>\n",
       "      <td>0.0</td>\n",
       "      <td>0.0</td>\n",
       "      <td>0.0</td>\n",
       "      <td>0.0</td>\n",
       "      <td>0.00</td>\n",
       "      <td>0.15</td>\n",
       "    </tr>\n",
       "  </tbody>\n",
       "</table>\n",
       "<p>5 rows × 26 columns</p>\n",
       "</div>"
      ],
      "text/plain": [
       "                        t     EGT_SEL  FLIGHT_MOD  FMV_SEL  HPTC_SEL  \\\n",
       "0 2011-09-15 14:26:02.875  335.984000           1      0.0       0.0   \n",
       "1 2011-09-15 14:26:05.375   72.000600           1      0.0       0.0   \n",
       "2 2011-09-15 14:26:07.875   72.001100           1      0.0       0.0   \n",
       "3 2011-09-15 14:26:10.375  527.978000           1      0.0       0.0   \n",
       "4 2011-09-15 14:26:12.875   -0.001335           1      0.0       0.0   \n",
       "\n",
       "   LPTC_SEL  N1_SEL  N2_ACTSEL    OIL_P  OIL_TEMP  ...  T25_SEL  T3_SEL  \\\n",
       "0       0.0     0.0        0.0    0.000  177.3740  ...   -128.0     0.0   \n",
       "1       0.0     0.0        0.0    0.000   68.0000  ...   -128.0     0.0   \n",
       "2       0.0     0.0        0.0    0.000   68.0000  ...   -128.0     0.0   \n",
       "3       0.0     0.0        0.0    0.000   68.0000  ...   -128.0     0.0   \n",
       "4       0.0     0.0        0.0  456.002   44.6249  ...   -128.0     0.0   \n",
       "\n",
       "   VBV_SEL  VIB_CN1  VIB_CN2  VIB_TN1  VIB_TN2  VSV_SEL   WFM_SEL    XM  \n",
       "0      0.0      0.0      0.0      0.0      0.0      0.0   7679.84  0.15  \n",
       "1      0.0      0.0      0.0      0.0      0.0      0.0      0.00  0.15  \n",
       "2      0.0      0.0      0.0      0.0      0.0      0.0      0.00  0.15  \n",
       "3      0.0      0.0      0.0      0.0      0.0      0.0  10752.10  0.15  \n",
       "4      0.0      0.0      0.0      0.0      0.0      0.0      0.00  0.15  \n",
       "\n",
       "[5 rows x 26 columns]"
      ]
     },
     "execution_count": 5,
     "metadata": {},
     "output_type": "execute_result"
    }
   ],
   "source": [
    "print(vol.shape)\n",
    "vol.head()"
   ]
  },
  {
   "cell_type": "code",
   "execution_count": 6,
   "metadata": {},
   "outputs": [],
   "source": [
    "import seaborn as sns"
   ]
  },
  {
   "cell_type": "markdown",
   "metadata": {},
   "source": [
    "EXERCICE - Plot avec titres et légende\n",
    "\n",
    "Explorez la documentation de pyplot pour ajouter au graphe :\n",
    "1. Un titre à la figure\n",
    "2. Des titres aux axes\n",
    "3. Une légende"
   ]
  },
  {
   "cell_type": "code",
   "execution_count": 7,
   "metadata": {},
   "outputs": [
    {
     "data": {
      "text/plain": [
       "[Text(0.5, 1.0, 'Map des corrélations'),\n",
       " Text(0.5, 113.09375, 'Donnée'),\n",
       " Text(158.09375, 0.5, 'Donnée')]"
      ]
     },
     "execution_count": 7,
     "metadata": {},
     "output_type": "execute_result"
    },
    {
     "data": {
      "image/png": "[encoded data removed]",
      "text/plain": [
       "<Figure size 1440x1080 with 2 Axes>"
      ]
     },
     "metadata": {
      "needs_background": "light"
     },
     "output_type": "display_data"
    }
   ],
   "source": [
    "# calculate the correlation matrix\n",
    "corr = vol.corr()\n",
    "\n",
    "# plot the heatmap\n",
    "fig = plt.figure(figsize=(20,15))\n",
    "\n",
    "graph=sns.heatmap(corr, \n",
    "        xticklabels=corr.columns,\n",
    "        yticklabels=corr.columns, annot=False, fmt='.2f', vmin=-1, vmax=1, center=0, \n",
    "        cmap=sns.diverging_palette(20, 220, n=200))\n",
    "graph.set(title='Map des corrélations',xlabel =\"Donnée\", ylabel =\"Donnée\")\n",
    "\n",
    "# Essayer avec annot=True"
   ]
  },
  {
   "cell_type": "code",
   "execution_count": 8,
   "metadata": {},
   "outputs": [
    {
     "data": {
      "text/plain": [
       "<matplotlib.legend.Legend at 0x1e4bcb2f400>"
      ]
     },
     "execution_count": 8,
     "metadata": {},
     "output_type": "execute_result"
    },
    {
     "data": {
      "image/png": "[encoded data removed]",
      "text/plain": [
       "<Figure size 1800x360 with 2 Axes>"
      ]
     },
     "metadata": {
      "needs_background": "light"
     },
     "output_type": "display_data"
    }
   ],
   "source": [
    "fig = plt.figure(figsize=(25,5))\n",
    "\n",
    "plt.subplot(1, 2, 1)\n",
    "plt.plot(vol['t'], vol['EGT_SEL'], 'b--', linewidth=1, label=\"EGT_SEL\")\n",
    "plt.ylim(-600,850)\n",
    "\n",
    "plt.subplot(1, 2, 2)\n",
    "plt.plot(vol['t'], vol['T3_SEL'], 'k-',label=\"T3_SEL\")\n",
    "plt.ylim(-600,850)\n",
    "fig.legend()"
   ]
  },
  {
   "cell_type": "markdown",
   "metadata": {},
   "source": [
    "### Bar plot : temps passé dans chaque phase de vol avec `plt.bar`\n",
    "\n",
    "Pour afficher un ensemble réduit de valeurs, le diagramme le plus adapté est le bar plot. Tout d'abord, il nous faut calculer le nombre de lignes du vol par phase de vol. La phase de vol est symbolisée par la variable `FLIGHT_MOD`. On suppose la correspondance suivante :\n",
    "\n",
    "`FLIGHT_MOD` | Phase de vol\n",
    "-------------|-------------\n",
    "1 | taxi\n",
    "2 | take_off\n",
    "3 | begin_climb\n",
    "4 | climb\n",
    "5 | cruise_climb\n",
    "6 | cruise\n",
    "7 | descent\n",
    "8 | approach\n",
    "9 | flare\n",
    "10 | landing"
   ]
  },
  {
   "cell_type": "code",
   "execution_count": 9,
   "metadata": {},
   "outputs": [
    {
     "data": {
      "text/plain": [
       "<matplotlib.legend.Legend at 0x1e4bcb6f6d0>"
      ]
     },
     "execution_count": 9,
     "metadata": {},
     "output_type": "execute_result"
    },
    {
     "data": {
      "image/png": "[encoded data removed]",
      "text/plain": [
       "<Figure size 432x288 with 1 Axes>"
      ]
     },
     "metadata": {
      "needs_background": "light"
     },
     "output_type": "display_data"
    }
   ],
   "source": [
    "plt.plot(vol['t'], vol['FLIGHT_MOD'], label='FLIGHT_MOD')\n",
    "plt.legend()"
   ]
  },
  {
   "cell_type": "markdown",
   "metadata": {},
   "source": [
    "EXERCICE - Correpondance FLIGHT_MOD/phase de vol\n",
    "1. Créez un liste définissant la correspondance FLIGHT_MOD/phase de vol\n",
    "2. Ajoutez une nouvelle colonne 'FLIGHT_PHASE' au DataFrame contenant le nom de la phase. Une possibilité est d'utiliser la méthode \"apply\" et une fonction anonyme (lambda)."
   ]
  },
  {
   "cell_type": "code",
   "execution_count": 10,
   "metadata": {},
   "outputs": [],
   "source": [
    "INDEX_phase_vol=[\"taxi\",\"take_off\",\"begin_clim\",\"climb\",\"cruise_climb\",\"cruise\",\"descent\",\"approach\",\"flare\",\"landing\"]"
   ]
  },
  {
   "cell_type": "code",
   "execution_count": 11,
   "metadata": {},
   "outputs": [],
   "source": [
    "def func(i):\n",
    "\treturn(INDEX_phase_vol[i-1])\n",
    "\n",
    "vol[\"FLIGHT_PHASE\"]=vol['FLIGHT_MOD'].apply(func)"
   ]
  },
  {
   "cell_type": "code",
   "execution_count": 12,
   "metadata": {},
   "outputs": [
    {
     "data": {
      "text/html": [
       "<div>\n",
       "<style scoped>\n",
       "    .dataframe tbody tr th:only-of-type {\n",
       "        vertical-align: middle;\n",
       "    }\n",
       "\n",
       "    .dataframe tbody tr th {\n",
       "        vertical-align: top;\n",
       "    }\n",
       "\n",
       "    .dataframe thead th {\n",
       "        text-align: right;\n",
       "    }\n",
       "</style>\n",
       "<table border=\"1\" class=\"dataframe\">\n",
       "  <thead>\n",
       "    <tr style=\"text-align: right;\">\n",
       "      <th></th>\n",
       "      <th>t</th>\n",
       "      <th>EGT_SEL</th>\n",
       "      <th>FLIGHT_MOD</th>\n",
       "      <th>FMV_SEL</th>\n",
       "      <th>HPTC_SEL</th>\n",
       "      <th>LPTC_SEL</th>\n",
       "      <th>N1_SEL</th>\n",
       "      <th>N2_ACTSEL</th>\n",
       "      <th>OIL_P</th>\n",
       "      <th>OIL_TEMP</th>\n",
       "      <th>...</th>\n",
       "      <th>T3_SEL</th>\n",
       "      <th>VBV_SEL</th>\n",
       "      <th>VIB_CN1</th>\n",
       "      <th>VIB_CN2</th>\n",
       "      <th>VIB_TN1</th>\n",
       "      <th>VIB_TN2</th>\n",
       "      <th>VSV_SEL</th>\n",
       "      <th>WFM_SEL</th>\n",
       "      <th>XM</th>\n",
       "      <th>FLIGHT_PHASE</th>\n",
       "    </tr>\n",
       "  </thead>\n",
       "  <tbody>\n",
       "    <tr>\n",
       "      <th>0</th>\n",
       "      <td>2011-09-15 14:26:02.875</td>\n",
       "      <td>335.984000</td>\n",
       "      <td>1</td>\n",
       "      <td>0.0</td>\n",
       "      <td>0.0</td>\n",
       "      <td>0.0</td>\n",
       "      <td>0.0</td>\n",
       "      <td>0.0</td>\n",
       "      <td>0.000</td>\n",
       "      <td>177.3740</td>\n",
       "      <td>...</td>\n",
       "      <td>0.0</td>\n",
       "      <td>0.0</td>\n",
       "      <td>0.0</td>\n",
       "      <td>0.0</td>\n",
       "      <td>0.0</td>\n",
       "      <td>0.0</td>\n",
       "      <td>0.0</td>\n",
       "      <td>7679.84</td>\n",
       "      <td>0.15</td>\n",
       "      <td>taxi</td>\n",
       "    </tr>\n",
       "    <tr>\n",
       "      <th>1</th>\n",
       "      <td>2011-09-15 14:26:05.375</td>\n",
       "      <td>72.000600</td>\n",
       "      <td>1</td>\n",
       "      <td>0.0</td>\n",
       "      <td>0.0</td>\n",
       "      <td>0.0</td>\n",
       "      <td>0.0</td>\n",
       "      <td>0.0</td>\n",
       "      <td>0.000</td>\n",
       "      <td>68.0000</td>\n",
       "      <td>...</td>\n",
       "      <td>0.0</td>\n",
       "      <td>0.0</td>\n",
       "      <td>0.0</td>\n",
       "      <td>0.0</td>\n",
       "      <td>0.0</td>\n",
       "      <td>0.0</td>\n",
       "      <td>0.0</td>\n",
       "      <td>0.00</td>\n",
       "      <td>0.15</td>\n",
       "      <td>taxi</td>\n",
       "    </tr>\n",
       "    <tr>\n",
       "      <th>2</th>\n",
       "      <td>2011-09-15 14:26:07.875</td>\n",
       "      <td>72.001100</td>\n",
       "      <td>1</td>\n",
       "      <td>0.0</td>\n",
       "      <td>0.0</td>\n",
       "      <td>0.0</td>\n",
       "      <td>0.0</td>\n",
       "      <td>0.0</td>\n",
       "      <td>0.000</td>\n",
       "      <td>68.0000</td>\n",
       "      <td>...</td>\n",
       "      <td>0.0</td>\n",
       "      <td>0.0</td>\n",
       "      <td>0.0</td>\n",
       "      <td>0.0</td>\n",
       "      <td>0.0</td>\n",
       "      <td>0.0</td>\n",
       "      <td>0.0</td>\n",
       "      <td>0.00</td>\n",
       "      <td>0.15</td>\n",
       "      <td>taxi</td>\n",
       "    </tr>\n",
       "    <tr>\n",
       "      <th>3</th>\n",
       "      <td>2011-09-15 14:26:10.375</td>\n",
       "      <td>527.978000</td>\n",
       "      <td>1</td>\n",
       "      <td>0.0</td>\n",
       "      <td>0.0</td>\n",
       "      <td>0.0</td>\n",
       "      <td>0.0</td>\n",
       "      <td>0.0</td>\n",
       "      <td>0.000</td>\n",
       "      <td>68.0000</td>\n",
       "      <td>...</td>\n",
       "      <td>0.0</td>\n",
       "      <td>0.0</td>\n",
       "      <td>0.0</td>\n",
       "      <td>0.0</td>\n",
       "      <td>0.0</td>\n",
       "      <td>0.0</td>\n",
       "      <td>0.0</td>\n",
       "      <td>10752.10</td>\n",
       "      <td>0.15</td>\n",
       "      <td>taxi</td>\n",
       "    </tr>\n",
       "    <tr>\n",
       "      <th>4</th>\n",
       "      <td>2011-09-15 14:26:12.875</td>\n",
       "      <td>-0.001335</td>\n",
       "      <td>1</td>\n",
       "      <td>0.0</td>\n",
       "      <td>0.0</td>\n",
       "      <td>0.0</td>\n",
       "      <td>0.0</td>\n",
       "      <td>0.0</td>\n",
       "      <td>456.002</td>\n",
       "      <td>44.6249</td>\n",
       "      <td>...</td>\n",
       "      <td>0.0</td>\n",
       "      <td>0.0</td>\n",
       "      <td>0.0</td>\n",
       "      <td>0.0</td>\n",
       "      <td>0.0</td>\n",
       "      <td>0.0</td>\n",
       "      <td>0.0</td>\n",
       "      <td>0.00</td>\n",
       "      <td>0.15</td>\n",
       "      <td>taxi</td>\n",
       "    </tr>\n",
       "  </tbody>\n",
       "</table>\n",
       "<p>5 rows × 27 columns</p>\n",
       "</div>"
      ],
      "text/plain": [
       "                        t     EGT_SEL  FLIGHT_MOD  FMV_SEL  HPTC_SEL  \\\n",
       "0 2011-09-15 14:26:02.875  335.984000           1      0.0       0.0   \n",
       "1 2011-09-15 14:26:05.375   72.000600           1      0.0       0.0   \n",
       "2 2011-09-15 14:26:07.875   72.001100           1      0.0       0.0   \n",
       "3 2011-09-15 14:26:10.375  527.978000           1      0.0       0.0   \n",
       "4 2011-09-15 14:26:12.875   -0.001335           1      0.0       0.0   \n",
       "\n",
       "   LPTC_SEL  N1_SEL  N2_ACTSEL    OIL_P  OIL_TEMP  ...  T3_SEL  VBV_SEL  \\\n",
       "0       0.0     0.0        0.0    0.000  177.3740  ...     0.0      0.0   \n",
       "1       0.0     0.0        0.0    0.000   68.0000  ...     0.0      0.0   \n",
       "2       0.0     0.0        0.0    0.000   68.0000  ...     0.0      0.0   \n",
       "3       0.0     0.0        0.0    0.000   68.0000  ...     0.0      0.0   \n",
       "4       0.0     0.0        0.0  456.002   44.6249  ...     0.0      0.0   \n",
       "\n",
       "   VIB_CN1  VIB_CN2  VIB_TN1  VIB_TN2  VSV_SEL   WFM_SEL    XM  FLIGHT_PHASE  \n",
       "0      0.0      0.0      0.0      0.0      0.0   7679.84  0.15          taxi  \n",
       "1      0.0      0.0      0.0      0.0      0.0      0.00  0.15          taxi  \n",
       "2      0.0      0.0      0.0      0.0      0.0      0.00  0.15          taxi  \n",
       "3      0.0      0.0      0.0      0.0      0.0  10752.10  0.15          taxi  \n",
       "4      0.0      0.0      0.0      0.0      0.0      0.00  0.15          taxi  \n",
       "\n",
       "[5 rows x 27 columns]"
      ]
     },
     "execution_count": 12,
     "metadata": {},
     "output_type": "execute_result"
    }
   ],
   "source": [
    "vol.head()"
   ]
  },
  {
   "cell_type": "markdown",
   "metadata": {},
   "source": [
    "EXERCICE - Calcul du nombre de lignes par phase de vol\n",
    "Groupez le DataFrame par phase de vol avec groupby() et aggrégez le résultat avec size().\n",
    "\n"
   ]
  },
  {
   "cell_type": "code",
   "execution_count": 13,
   "metadata": {},
   "outputs": [],
   "source": [
    "time_by_phase=vol.groupby([\"FLIGHT_PHASE\"]).size()"
   ]
  },
  {
   "cell_type": "code",
   "execution_count": 14,
   "metadata": {},
   "outputs": [
    {
     "data": {
      "text/plain": [
       "<BarContainer object of 10 artists>"
      ]
     },
     "execution_count": 14,
     "metadata": {},
     "output_type": "execute_result"
    },
    {
     "data": {
      "image/png": "[encoded data removed]",
      "text/plain": [
       "<Figure size 720x432 with 1 Axes>"
      ]
     },
     "metadata": {
      "needs_background": "light"
     },
     "output_type": "display_data"
    }
   ],
   "source": [
    "plt.figure(figsize=(10,6)) # la méthode figure permet de créer une nouvelle figure et de configurer ses paramètres\n",
    "plt.bar(np.arange(time_by_phase.size), time_by_phase, tick_label=time_by_phase.index.tolist())"
   ]
  },
  {
   "cell_type": "markdown",
   "metadata": {},
   "source": [
    "EXERCICE - Affichez la température T25 maximale par phase de vol sur un bar plot de couleur rouge."
   ]
  },
  {
   "cell_type": "code",
   "execution_count": 15,
   "metadata": {},
   "outputs": [],
   "source": [
    "T25_MAX_PHASE_VOL=vol.groupby([\"FLIGHT_PHASE\"])[\"T25_SEL\"].max()"
   ]
  },
  {
   "cell_type": "code",
   "execution_count": 16,
   "metadata": {},
   "outputs": [
    {
     "data": {
      "text/plain": [
       "FLIGHT_PHASE\n",
       "approach         73.5000\n",
       "begin_clim       75.5000\n",
       "climb           109.5000\n",
       "cruise           70.5000\n",
       "cruise_climb    111.0000\n",
       "descent          58.0000\n",
       "flare            56.7500\n",
       "landing          46.7500\n",
       "take_off         37.2500\n",
       "taxi             35.1406\n",
       "Name: T25_SEL, dtype: float64"
      ]
     },
     "execution_count": 16,
     "metadata": {},
     "output_type": "execute_result"
    }
   ],
   "source": [
    "T25_MAX_PHASE_VOL"
   ]
  },
  {
   "cell_type": "code",
   "execution_count": 18,
   "metadata": {},
   "outputs": [
    {
     "data": {
      "text/plain": [
       "<BarContainer object of 10 artists>"
      ]
     },
     "execution_count": 18,
     "metadata": {},
     "output_type": "execute_result"
    },
    {
     "data": {
      "image/png": "[encoded data removed]",
      "text/plain": [
       "<Figure size 720x432 with 1 Axes>"
      ]
     },
     "metadata": {
      "needs_background": "light"
     },
     "output_type": "display_data"
    }
   ],
   "source": [
    "plt.figure(figsize=(10,6))\n",
    "plt.bar(np.arange(T25_MAX_PHASE_VOL.size), T25_MAX_PHASE_VOL, tick_label=T25_MAX_PHASE_VOL.index.tolist(),color=\"r\")"
   ]
  }
 ],
 "metadata": {
  "kernelspec": {
   "display_name": "Python 3.8.8 ('base')",
   "language": "python",
   "name": "python3"
  },
  "language_info": {
   "codemirror_mode": {
    "name": "ipython",
    "version": 3
   },
   "file_extension": ".py",
   "mimetype": "text/x-python",
   "name": "python",
   "nbconvert_exporter": "python",
   "pygments_lexer": "ipython3",
   "version": "3.8.8"
  },
  "orig_nbformat": 4,
  "vscode": {
   "interpreter": {
    "hash": "4733dbd1e8826140db1cc445337af4405e38ee5554ffe600d37e6c07e2b40485"
   }
  }
 },
 "nbformat": 4,
 "nbformat_minor": 2
}
