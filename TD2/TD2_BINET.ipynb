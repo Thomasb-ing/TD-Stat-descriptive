{
 "cells": [
  {
   "cell_type": "markdown",
   "metadata": {},
   "source": [
    "# TD 2 | Analyse et visualisation de données avec numpy, pandas et matplotlib\n",
    "\n",
    "\n",
    "Objectifs du TD :\n",
    "\n",
    "* découvrir la visualisation de données avec matplotlib\n",
    "* approfondir la maîtrise de numpy et pandas\n",
    "* effectuer une première analyse exploratoire de données (EDA)\n",
    "* découvrir la librairie de machine learning (ML) scikit-learn\n",
    "* appliquer des techniques basiques d'apprentissage non supervisé pour visualiser et classifier des données (PCA, $k$-means)\n",
    "\n",
    "---"
   ]
  },
  {
   "cell_type": "code",
   "execution_count": 1,
   "metadata": {},
   "outputs": [],
   "source": [
    "import pandas as pd\n",
    "import numpy as np\n",
    "import matplotlib.pyplot as plt"
   ]
  },
  {
   "cell_type": "code",
   "execution_count": 2,
   "metadata": {},
   "outputs": [],
   "source": [
    "# Ne pas modifier\n",
    "vol = pd.read_csv(\"../data/Vol010.csv\").drop(0).dropna(how='any').iloc[::10] # On ne garde qu'un point sur 10 pour limiter les points à affichervol\n",
    "vol.index = np.arange(vol.shape[0])\n",
    "vol['t'] = pd.to_datetime(vol['t'])\n",
    "vol[vol.columns[1:]] = vol[vol.columns[1:]].apply(pd.to_numeric)\n",
    "vol['FLIGHT_MOD'] = vol['FLIGHT_MOD'].apply(int)"
   ]
  },
  {
   "cell_type": "code",
   "execution_count": 3,
   "metadata": {},
   "outputs": [
    {
     "name": "stdout",
     "output_type": "stream",
     "text": [
      "(2283, 26)\n"
     ]
    },
    {
     "data": {
      "text/html": [
       "<div>\n",
       "<style scoped>\n",
       "    .dataframe tbody tr th:only-of-type {\n",
       "        vertical-align: middle;\n",
       "    }\n",
       "\n",
       "    .dataframe tbody tr th {\n",
       "        vertical-align: top;\n",
       "    }\n",
       "\n",
       "    .dataframe thead th {\n",
       "        text-align: right;\n",
       "    }\n",
       "</style>\n",
       "<table border=\"1\" class=\"dataframe\">\n",
       "  <thead>\n",
       "    <tr style=\"text-align: right;\">\n",
       "      <th></th>\n",
       "      <th>t</th>\n",
       "      <th>EGT_SEL</th>\n",
       "      <th>FLIGHT_MOD</th>\n",
       "      <th>FMV_SEL</th>\n",
       "      <th>HPTC_SEL</th>\n",
       "      <th>LPTC_SEL</th>\n",
       "      <th>N1_SEL</th>\n",
       "      <th>N2_ACTSEL</th>\n",
       "      <th>OIL_P</th>\n",
       "      <th>OIL_TEMP</th>\n",
       "      <th>...</th>\n",
       "      <th>T25_SEL</th>\n",
       "      <th>T3_SEL</th>\n",
       "      <th>VBV_SEL</th>\n",
       "      <th>VIB_CN1</th>\n",
       "      <th>VIB_CN2</th>\n",
       "      <th>VIB_TN1</th>\n",
       "      <th>VIB_TN2</th>\n",
       "      <th>VSV_SEL</th>\n",
       "      <th>WFM_SEL</th>\n",
       "      <th>XM</th>\n",
       "    </tr>\n",
       "  </thead>\n",
       "  <tbody>\n",
       "    <tr>\n",
       "      <th>0</th>\n",
       "      <td>2011-09-15 14:26:02.875</td>\n",
       "      <td>335.984000</td>\n",
       "      <td>1</td>\n",
       "      <td>0.0</td>\n",
       "      <td>0.0</td>\n",
       "      <td>0.0</td>\n",
       "      <td>0.0</td>\n",
       "      <td>0.0</td>\n",
       "      <td>0.000</td>\n",
       "      <td>177.3740</td>\n",
       "      <td>...</td>\n",
       "      <td>-128.0</td>\n",
       "      <td>0.0</td>\n",
       "      <td>0.0</td>\n",
       "      <td>0.0</td>\n",
       "      <td>0.0</td>\n",
       "      <td>0.0</td>\n",
       "      <td>0.0</td>\n",
       "      <td>0.0</td>\n",
       "      <td>7679.84</td>\n",
       "      <td>0.15</td>\n",
       "    </tr>\n",
       "    <tr>\n",
       "      <th>1</th>\n",
       "      <td>2011-09-15 14:26:05.375</td>\n",
       "      <td>72.000600</td>\n",
       "      <td>1</td>\n",
       "      <td>0.0</td>\n",
       "      <td>0.0</td>\n",
       "      <td>0.0</td>\n",
       "      <td>0.0</td>\n",
       "      <td>0.0</td>\n",
       "      <td>0.000</td>\n",
       "      <td>68.0000</td>\n",
       "      <td>...</td>\n",
       "      <td>-128.0</td>\n",
       "      <td>0.0</td>\n",
       "      <td>0.0</td>\n",
       "      <td>0.0</td>\n",
       "      <td>0.0</td>\n",
       "      <td>0.0</td>\n",
       "      <td>0.0</td>\n",
       "      <td>0.0</td>\n",
       "      <td>0.00</td>\n",
       "      <td>0.15</td>\n",
       "    </tr>\n",
       "    <tr>\n",
       "      <th>2</th>\n",
       "      <td>2011-09-15 14:26:07.875</td>\n",
       "      <td>72.001100</td>\n",
       "      <td>1</td>\n",
       "      <td>0.0</td>\n",
       "      <td>0.0</td>\n",
       "      <td>0.0</td>\n",
       "      <td>0.0</td>\n",
       "      <td>0.0</td>\n",
       "      <td>0.000</td>\n",
       "      <td>68.0000</td>\n",
       "      <td>...</td>\n",
       "      <td>-128.0</td>\n",
       "      <td>0.0</td>\n",
       "      <td>0.0</td>\n",
       "      <td>0.0</td>\n",
       "      <td>0.0</td>\n",
       "      <td>0.0</td>\n",
       "      <td>0.0</td>\n",
       "      <td>0.0</td>\n",
       "      <td>0.00</td>\n",
       "      <td>0.15</td>\n",
       "    </tr>\n",
       "    <tr>\n",
       "      <th>3</th>\n",
       "      <td>2011-09-15 14:26:10.375</td>\n",
       "      <td>527.978000</td>\n",
       "      <td>1</td>\n",
       "      <td>0.0</td>\n",
       "      <td>0.0</td>\n",
       "      <td>0.0</td>\n",
       "      <td>0.0</td>\n",
       "      <td>0.0</td>\n",
       "      <td>0.000</td>\n",
       "      <td>68.0000</td>\n",
       "      <td>...</td>\n",
       "      <td>-128.0</td>\n",
       "      <td>0.0</td>\n",
       "      <td>0.0</td>\n",
       "      <td>0.0</td>\n",
       "      <td>0.0</td>\n",
       "      <td>0.0</td>\n",
       "      <td>0.0</td>\n",
       "      <td>0.0</td>\n",
       "      <td>10752.10</td>\n",
       "      <td>0.15</td>\n",
       "    </tr>\n",
       "    <tr>\n",
       "      <th>4</th>\n",
       "      <td>2011-09-15 14:26:12.875</td>\n",
       "      <td>-0.001335</td>\n",
       "      <td>1</td>\n",
       "      <td>0.0</td>\n",
       "      <td>0.0</td>\n",
       "      <td>0.0</td>\n",
       "      <td>0.0</td>\n",
       "      <td>0.0</td>\n",
       "      <td>456.002</td>\n",
       "      <td>44.6249</td>\n",
       "      <td>...</td>\n",
       "      <td>-128.0</td>\n",
       "      <td>0.0</td>\n",
       "      <td>0.0</td>\n",
       "      <td>0.0</td>\n",
       "      <td>0.0</td>\n",
       "      <td>0.0</td>\n",
       "      <td>0.0</td>\n",
       "      <td>0.0</td>\n",
       "      <td>0.00</td>\n",
       "      <td>0.15</td>\n",
       "    </tr>\n",
       "  </tbody>\n",
       "</table>\n",
       "<p>5 rows × 26 columns</p>\n",
       "</div>"
      ],
      "text/plain": [
       "                        t     EGT_SEL  FLIGHT_MOD  FMV_SEL  HPTC_SEL  \\\n",
       "0 2011-09-15 14:26:02.875  335.984000           1      0.0       0.0   \n",
       "1 2011-09-15 14:26:05.375   72.000600           1      0.0       0.0   \n",
       "2 2011-09-15 14:26:07.875   72.001100           1      0.0       0.0   \n",
       "3 2011-09-15 14:26:10.375  527.978000           1      0.0       0.0   \n",
       "4 2011-09-15 14:26:12.875   -0.001335           1      0.0       0.0   \n",
       "\n",
       "   LPTC_SEL  N1_SEL  N2_ACTSEL    OIL_P  OIL_TEMP  ...  T25_SEL  T3_SEL  \\\n",
       "0       0.0     0.0        0.0    0.000  177.3740  ...   -128.0     0.0   \n",
       "1       0.0     0.0        0.0    0.000   68.0000  ...   -128.0     0.0   \n",
       "2       0.0     0.0        0.0    0.000   68.0000  ...   -128.0     0.0   \n",
       "3       0.0     0.0        0.0    0.000   68.0000  ...   -128.0     0.0   \n",
       "4       0.0     0.0        0.0  456.002   44.6249  ...   -128.0     0.0   \n",
       "\n",
       "   VBV_SEL  VIB_CN1  VIB_CN2  VIB_TN1  VIB_TN2  VSV_SEL   WFM_SEL    XM  \n",
       "0      0.0      0.0      0.0      0.0      0.0      0.0   7679.84  0.15  \n",
       "1      0.0      0.0      0.0      0.0      0.0      0.0      0.00  0.15  \n",
       "2      0.0      0.0      0.0      0.0      0.0      0.0      0.00  0.15  \n",
       "3      0.0      0.0      0.0      0.0      0.0      0.0  10752.10  0.15  \n",
       "4      0.0      0.0      0.0      0.0      0.0      0.0      0.00  0.15  \n",
       "\n",
       "[5 rows x 26 columns]"
      ]
     },
     "execution_count": 3,
     "metadata": {},
     "output_type": "execute_result"
    }
   ],
   "source": [
    "print(vol.shape)\n",
    "vol.head()"
   ]
  },
  {
   "cell_type": "code",
   "execution_count": 4,
   "metadata": {},
   "outputs": [],
   "source": [
    "import seaborn as sns"
   ]
  },
  {
   "cell_type": "markdown",
   "metadata": {},
   "source": [
    "EXERCICE - Plot avec titres et légende\n",
    "\n",
    "Explorez la documentation de pyplot pour ajouter au graphe :\n",
    "1. Un titre à la figure\n",
    "2. Des titres aux axes\n",
    "3. Une légende"
   ]
  },
  {
   "cell_type": "code",
   "execution_count": 5,
   "metadata": {},
   "outputs": [
    {
     "data": {
      "text/plain": [
       "[Text(0.5, 1.0, 'Map des corrélations'),\n",
       " Text(0.5, 113.09375, 'Donnée'),\n",
       " Text(158.09375, 0.5, 'Donnée')]"
      ]
     },
     "execution_count": 5,
     "metadata": {},
     "output_type": "execute_result"
    },
    {
     "data": {
      "image/png": "[encoded data removed]",
      "text/plain": [
       "<Figure size 1440x1080 with 2 Axes>"
      ]
     },
     "metadata": {
      "needs_background": "light"
     },
     "output_type": "display_data"
    }
   ],
   "source": [
    "# calculate the correlation matrix\n",
    "corr = vol.corr()\n",
    "\n",
    "# plot the heatmap\n",
    "fig = plt.figure(figsize=(20,15))\n",
    "\n",
    "graph=sns.heatmap(corr, \n",
    "        xticklabels=corr.columns,\n",
    "        yticklabels=corr.columns, annot=False, fmt='.2f', vmin=-1, vmax=1, center=0, \n",
    "        cmap=sns.diverging_palette(20, 220, n=200))\n",
    "graph.set(title='Map des corrélations',xlabel =\"Donnée\", ylabel =\"Donnée\")\n",
    "\n",
    "# Essayer avec annot=True"
   ]
  },
  {
   "cell_type": "code",
   "execution_count": 6,
   "metadata": {},
   "outputs": [
    {
     "data": {
      "text/plain": [
       "<matplotlib.legend.Legend at 0x25e1e3b5250>"
      ]
     },
     "execution_count": 6,
     "metadata": {},
     "output_type": "execute_result"
    },
    {
     "data": {
      "image/png": "[encoded data removed]",
      "text/plain": [
       "<Figure size 1800x360 with 2 Axes>"
      ]
     },
     "metadata": {
      "needs_background": "light"
     },
     "output_type": "display_data"
    }
   ],
   "source": [
    "fig = plt.figure(figsize=(25,5))\n",
    "\n",
    "plt.subplot(1, 2, 1)\n",
    "plt.plot(vol['t'], vol['EGT_SEL'], 'b--', linewidth=1, label=\"EGT_SEL\")\n",
    "plt.ylim(-600,850)\n",
    "\n",
    "plt.subplot(1, 2, 2)\n",
    "plt.plot(vol['t'], vol['T3_SEL'], 'k-',label=\"T3_SEL\")\n",
    "plt.ylim(-600,850)\n",
    "fig.legend()"
   ]
  },
  {
   "cell_type": "markdown",
   "metadata": {},
   "source": [
    "### Bar plot : temps passé dans chaque phase de vol avec `plt.bar`\n",
    "\n",
    "Pour afficher un ensemble réduit de valeurs, le diagramme le plus adapté est le bar plot. Tout d'abord, il nous faut calculer le nombre de lignes du vol par phase de vol. La phase de vol est symbolisée par la variable `FLIGHT_MOD`. On suppose la correspondance suivante :\n",
    "\n",
    "`FLIGHT_MOD` | Phase de vol\n",
    "-------------|-------------\n",
    "1 | taxi\n",
    "2 | take_off\n",
    "3 | begin_climb\n",
    "4 | climb\n",
    "5 | cruise_climb\n",
    "6 | cruise\n",
    "7 | descent\n",
    "8 | approach\n",
    "9 | flare\n",
    "10 | landing"
   ]
  },
  {
   "cell_type": "code",
   "execution_count": 7,
   "metadata": {},
   "outputs": [
    {
     "data": {
      "text/plain": [
       "<matplotlib.legend.Legend at 0x25e1e411430>"
      ]
     },
     "execution_count": 7,
     "metadata": {},
     "output_type": "execute_result"
    },
    {
     "data": {
      "image/png": "[encoded data removed]",
      "text/plain": [
       "<Figure size 432x288 with 1 Axes>"
      ]
     },
     "metadata": {
      "needs_background": "light"
     },
     "output_type": "display_data"
    }
   ],
   "source": [
    "plt.plot(vol['t'], vol['FLIGHT_MOD'], label='FLIGHT_MOD')\n",
    "plt.legend()"
   ]
  },
  {
   "cell_type": "markdown",
   "metadata": {},
   "source": [
    "EXERCICE - Correpondance FLIGHT_MOD/phase de vol\n",
    "1. Créez un liste définissant la correspondance FLIGHT_MOD/phase de vol\n",
    "2. Ajoutez une nouvelle colonne 'FLIGHT_PHASE' au DataFrame contenant le nom de la phase. Une possibilité est d'utiliser la méthode \"apply\" et une fonction anonyme (lambda)."
   ]
  },
  {
   "cell_type": "code",
   "execution_count": 8,
   "metadata": {},
   "outputs": [],
   "source": [
    "INDEX_phase_vol=[\"taxi\",\"take_off\",\"begin_clim\",\"climb\",\"cruise_climb\",\"cruise\",\"descent\",\"approach\",\"flare\",\"landing\"]"
   ]
  },
  {
   "cell_type": "code",
   "execution_count": 9,
   "metadata": {},
   "outputs": [],
   "source": [
    "def func(i):\n",
    "\treturn(INDEX_phase_vol[i-1])\n",
    "\n",
    "vol[\"FLIGHT_PHASE\"]=vol['FLIGHT_MOD'].apply(func)"
   ]
  },
  {
   "cell_type": "code",
   "execution_count": 10,
   "metadata": {},
   "outputs": [
    {
     "data": {
      "text/html": [
       "<div>\n",
       "<style scoped>\n",
       "    .dataframe tbody tr th:only-of-type {\n",
       "        vertical-align: middle;\n",
       "    }\n",
       "\n",
       "    .dataframe tbody tr th {\n",
       "        vertical-align: top;\n",
       "    }\n",
       "\n",
       "    .dataframe thead th {\n",
       "        text-align: right;\n",
       "    }\n",
       "</style>\n",
       "<table border=\"1\" class=\"dataframe\">\n",
       "  <thead>\n",
       "    <tr style=\"text-align: right;\">\n",
       "      <th></th>\n",
       "      <th>t</th>\n",
       "      <th>EGT_SEL</th>\n",
       "      <th>FLIGHT_MOD</th>\n",
       "      <th>FMV_SEL</th>\n",
       "      <th>HPTC_SEL</th>\n",
       "      <th>LPTC_SEL</th>\n",
       "      <th>N1_SEL</th>\n",
       "      <th>N2_ACTSEL</th>\n",
       "      <th>OIL_P</th>\n",
       "      <th>OIL_TEMP</th>\n",
       "      <th>...</th>\n",
       "      <th>T3_SEL</th>\n",
       "      <th>VBV_SEL</th>\n",
       "      <th>VIB_CN1</th>\n",
       "      <th>VIB_CN2</th>\n",
       "      <th>VIB_TN1</th>\n",
       "      <th>VIB_TN2</th>\n",
       "      <th>VSV_SEL</th>\n",
       "      <th>WFM_SEL</th>\n",
       "      <th>XM</th>\n",
       "      <th>FLIGHT_PHASE</th>\n",
       "    </tr>\n",
       "  </thead>\n",
       "  <tbody>\n",
       "    <tr>\n",
       "      <th>0</th>\n",
       "      <td>2011-09-15 14:26:02.875</td>\n",
       "      <td>335.984000</td>\n",
       "      <td>1</td>\n",
       "      <td>0.0</td>\n",
       "      <td>0.0</td>\n",
       "      <td>0.0</td>\n",
       "      <td>0.0</td>\n",
       "      <td>0.0</td>\n",
       "      <td>0.000</td>\n",
       "      <td>177.3740</td>\n",
       "      <td>...</td>\n",
       "      <td>0.0</td>\n",
       "      <td>0.0</td>\n",
       "      <td>0.0</td>\n",
       "      <td>0.0</td>\n",
       "      <td>0.0</td>\n",
       "      <td>0.0</td>\n",
       "      <td>0.0</td>\n",
       "      <td>7679.84</td>\n",
       "      <td>0.15</td>\n",
       "      <td>taxi</td>\n",
       "    </tr>\n",
       "    <tr>\n",
       "      <th>1</th>\n",
       "      <td>2011-09-15 14:26:05.375</td>\n",
       "      <td>72.000600</td>\n",
       "      <td>1</td>\n",
       "      <td>0.0</td>\n",
       "      <td>0.0</td>\n",
       "      <td>0.0</td>\n",
       "      <td>0.0</td>\n",
       "      <td>0.0</td>\n",
       "      <td>0.000</td>\n",
       "      <td>68.0000</td>\n",
       "      <td>...</td>\n",
       "      <td>0.0</td>\n",
       "      <td>0.0</td>\n",
       "      <td>0.0</td>\n",
       "      <td>0.0</td>\n",
       "      <td>0.0</td>\n",
       "      <td>0.0</td>\n",
       "      <td>0.0</td>\n",
       "      <td>0.00</td>\n",
       "      <td>0.15</td>\n",
       "      <td>taxi</td>\n",
       "    </tr>\n",
       "    <tr>\n",
       "      <th>2</th>\n",
       "      <td>2011-09-15 14:26:07.875</td>\n",
       "      <td>72.001100</td>\n",
       "      <td>1</td>\n",
       "      <td>0.0</td>\n",
       "      <td>0.0</td>\n",
       "      <td>0.0</td>\n",
       "      <td>0.0</td>\n",
       "      <td>0.0</td>\n",
       "      <td>0.000</td>\n",
       "      <td>68.0000</td>\n",
       "      <td>...</td>\n",
       "      <td>0.0</td>\n",
       "      <td>0.0</td>\n",
       "      <td>0.0</td>\n",
       "      <td>0.0</td>\n",
       "      <td>0.0</td>\n",
       "      <td>0.0</td>\n",
       "      <td>0.0</td>\n",
       "      <td>0.00</td>\n",
       "      <td>0.15</td>\n",
       "      <td>taxi</td>\n",
       "    </tr>\n",
       "    <tr>\n",
       "      <th>3</th>\n",
       "      <td>2011-09-15 14:26:10.375</td>\n",
       "      <td>527.978000</td>\n",
       "      <td>1</td>\n",
       "      <td>0.0</td>\n",
       "      <td>0.0</td>\n",
       "      <td>0.0</td>\n",
       "      <td>0.0</td>\n",
       "      <td>0.0</td>\n",
       "      <td>0.000</td>\n",
       "      <td>68.0000</td>\n",
       "      <td>...</td>\n",
       "      <td>0.0</td>\n",
       "      <td>0.0</td>\n",
       "      <td>0.0</td>\n",
       "      <td>0.0</td>\n",
       "      <td>0.0</td>\n",
       "      <td>0.0</td>\n",
       "      <td>0.0</td>\n",
       "      <td>10752.10</td>\n",
       "      <td>0.15</td>\n",
       "      <td>taxi</td>\n",
       "    </tr>\n",
       "    <tr>\n",
       "      <th>4</th>\n",
       "      <td>2011-09-15 14:26:12.875</td>\n",
       "      <td>-0.001335</td>\n",
       "      <td>1</td>\n",
       "      <td>0.0</td>\n",
       "      <td>0.0</td>\n",
       "      <td>0.0</td>\n",
       "      <td>0.0</td>\n",
       "      <td>0.0</td>\n",
       "      <td>456.002</td>\n",
       "      <td>44.6249</td>\n",
       "      <td>...</td>\n",
       "      <td>0.0</td>\n",
       "      <td>0.0</td>\n",
       "      <td>0.0</td>\n",
       "      <td>0.0</td>\n",
       "      <td>0.0</td>\n",
       "      <td>0.0</td>\n",
       "      <td>0.0</td>\n",
       "      <td>0.00</td>\n",
       "      <td>0.15</td>\n",
       "      <td>taxi</td>\n",
       "    </tr>\n",
       "  </tbody>\n",
       "</table>\n",
       "<p>5 rows × 27 columns</p>\n",
       "</div>"
      ],
      "text/plain": [
       "                        t     EGT_SEL  FLIGHT_MOD  FMV_SEL  HPTC_SEL  \\\n",
       "0 2011-09-15 14:26:02.875  335.984000           1      0.0       0.0   \n",
       "1 2011-09-15 14:26:05.375   72.000600           1      0.0       0.0   \n",
       "2 2011-09-15 14:26:07.875   72.001100           1      0.0       0.0   \n",
       "3 2011-09-15 14:26:10.375  527.978000           1      0.0       0.0   \n",
       "4 2011-09-15 14:26:12.875   -0.001335           1      0.0       0.0   \n",
       "\n",
       "   LPTC_SEL  N1_SEL  N2_ACTSEL    OIL_P  OIL_TEMP  ...  T3_SEL  VBV_SEL  \\\n",
       "0       0.0     0.0        0.0    0.000  177.3740  ...     0.0      0.0   \n",
       "1       0.0     0.0        0.0    0.000   68.0000  ...     0.0      0.0   \n",
       "2       0.0     0.0        0.0    0.000   68.0000  ...     0.0      0.0   \n",
       "3       0.0     0.0        0.0    0.000   68.0000  ...     0.0      0.0   \n",
       "4       0.0     0.0        0.0  456.002   44.6249  ...     0.0      0.0   \n",
       "\n",
       "   VIB_CN1  VIB_CN2  VIB_TN1  VIB_TN2  VSV_SEL   WFM_SEL    XM  FLIGHT_PHASE  \n",
       "0      0.0      0.0      0.0      0.0      0.0   7679.84  0.15          taxi  \n",
       "1      0.0      0.0      0.0      0.0      0.0      0.00  0.15          taxi  \n",
       "2      0.0      0.0      0.0      0.0      0.0      0.00  0.15          taxi  \n",
       "3      0.0      0.0      0.0      0.0      0.0  10752.10  0.15          taxi  \n",
       "4      0.0      0.0      0.0      0.0      0.0      0.00  0.15          taxi  \n",
       "\n",
       "[5 rows x 27 columns]"
      ]
     },
     "execution_count": 10,
     "metadata": {},
     "output_type": "execute_result"
    }
   ],
   "source": [
    "vol.head()"
   ]
  },
  {
   "cell_type": "markdown",
   "metadata": {},
   "source": [
    "EXERCICE - Calcul du nombre de lignes par phase de vol\n",
    "Groupez le DataFrame par phase de vol avec groupby() et aggrégez le résultat avec size().\n",
    "\n"
   ]
  },
  {
   "cell_type": "code",
   "execution_count": 11,
   "metadata": {},
   "outputs": [],
   "source": [
    "time_by_phase=vol.groupby([\"FLIGHT_PHASE\"]).size()"
   ]
  },
  {
   "cell_type": "code",
   "execution_count": 12,
   "metadata": {},
   "outputs": [
    {
     "data": {
      "text/plain": [
       "<BarContainer object of 10 artists>"
      ]
     },
     "execution_count": 12,
     "metadata": {},
     "output_type": "execute_result"
    },
    {
     "data": {
      "image/png": "[encoded data removed]",
      "text/plain": [
       "<Figure size 720x432 with 1 Axes>"
      ]
     },
     "metadata": {
      "needs_background": "light"
     },
     "output_type": "display_data"
    }
   ],
   "source": [
    "plt.figure(figsize=(10,6)) # la méthode figure permet de créer une nouvelle figure et de configurer ses paramètres\n",
    "plt.bar(np.arange(time_by_phase.size), time_by_phase, tick_label=time_by_phase.index.tolist())"
   ]
  },
  {
   "cell_type": "markdown",
   "metadata": {},
   "source": [
    "EXERCICE - Affichez la température T25 maximale par phase de vol sur un bar plot de couleur rouge."
   ]
  },
  {
   "cell_type": "code",
   "execution_count": 13,
   "metadata": {},
   "outputs": [],
   "source": [
    "T25_MAX_PHASE_VOL=vol.groupby([\"FLIGHT_PHASE\"])[\"T25_SEL\"].max()"
   ]
  },
  {
   "cell_type": "code",
   "execution_count": 14,
   "metadata": {},
   "outputs": [
    {
     "data": {
      "text/plain": [
       "FLIGHT_PHASE\n",
       "approach         73.5000\n",
       "begin_clim       75.5000\n",
       "climb           109.5000\n",
       "cruise           70.5000\n",
       "cruise_climb    111.0000\n",
       "descent          58.0000\n",
       "flare            56.7500\n",
       "landing          46.7500\n",
       "take_off         37.2500\n",
       "taxi             35.1406\n",
       "Name: T25_SEL, dtype: float64"
      ]
     },
     "execution_count": 14,
     "metadata": {},
     "output_type": "execute_result"
    }
   ],
   "source": [
    "T25_MAX_PHASE_VOL"
   ]
  },
  {
   "cell_type": "code",
   "execution_count": 15,
   "metadata": {},
   "outputs": [
    {
     "data": {
      "text/plain": [
       "<BarContainer object of 10 artists>"
      ]
     },
     "execution_count": 15,
     "metadata": {},
     "output_type": "execute_result"
    },
    {
     "data": {
      "image/png": "[encoded data removed]",
      "text/plain": [
       "<Figure size 720x432 with 1 Axes>"
      ]
     },
     "metadata": {
      "needs_background": "light"
     },
     "output_type": "display_data"
    }
   ],
   "source": [
    "plt.figure(figsize=(10,6))\n",
    "plt.bar(np.arange(T25_MAX_PHASE_VOL.size), T25_MAX_PHASE_VOL, tick_label=T25_MAX_PHASE_VOL.index.tolist(),color=\"r\")"
   ]
  },
  {
   "cell_type": "markdown",
   "metadata": {},
   "source": [
    "#### 2.1. Préparation des données\n",
    "\n",
    "Ces algorithmes requièrent des données numériques. Il faut donc éliminer du jeu de données les variables non numérique ou les transformer en variables numériques.\n",
    "\n",
    "De plus, on essayera dans la suite de classifier les instants du vol par phase de vol en utilisant un algorithme de clustering. On élimine donc également la colonne \"FLIGHT_MOD\" du jeu de données."
   ]
  },
  {
   "cell_type": "markdown",
   "metadata": {},
   "source": [
    "EXERCICE - Préparation des données\n",
    "1. Quelles sont les variables non numériques dans les données de vol ?\n",
    "2. Supprimez ces colonnes, ainsi que le FLIGHT_MOD, et créez une variable X_vol contenant les valeurs numériques sous forme d'array numpy (on y accède via la propriété `values`).\n",
    "3. Affichez les dimensions de X_vol (nombre d'individus et de variables)."
   ]
  },
  {
   "cell_type": "code",
   "execution_count": 16,
   "metadata": {},
   "outputs": [
    {
     "data": {
      "text/plain": [
       "t               datetime64[ns]\n",
       "EGT_SEL                float64\n",
       "FLIGHT_MOD               int64\n",
       "FMV_SEL                float64\n",
       "HPTC_SEL               float64\n",
       "LPTC_SEL               float64\n",
       "N1_SEL                 float64\n",
       "N2_ACTSEL              float64\n",
       "OIL_P                  float64\n",
       "OIL_TEMP               float64\n",
       "PS3_SEL                float64\n",
       "PT2_SEL                float64\n",
       "P0_SEL                 float64\n",
       "TAT                    float64\n",
       "TBV_SEL                float64\n",
       "TRA_SEL                float64\n",
       "T25_SEL                float64\n",
       "T3_SEL                 float64\n",
       "VBV_SEL                float64\n",
       "VIB_CN1                float64\n",
       "VIB_CN2                float64\n",
       "VIB_TN1                float64\n",
       "VIB_TN2                float64\n",
       "VSV_SEL                float64\n",
       "WFM_SEL                float64\n",
       "XM                     float64\n",
       "FLIGHT_PHASE            object\n",
       "dtype: object"
      ]
     },
     "execution_count": 16,
     "metadata": {},
     "output_type": "execute_result"
    }
   ],
   "source": [
    "vol.dtypes"
   ]
  },
  {
   "cell_type": "code",
   "execution_count": 17,
   "metadata": {},
   "outputs": [
    {
     "data": {
      "text/html": [
       "<div>\n",
       "<style scoped>\n",
       "    .dataframe tbody tr th:only-of-type {\n",
       "        vertical-align: middle;\n",
       "    }\n",
       "\n",
       "    .dataframe tbody tr th {\n",
       "        vertical-align: top;\n",
       "    }\n",
       "\n",
       "    .dataframe thead th {\n",
       "        text-align: right;\n",
       "    }\n",
       "</style>\n",
       "<table border=\"1\" class=\"dataframe\">\n",
       "  <thead>\n",
       "    <tr style=\"text-align: right;\">\n",
       "      <th></th>\n",
       "      <th>EGT_SEL</th>\n",
       "      <th>FMV_SEL</th>\n",
       "      <th>HPTC_SEL</th>\n",
       "      <th>LPTC_SEL</th>\n",
       "      <th>N1_SEL</th>\n",
       "      <th>N2_ACTSEL</th>\n",
       "      <th>OIL_P</th>\n",
       "      <th>OIL_TEMP</th>\n",
       "      <th>PS3_SEL</th>\n",
       "      <th>PT2_SEL</th>\n",
       "      <th>...</th>\n",
       "      <th>T25_SEL</th>\n",
       "      <th>T3_SEL</th>\n",
       "      <th>VBV_SEL</th>\n",
       "      <th>VIB_CN1</th>\n",
       "      <th>VIB_CN2</th>\n",
       "      <th>VIB_TN1</th>\n",
       "      <th>VIB_TN2</th>\n",
       "      <th>VSV_SEL</th>\n",
       "      <th>WFM_SEL</th>\n",
       "      <th>XM</th>\n",
       "    </tr>\n",
       "  </thead>\n",
       "  <tbody>\n",
       "    <tr>\n",
       "      <th>0</th>\n",
       "      <td>335.984000</td>\n",
       "      <td>0.0</td>\n",
       "      <td>0.0</td>\n",
       "      <td>0.0</td>\n",
       "      <td>0.0</td>\n",
       "      <td>0.0</td>\n",
       "      <td>0.000</td>\n",
       "      <td>177.3740</td>\n",
       "      <td>9.599800e+02</td>\n",
       "      <td>0.0</td>\n",
       "      <td>...</td>\n",
       "      <td>-128.0</td>\n",
       "      <td>0.0</td>\n",
       "      <td>0.0</td>\n",
       "      <td>0.0</td>\n",
       "      <td>0.0</td>\n",
       "      <td>0.0</td>\n",
       "      <td>0.0</td>\n",
       "      <td>0.0</td>\n",
       "      <td>7679.84</td>\n",
       "      <td>0.15</td>\n",
       "    </tr>\n",
       "    <tr>\n",
       "      <th>1</th>\n",
       "      <td>72.000600</td>\n",
       "      <td>0.0</td>\n",
       "      <td>0.0</td>\n",
       "      <td>0.0</td>\n",
       "      <td>0.0</td>\n",
       "      <td>0.0</td>\n",
       "      <td>0.000</td>\n",
       "      <td>68.0000</td>\n",
       "      <td>0.000000e+00</td>\n",
       "      <td>0.0</td>\n",
       "      <td>...</td>\n",
       "      <td>-128.0</td>\n",
       "      <td>0.0</td>\n",
       "      <td>0.0</td>\n",
       "      <td>0.0</td>\n",
       "      <td>0.0</td>\n",
       "      <td>0.0</td>\n",
       "      <td>0.0</td>\n",
       "      <td>0.0</td>\n",
       "      <td>0.00</td>\n",
       "      <td>0.15</td>\n",
       "    </tr>\n",
       "    <tr>\n",
       "      <th>2</th>\n",
       "      <td>72.001100</td>\n",
       "      <td>0.0</td>\n",
       "      <td>0.0</td>\n",
       "      <td>0.0</td>\n",
       "      <td>0.0</td>\n",
       "      <td>0.0</td>\n",
       "      <td>0.000</td>\n",
       "      <td>68.0000</td>\n",
       "      <td>5.930390e-07</td>\n",
       "      <td>0.0</td>\n",
       "      <td>...</td>\n",
       "      <td>-128.0</td>\n",
       "      <td>0.0</td>\n",
       "      <td>0.0</td>\n",
       "      <td>0.0</td>\n",
       "      <td>0.0</td>\n",
       "      <td>0.0</td>\n",
       "      <td>0.0</td>\n",
       "      <td>0.0</td>\n",
       "      <td>0.00</td>\n",
       "      <td>0.15</td>\n",
       "    </tr>\n",
       "    <tr>\n",
       "      <th>3</th>\n",
       "      <td>527.978000</td>\n",
       "      <td>0.0</td>\n",
       "      <td>0.0</td>\n",
       "      <td>0.0</td>\n",
       "      <td>0.0</td>\n",
       "      <td>0.0</td>\n",
       "      <td>0.000</td>\n",
       "      <td>68.0000</td>\n",
       "      <td>1.344020e+03</td>\n",
       "      <td>0.0</td>\n",
       "      <td>...</td>\n",
       "      <td>-128.0</td>\n",
       "      <td>0.0</td>\n",
       "      <td>0.0</td>\n",
       "      <td>0.0</td>\n",
       "      <td>0.0</td>\n",
       "      <td>0.0</td>\n",
       "      <td>0.0</td>\n",
       "      <td>0.0</td>\n",
       "      <td>10752.10</td>\n",
       "      <td>0.15</td>\n",
       "    </tr>\n",
       "    <tr>\n",
       "      <th>4</th>\n",
       "      <td>-0.001335</td>\n",
       "      <td>0.0</td>\n",
       "      <td>0.0</td>\n",
       "      <td>0.0</td>\n",
       "      <td>0.0</td>\n",
       "      <td>0.0</td>\n",
       "      <td>456.002</td>\n",
       "      <td>44.6249</td>\n",
       "      <td>0.000000e+00</td>\n",
       "      <td>0.0</td>\n",
       "      <td>...</td>\n",
       "      <td>-128.0</td>\n",
       "      <td>0.0</td>\n",
       "      <td>0.0</td>\n",
       "      <td>0.0</td>\n",
       "      <td>0.0</td>\n",
       "      <td>0.0</td>\n",
       "      <td>0.0</td>\n",
       "      <td>0.0</td>\n",
       "      <td>0.00</td>\n",
       "      <td>0.15</td>\n",
       "    </tr>\n",
       "  </tbody>\n",
       "</table>\n",
       "<p>5 rows × 24 columns</p>\n",
       "</div>"
      ],
      "text/plain": [
       "      EGT_SEL  FMV_SEL  HPTC_SEL  LPTC_SEL  N1_SEL  N2_ACTSEL    OIL_P  \\\n",
       "0  335.984000      0.0       0.0       0.0     0.0        0.0    0.000   \n",
       "1   72.000600      0.0       0.0       0.0     0.0        0.0    0.000   \n",
       "2   72.001100      0.0       0.0       0.0     0.0        0.0    0.000   \n",
       "3  527.978000      0.0       0.0       0.0     0.0        0.0    0.000   \n",
       "4   -0.001335      0.0       0.0       0.0     0.0        0.0  456.002   \n",
       "\n",
       "   OIL_TEMP       PS3_SEL  PT2_SEL  ...  T25_SEL  T3_SEL  VBV_SEL  VIB_CN1  \\\n",
       "0  177.3740  9.599800e+02      0.0  ...   -128.0     0.0      0.0      0.0   \n",
       "1   68.0000  0.000000e+00      0.0  ...   -128.0     0.0      0.0      0.0   \n",
       "2   68.0000  5.930390e-07      0.0  ...   -128.0     0.0      0.0      0.0   \n",
       "3   68.0000  1.344020e+03      0.0  ...   -128.0     0.0      0.0      0.0   \n",
       "4   44.6249  0.000000e+00      0.0  ...   -128.0     0.0      0.0      0.0   \n",
       "\n",
       "   VIB_CN2  VIB_TN1  VIB_TN2  VSV_SEL   WFM_SEL    XM  \n",
       "0      0.0      0.0      0.0      0.0   7679.84  0.15  \n",
       "1      0.0      0.0      0.0      0.0      0.00  0.15  \n",
       "2      0.0      0.0      0.0      0.0      0.00  0.15  \n",
       "3      0.0      0.0      0.0      0.0  10752.10  0.15  \n",
       "4      0.0      0.0      0.0      0.0      0.00  0.15  \n",
       "\n",
       "[5 rows x 24 columns]"
      ]
     },
     "execution_count": 17,
     "metadata": {},
     "output_type": "execute_result"
    }
   ],
   "source": [
    "vol_float=vol.select_dtypes(include = 'float64')\n",
    "vol_float.head()"
   ]
  },
  {
   "cell_type": "markdown",
   "metadata": {},
   "source": [
    "Création du tableau numpy avec les valeurs en float64*"
   ]
  },
  {
   "cell_type": "code",
   "execution_count": 18,
   "metadata": {},
   "outputs": [
    {
     "name": "stdout",
     "output_type": "stream",
     "text": [
      "[[ 3.35984e+02  0.00000e+00  0.00000e+00 ...  0.00000e+00  7.67984e+03\n",
      "   1.50000e-01]\n",
      " [ 7.20006e+01  0.00000e+00  0.00000e+00 ...  0.00000e+00  0.00000e+00\n",
      "   1.50000e-01]\n",
      " [ 7.20011e+01  0.00000e+00  0.00000e+00 ...  0.00000e+00  0.00000e+00\n",
      "   1.50000e-01]\n",
      " ...\n",
      " [ 5.40191e+02 -1.23750e+01  0.00000e+00 ...  0.00000e+00  7.67984e+03\n",
      "   1.50000e-01]\n",
      " [ 3.21570e+02 -1.23750e+01  0.00000e+00 ...  0.00000e+00  0.00000e+00\n",
      "   1.50000e-01]\n",
      " [ 2.30825e+02 -1.23750e+01  0.00000e+00 ...  0.00000e+00  0.00000e+00\n",
      "   1.50000e-01]]\n"
     ]
    },
    {
     "data": {
      "text/plain": [
       "(2283, 24)"
      ]
     },
     "execution_count": 18,
     "metadata": {},
     "output_type": "execute_result"
    }
   ],
   "source": [
    "X_VOL=vol_float.to_numpy()\n",
    "print(X_VOL)\n",
    "np.shape(X_VOL)"
   ]
  },
  {
   "cell_type": "markdown",
   "metadata": {},
   "source": [
    "Ensuite, il est nécessaire en analyse de données de normaliser nos données, car les différentes variables peuvent avoir des unités et plages de valeurs très différentes les unes des autres. Par exemple, certaines variables varient entre 0 et 1, d'autre, comme les températures, peuvent varier (en gros) de 0 à 1000. Pour pouvoir les rendre comparables, on utilisera la normalisation standard suivante, appelée _standardisation_ :\n",
    "\n",
    "1. Retrait de la moyenne de chaque variable.\n",
    "2. Division par l'écart-type.\n",
    "\n",
    "Cela permet d'obtenir des variables de moyenne nulle et d'écart-type 1. Il existe bien entendu des normalisations bien plus poussées."
   ]
  },
  {
   "cell_type": "markdown",
   "metadata": {},
   "source": [
    "EXERCICE - Standardisation\n",
    "1. Normalisez le jeu de donnée X_vol comme expliqué précédemment, et stockez le résultat dans une variable X_vol_norm.\n",
    "   Pour cela, utilisez les méthodes mean() et std() de numpy, en prenant garde à calculer selon les bonnes dimensions.\n",
    "2. Véfifiez à la fin que X_vol_norm a bien une moyenne nulle et un écart-type égal à 1 pour toutes les variables.\n",
    "3. Que renvoie `(X_vol_norm.mean(axis=0) == 0).all()` ? Pourquoi à votre avis ? Pour pailler à ce problème, documentez-vous et utilisez la méthode `np.isclose` de numpy \n",
    "   pour effectuer cette vérification."
   ]
  },
  {
   "cell_type": "code",
   "execution_count": 19,
   "metadata": {},
   "outputs": [
    {
     "data": {
      "text/plain": [
       "array([[-6.20744000e-01, -7.08752884e-02, -1.39521863e-01, ...,\n",
       "        -2.76640620e-02,  1.32938527e+01, -9.77892023e-04],\n",
       "       [-1.29001921e+00, -7.08752884e-02, -1.39521863e-01, ...,\n",
       "        -2.76640620e-02, -6.17679021e+00, -9.77892023e-04],\n",
       "       [-1.29001794e+00, -7.08752884e-02, -1.39521863e-01, ...,\n",
       "        -2.76640620e-02, -6.17679021e+00, -9.77892023e-04],\n",
       "       ...,\n",
       "       [-1.03019466e-01, -1.02249537e-01, -1.39521863e-01, ...,\n",
       "        -2.76640620e-02,  1.32938527e+01, -9.77892023e-04],\n",
       "       [-6.57287710e-01, -1.02249537e-01, -1.39521863e-01, ...,\n",
       "        -2.76640620e-02, -6.17679021e+00, -9.77892023e-04],\n",
       "       [-8.87352854e-01, -1.02249537e-01, -1.39521863e-01, ...,\n",
       "        -2.76640620e-02, -6.17679021e+00, -9.77892023e-04]])"
      ]
     },
     "execution_count": 19,
     "metadata": {},
     "output_type": "execute_result"
    }
   ],
   "source": [
    "X_VOL_norm=(X_VOL-np.mean(X_VOL,axis=0))/np.std(X_VOL-np.mean(X_VOL,axis=0))\n",
    "X_VOL_norm"
   ]
  },
  {
   "cell_type": "code",
   "execution_count": 20,
   "metadata": {},
   "outputs": [
    {
     "name": "stdout",
     "output_type": "stream",
     "text": [
      "1.0\n",
      "False\n",
      "[ True  True  True  True  True  True  True  True  True  True  True  True\n",
      "  True  True  True  True  True  True  True  True  True  True  True  True]\n"
     ]
    }
   ],
   "source": [
    "# VErification de la normalisation\n",
    "print(np.std(X_VOL_norm))\n",
    "print((X_VOL_norm.mean(axis=0) == 0).all())\n",
    "# Surement a cause d'erreur d'arrondie/ précision machine\n",
    "print(np.isclose(X_VOL_norm.mean(axis=0),0))\n",
    "#AFFICHE que des trues donc c'est bon"
   ]
  },
  {
   "cell_type": "markdown",
   "metadata": {},
   "source": [
    "On ne ré-invente pas la roue : scikit-learn propose déjà un ensemble de méthodes de normalisation dans son module de prétraitement, `sklearn.preprocessing`."
   ]
  },
  {
   "cell_type": "code",
   "execution_count": 21,
   "metadata": {},
   "outputs": [],
   "source": [
    "from sklearn.preprocessing import StandardScaler\n",
    "X_VOL_NORM2 = StandardScaler().fit_transform(X_VOL)"
   ]
  },
  {
   "cell_type": "markdown",
   "metadata": {},
   "source": [
    "EXERCICE - La résultat est-il bien identique ?"
   ]
  },
  {
   "cell_type": "code",
   "execution_count": 22,
   "metadata": {},
   "outputs": [
    {
     "data": {
      "text/plain": [
       "array([[False, False, False, ..., False, False, False],\n",
       "       [False, False, False, ..., False, False, False],\n",
       "       [False, False, False, ..., False, False, False],\n",
       "       ...,\n",
       "       [False, False, False, ..., False, False, False],\n",
       "       [False, False, False, ..., False, False, False],\n",
       "       [False, False, False, ..., False, False, False]])"
      ]
     },
     "execution_count": 22,
     "metadata": {},
     "output_type": "execute_result"
    }
   ],
   "source": [
    "np.isclose(X_VOL_norm,X_VOL_NORM2)"
   ]
  },
  {
   "cell_type": "markdown",
   "metadata": {},
   "source": [
    "#### 2.2. PCA"
   ]
  },
  {
   "cell_type": "code",
   "execution_count": 23,
   "metadata": {},
   "outputs": [],
   "source": [
    "from sklearn.decomposition import PCA"
   ]
  },
  {
   "cell_type": "code",
   "execution_count": 24,
   "metadata": {},
   "outputs": [],
   "source": [
    "vol_pca = PCA(n_components=2).fit(X_VOL_NORM2)"
   ]
  },
  {
   "cell_type": "markdown",
   "metadata": {},
   "source": [
    "#### 2.2.1. Étude de la variance expliquée\n",
    "\n",
    "Le modèle PCA permet d'obtenir la part de variance des données expliquée par les différentes CP. En général, on garde autant de CP que nécessaire pour expliquer au total par exemple 90% ou 95% de la variance des données, afin de limiter la perte d'information. Ici, on en conserve 2 pour des raisons de visualisation."
   ]
  },
  {
   "cell_type": "markdown",
   "metadata": {},
   "source": [
    "EXERCICE - Étude de la variance expliquée\n",
    "1. Affichez les parts de variance expliquées par les 2 premières CP à l'aide de la propriété `explained_variance_ratio_` du modèle PCA. Faites varier le nombres de CP (3, 4... 25).\n",
    "   Affichez les résultats en %.\n",
    "2. Quel est le pourcentage de variance expliquée par les 2 premières CP ? Est-il cohérent de ne conserver que ces 2 dimensions ?\n",
    "   Combien de composantes faudrait-il garder pour expliquer 90% de la variance ? 95% ?\n",
    "3. Tracez un bar plot de la variance expliquée par chaque CP, en n'oubliant pas le titre, les noms des axes et les étiquettes sur l'axe des abscisses ('PC1', 'PC2', etc.).\n",
    "   Essayez avec une échelle logarithmique"
   ]
  },
  {
   "cell_type": "code",
   "execution_count": 25,
   "metadata": {},
   "outputs": [],
   "source": [
    "PCA_ind=[3,4,7,9,15,23]"
   ]
  },
  {
   "cell_type": "code",
   "execution_count": 26,
   "metadata": {},
   "outputs": [],
   "source": [
    "label=[ \"PCA\"+str(i)for i in PCA_ind]"
   ]
  },
  {
   "cell_type": "code",
   "execution_count": 27,
   "metadata": {},
   "outputs": [
    {
     "name": "stdout",
     "output_type": "stream",
     "text": [
      "[0.783613898935122, 0.831618565305446, 0.9196129130506464, 0.9495820569657677, 0.9884706075908809, 0.9999062892479814]\n"
     ]
    },
    {
     "data": {
      "image/png": "[encoded data removed]",
      "text/plain": [
       "<Figure size 432x288 with 1 Axes>"
      ]
     },
     "metadata": {
      "needs_background": "light"
     },
     "output_type": "display_data"
    }
   ],
   "source": [
    "pourcentage=[]\n",
    "for i in PCA_ind:\n",
    "\tvol_pca = PCA(n_components=i).fit(X_VOL_NORM2)\n",
    "\tpourcentage.append(vol_pca.explained_variance_ratio_.sum())\n",
    "plt.bar(PCA_ind,pourcentage)\n",
    "plt.plot([0.95]*max(PCA_ind),color=\"black\",label=\"95% expliqué\")\n",
    "plt.plot([0.90]*max(PCA_ind),color=\"grey\",label=\"90% expliqué\")\n",
    "plt.title(\"Variance expliqué en fonciton du nombre d'axe dans la PCA\")\n",
    "plt.xlabel(\"PCA\")\n",
    "plt.xticks(PCA_ind,label)\n",
    "plt.ylabel(\"Variance expliquée (%)\")\n",
    "plt.legend()\n",
    "#plt.yscale('log')\n",
    "print(pourcentage)\n"
   ]
  },
  {
   "cell_type": "markdown",
   "metadata": {},
   "source": [
    "On remarque que seulement deux composantes principales servent à expliquer 71% de la variance des données, si on veut 90% d'explication il faut prendre 7 Axes, et 9 pour 95%"
   ]
  },
  {
   "cell_type": "markdown",
   "metadata": {},
   "source": [
    "#### 2.2.2. Projection et visualisation\n",
    "\n",
    "À présent, on projette les données sur les 2 premières CP pour les visualiser sur un scatter plot. La projection s'effectue :\n",
    "\n",
    "* par produit matriciel avec les composantes principales, contenues dans l'array `vol_pca.components_`\n",
    "* via la méthode `transform(...)` du modèle PCA"
   ]
  },
  {
   "cell_type": "markdown",
   "metadata": {},
   "source": [
    "EXERCICE - Projection et visualisation par PCA.\n",
    "1. Projettez les données sur les 2 premières CP.\n",
    "2. Affichez le résultat sur un scatter plot. Que représente chaque point ? Que représentent les axes ? \n",
    "3. Étant donné que notre jeu de données est une série temporelle, il serait intéressant de visualiser la trajectoire du vol dans le plan de la PCA.\n",
    "   Proposez et mettez en œuvre une solution permettant de visualiser cet aspect temporel sur le scatter plot."
   ]
  },
  {
   "cell_type": "code",
   "execution_count": 28,
   "metadata": {},
   "outputs": [],
   "source": [
    "vol_pca = PCA(n_components=2).fit(X_VOL_NORM2)\n",
    "y=vol_pca.transform(X_VOL_NORM2)[:,1]\n",
    "x=vol_pca.transform(X_VOL_NORM2)[:,0]"
   ]
  },
  {
   "cell_type": "code",
   "execution_count": 29,
   "metadata": {},
   "outputs": [],
   "source": [
    "phase_vol=vol[\"FLIGHT_MOD\"].to_numpy()"
   ]
  },
  {
   "cell_type": "markdown",
   "metadata": {},
   "source": [
    "EXERCICE - Projection et visualisation par PCA avec affichage de la phase de vol.\n",
    "Complétez le code matplotlib suivant afin de de colorer les points par phase de vol, avec une légende."
   ]
  },
  {
   "cell_type": "code",
   "execution_count": 44,
   "metadata": {},
   "outputs": [
    {
     "name": "stderr",
     "output_type": "stream",
     "text": [
      "No handles with labels found to put in legend.\n"
     ]
    },
    {
     "data": {
      "image/png": "[encoded data removed]",
      "text/plain": [
       "<Figure size 432x288 with 2 Axes>"
      ]
     },
     "metadata": {
      "needs_background": "light"
     },
     "output_type": "display_data"
    }
   ],
   "source": [
    "plt.scatter(x,y,c=phase_vol,cmap=\"GnBu\")\n",
    "plt.title(\"PCA à 2 composantes\")\n",
    "plt.xlabel(\"PCA1\")\n",
    "plt.ylabel(\"PCA2\")\n",
    "plt.colorbar(label=\"Phase de Vol\")\n",
    "plt.legend(loc='upper left', bbox_to_anchor=(1, 1))\n",
    "plt.show()\n"
   ]
  },
  {
   "cell_type": "markdown",
   "metadata": {},
   "source": [
    "EXERCICE - Projection et visualisation par PCA avec affichage de la phase de vol.\n",
    "Complétez le code matplotlib suivant afin de de colorer les points par phase de vol, avec une légende."
   ]
  },
  {
   "cell_type": "markdown",
   "metadata": {},
   "source": [
    "#### 2.3. $k$-means\n",
    "\n",
    "L'algorithme $k$-means est disponible dans le module `sklearn.cluster`, au côté d'autres algorithmes de clustering. "
   ]
  },
  {
   "cell_type": "code",
   "execution_count": 31,
   "metadata": {},
   "outputs": [],
   "source": [
    "from sklearn.cluster import KMeans"
   ]
  },
  {
   "cell_type": "markdown",
   "metadata": {},
   "source": [
    "#### 2.3.1. Apprentissage et visualisation des résultats"
   ]
  },
  {
   "cell_type": "markdown",
   "metadata": {},
   "source": [
    "EXERCICE - k-means clustering\n",
    "1. Instanciez un modèle k-means avec 10 centroïdes.\n",
    "2. Apprenez le modèle sur le jeu de données `X_vol_norm` et récupérez les étiquettes des clusters via la méthode de prédiction.\n",
    "3. Créez une figure composée de 2 graphiques.\n",
    "       3.1. Sur le graphique 1, affichez le nombre d'éléments par cluster sur un bar plot (indice : la méthode `bincount` de nummy évitera d'écrire une boucle).\n",
    "        3.2. SUr le graphique 2, affichez un scatter plot de la projection PCA en colorant les points par cluster.\n",
    "4. Interprétez le résultat. Peut-on établir une correspondance entre les clusters trouvés par k-means et les phases de vol ?"
   ]
  },
  {
   "cell_type": "code",
   "execution_count": 32,
   "metadata": {},
   "outputs": [],
   "source": [
    "kmeans = KMeans(n_clusters=10, random_state=0).fit(X_VOL_NORM2)"
   ]
  },
  {
   "cell_type": "code",
   "execution_count": 33,
   "metadata": {},
   "outputs": [],
   "source": [
    "prediction=kmeans.predict(X_VOL_NORM2)"
   ]
  },
  {
   "cell_type": "code",
   "execution_count": 34,
   "metadata": {},
   "outputs": [
    {
     "data": {
      "image/png": "[encoded data removed]",
      "text/plain": [
       "<Figure size 1800x360 with 3 Axes>"
      ]
     },
     "metadata": {
      "needs_background": "light"
     },
     "output_type": "display_data"
    }
   ],
   "source": [
    "plt.figure(figsize=(25,5))\n",
    "\n",
    "plt.subplot(1,2,1)\n",
    "plt.hist(prediction)\n",
    "plt.title(\"Histogramme des kmeans\")\n",
    "plt.ylabel(\"Count\")\n",
    "plt.xlabel(\"n° Kmeans\")\n",
    "\n",
    "plt.subplot(1,2,2)\n",
    "plt.scatter(x,y,c=prediction,cmap=\"GnBu\")\n",
    "plt.title(\"PCA à 2 composantes\")\n",
    "plt.xlabel(\"PCA1\")\n",
    "plt.ylabel(\"PCA2\")\n",
    "plt.colorbar(label=\"K-means\")\n",
    "\n",
    "\n",
    "plt.show()"
   ]
  },
  {
   "cell_type": "markdown",
   "metadata": {},
   "source": [
    "On remarque que les clusters des k-means sont sensiblement les mêmes que ceux des phases de vol dans le graphique ci dessus. Donc les phases de vols est le meilleur moyen de classer les données."
   ]
  },
  {
   "cell_type": "markdown",
   "metadata": {},
   "source": [
    "#### 2.3.2. Calcul de la pureté du clustering\n",
    "\n",
    "On souhaite maintenant répondre plus en détail à la question :\n",
    "    \n",
    "> Peut-on établir une correspondance entre les clusters trouvés par k-means et les phases de vol ?\n",
    "\n",
    "On commence par évaluer la capacité de notre modèle à trouver des clusters **homogènes par rapport à une variable cible**. Ici, notre variable cible sera la phase de vol. On cherche donc à mesurer si les clusters contiennent des points appartenant à une même phase de vol. Pour cela, on utilise un **indice de qualité de clustering** appelé **pureté** (_purity_). \n",
    "\n",
    "La pureté se calcule de la manière suivante :\n",
    "\n",
    "1. On associe à tous les points d'un cluster la classe (i.e. la variable cible) la plus fréquente au sein de ce cluster.\n",
    "2. On divise le nombre de points correctement associés à leur cluster par le nombre total de points.\n",
    "\n",
    "Pour un partitionnement $\\mathbf{Q} = \\{Q_k\\}, k = 1 \\ldots K$ et en notant $\\mathbf{Y} = \\{Y_j\\}, j = 1 \\ldots C$ l'ensemble des points appartenant à chaque classe, on a :\n",
    "\\begin{equation}\n",
    "    purity(\\mathbf{Q}, \\mathbf{Y}) = \\frac{1}{N} \\sum_{k=1}^K \\underset{j = 1 \\ldots C}{\\max} |Q_k \\cap Y_j|\n",
    "\\end{equation}"
   ]
  },
  {
   "cell_type": "markdown",
   "metadata": {},
   "source": [
    "EXERCICE - Calcul de la pureté\n",
    "1. Implémentez une fonction calculant la pureté d'un clustering à partir des labels et des valeurs de la variable cible. \n",
    "2. Quelle est la pureté du modèle avec 10 clusters ?"
   ]
  },
  {
   "cell_type": "code",
   "execution_count": 35,
   "metadata": {},
   "outputs": [],
   "source": [
    "df = pd.DataFrame({'Flight_mod':vol[\"FLIGHT_MOD\"] ,\n",
    "                   'k_means':prediction})"
   ]
  },
  {
   "cell_type": "code",
   "execution_count": 36,
   "metadata": {},
   "outputs": [
    {
     "ename": "AttributeError",
     "evalue": "'DataFrameGroupBy' object has no attribute 'groupby'",
     "output_type": "error",
     "traceback": [
      "\u001b[1;31m---------------------------------------------------------------------------\u001b[0m",
      "\u001b[1;31mAttributeError\u001b[0m                            Traceback (most recent call last)",
      "\u001b[1;32m<ipython-input-36-9bc230760e29>\u001b[0m in \u001b[0;36m<module>\u001b[1;34m\u001b[0m\n\u001b[1;32m----> 1\u001b[1;33m \u001b[0md_group\u001b[0m\u001b[1;33m=\u001b[0m\u001b[0mdf\u001b[0m\u001b[1;33m.\u001b[0m\u001b[0mgroupby\u001b[0m\u001b[1;33m(\u001b[0m\u001b[1;34m'k_means'\u001b[0m\u001b[1;33m)\u001b[0m\u001b[1;33m.\u001b[0m\u001b[0mgroupby\u001b[0m\u001b[1;33m\u001b[0m\u001b[1;33m\u001b[0m\u001b[0m\n\u001b[0m",
      "\u001b[1;32mc:\\Users\\thobi\\anaconda3\\lib\\site-packages\\pandas\\core\\groupby\\groupby.py\u001b[0m in \u001b[0;36m__getattr__\u001b[1;34m(self, attr)\u001b[0m\n\u001b[0;32m    750\u001b[0m             \u001b[1;32mreturn\u001b[0m \u001b[0mself\u001b[0m\u001b[1;33m[\u001b[0m\u001b[0mattr\u001b[0m\u001b[1;33m]\u001b[0m\u001b[1;33m\u001b[0m\u001b[1;33m\u001b[0m\u001b[0m\n\u001b[0;32m    751\u001b[0m \u001b[1;33m\u001b[0m\u001b[0m\n\u001b[1;32m--> 752\u001b[1;33m         raise AttributeError(\n\u001b[0m\u001b[0;32m    753\u001b[0m             \u001b[1;34mf\"'{type(self).__name__}' object has no attribute '{attr}'\"\u001b[0m\u001b[1;33m\u001b[0m\u001b[1;33m\u001b[0m\u001b[0m\n\u001b[0;32m    754\u001b[0m         )\n",
      "\u001b[1;31mAttributeError\u001b[0m: 'DataFrameGroupBy' object has no attribute 'groupby'"
     ]
    }
   ],
   "source": [
    "d_group=df.groupby('k_means').groupby"
   ]
  },
  {
   "cell_type": "code",
   "execution_count": null,
   "metadata": {},
   "outputs": [
    {
     "data": {
      "text/html": [
       "<div>\n",
       "<style scoped>\n",
       "    .dataframe tbody tr th:only-of-type {\n",
       "        vertical-align: middle;\n",
       "    }\n",
       "\n",
       "    .dataframe tbody tr th {\n",
       "        vertical-align: top;\n",
       "    }\n",
       "\n",
       "    .dataframe thead th {\n",
       "        text-align: right;\n",
       "    }\n",
       "</style>\n",
       "<table border=\"1\" class=\"dataframe\">\n",
       "  <thead>\n",
       "    <tr style=\"text-align: right;\">\n",
       "      <th></th>\n",
       "      <th>k_means</th>\n",
       "    </tr>\n",
       "    <tr>\n",
       "      <th>Flight_mod</th>\n",
       "      <th></th>\n",
       "    </tr>\n",
       "  </thead>\n",
       "  <tbody>\n",
       "    <tr>\n",
       "      <th>1</th>\n",
       "      <td>53</td>\n",
       "    </tr>\n",
       "    <tr>\n",
       "      <th>2</th>\n",
       "      <td>35</td>\n",
       "    </tr>\n",
       "    <tr>\n",
       "      <th>3</th>\n",
       "      <td>281</td>\n",
       "    </tr>\n",
       "    <tr>\n",
       "      <th>4</th>\n",
       "      <td>48</td>\n",
       "    </tr>\n",
       "    <tr>\n",
       "      <th>5</th>\n",
       "      <td>335</td>\n",
       "    </tr>\n",
       "    <tr>\n",
       "      <th>6</th>\n",
       "      <td>788</td>\n",
       "    </tr>\n",
       "    <tr>\n",
       "      <th>7</th>\n",
       "      <td>550</td>\n",
       "    </tr>\n",
       "    <tr>\n",
       "      <th>8</th>\n",
       "      <td>57</td>\n",
       "    </tr>\n",
       "    <tr>\n",
       "      <th>9</th>\n",
       "      <td>16</td>\n",
       "    </tr>\n",
       "    <tr>\n",
       "      <th>10</th>\n",
       "      <td>120</td>\n",
       "    </tr>\n",
       "  </tbody>\n",
       "</table>\n",
       "</div>"
      ],
      "text/plain": [
       "            k_means\n",
       "Flight_mod         \n",
       "1                53\n",
       "2                35\n",
       "3               281\n",
       "4                48\n",
       "5               335\n",
       "6               788\n",
       "7               550\n",
       "8                57\n",
       "9                16\n",
       "10              120"
      ]
     },
     "execution_count": 57,
     "metadata": {},
     "output_type": "execute_result"
    }
   ],
   "source": [
    "for cluster_n in range(1,len(prediction)):\n",
    "\tdf.loc[:, ['Flight_mod', 'k_means']].groupby('Flight_mod').count()"
   ]
  },
  {
   "cell_type": "code",
   "execution_count": null,
   "metadata": {},
   "outputs": [
    {
     "ename": "TypeError",
     "evalue": "len() takes exactly one argument (0 given)",
     "output_type": "error",
     "traceback": [
      "\u001b[1;31m---------------------------------------------------------------------------\u001b[0m",
      "\u001b[1;31mTypeError\u001b[0m                                 Traceback (most recent call last)",
      "\u001b[1;32m<ipython-input-35-c0f91ef7b6ec>\u001b[0m in \u001b[0;36m<module>\u001b[1;34m\u001b[0m\n\u001b[0;32m      8\u001b[0m     \u001b[1;32mreturn\u001b[0m\u001b[1;33m(\u001b[0m\u001b[0msum\u001b[0m\u001b[1;33m/\u001b[0m\u001b[0mN\u001b[0m\u001b[1;33m)\u001b[0m\u001b[1;33m\u001b[0m\u001b[1;33m\u001b[0m\u001b[0m\n\u001b[0;32m      9\u001b[0m \u001b[1;33m\u001b[0m\u001b[0m\n\u001b[1;32m---> 10\u001b[1;33m \u001b[0mpur\u001b[0m \u001b[1;33m=\u001b[0m \u001b[0mcluster_purity\u001b[0m\u001b[1;33m(\u001b[0m\u001b[0mprediction\u001b[0m\u001b[1;33m,\u001b[0m\u001b[0mvol\u001b[0m\u001b[1;33m[\u001b[0m\u001b[1;34m'FLIGHT_MOD'\u001b[0m\u001b[1;33m]\u001b[0m\u001b[1;33m)\u001b[0m\u001b[1;33m\u001b[0m\u001b[1;33m\u001b[0m\u001b[0m\n\u001b[0m\u001b[0;32m     11\u001b[0m \u001b[0mprint\u001b[0m\u001b[1;33m(\u001b[0m\u001b[1;34m'Pureté : {:f} %'\u001b[0m\u001b[1;33m.\u001b[0m\u001b[0mformat\u001b[0m\u001b[1;33m(\u001b[0m\u001b[0mpur\u001b[0m\u001b[1;33m*\u001b[0m\u001b[1;36m100\u001b[0m\u001b[1;33m)\u001b[0m\u001b[1;33m)\u001b[0m\u001b[1;33m\u001b[0m\u001b[1;33m\u001b[0m\u001b[0m\n",
      "\u001b[1;32m<ipython-input-35-c0f91ef7b6ec>\u001b[0m in \u001b[0;36mcluster_purity\u001b[1;34m(labels, targets)\u001b[0m\n\u001b[0;32m      2\u001b[0m \u001b[1;32mdef\u001b[0m \u001b[0mcluster_purity\u001b[0m\u001b[1;33m(\u001b[0m\u001b[0mlabels\u001b[0m\u001b[1;33m,\u001b[0m \u001b[0mtargets\u001b[0m\u001b[1;33m)\u001b[0m\u001b[1;33m:\u001b[0m\u001b[1;33m\u001b[0m\u001b[1;33m\u001b[0m\u001b[0m\n\u001b[0;32m      3\u001b[0m     \u001b[0msum\u001b[0m\u001b[1;33m=\u001b[0m\u001b[1;36m0\u001b[0m\u001b[1;33m\u001b[0m\u001b[1;33m\u001b[0m\u001b[0m\n\u001b[1;32m----> 4\u001b[1;33m     \u001b[0mN\u001b[0m\u001b[1;33m=\u001b[0m\u001b[0mlen\u001b[0m\u001b[1;33m(\u001b[0m\u001b[1;33m)\u001b[0m\u001b[1;33m\u001b[0m\u001b[1;33m\u001b[0m\u001b[0m\n\u001b[0m\u001b[0;32m      5\u001b[0m     \u001b[1;32mfor\u001b[0m \u001b[0mk\u001b[0m \u001b[1;32min\u001b[0m \u001b[0mrange\u001b[0m\u001b[1;33m(\u001b[0m\u001b[0mK\u001b[0m\u001b[1;33m)\u001b[0m\u001b[1;33m:\u001b[0m\u001b[1;33m\u001b[0m\u001b[1;33m\u001b[0m\u001b[0m\n\u001b[0;32m      6\u001b[0m         \u001b[0mprint\u001b[0m\u001b[1;33m(\u001b[0m\u001b[1;34m\"\"\u001b[0m\u001b[1;33m)\u001b[0m\u001b[1;33m\u001b[0m\u001b[1;33m\u001b[0m\u001b[0m\n",
      "\u001b[1;31mTypeError\u001b[0m: len() takes exactly one argument (0 given)"
     ]
    }
   ],
   "source": [
    "# On rajoute la colonne prediction, puis groupby puis mode sur la colonne de phase de vol puis on compte\n",
    "def cluster_purity(labels, targets):\n",
    "    sum=0\n",
    "    N=len()\n",
    "    for k in range(K):\n",
    "        print(\"\")\n",
    "\n",
    "    return(sum/N)\n",
    "\n",
    "pur = cluster_purity(prediction,vol['FLIGHT_MOD'])\n",
    "print('Pureté : {:f} %'.format(pur*100))"
   ]
  },
  {
   "cell_type": "markdown",
   "metadata": {},
   "source": [
    "EXERCICE - Effet du nombre de clusters sur la pureté\n",
    "1. Faites varier le nombre de clusters de k-means. Quel est l'effet sur la pureté ?\n",
    "2. Tracez la pureté en fonction du nombre de clusters pour quelques valeurs de ce nombre (par exemple K=1, 2, 3, 5, 10, 20, 30, 50).\n",
    "3. Quelle est, à votre avis, la \"meilleure\" valeur de K ? Que peut-on en conclure ?"
   ]
  },
  {
   "cell_type": "code",
   "execution_count": null,
   "metadata": {},
   "outputs": [],
   "source": [
    "K=[1,2,3,5,10,20,30,50]\n",
    "purete=[]\n",
    "for k in K:\n",
    "\tkmeans = KMeans(n_clusters=k, random_state=0).fit(X_VOL_NORM2)\n",
    "\tprediction=kmeans.predict(X_VOL_NORM2)\n",
    "\tpurete.append(cluster_purity(prediction,vol['FLIGHT_MOD']))\n",
    "\n",
    "plt.plot(K,purete,label=\"pureté\")\n",
    "plt.xlabel(\"Nbr cluster\")\n",
    "plt.ylabel(\"pureté\")\n",
    "plt.title(\"Courbe de pureté pour k-means sur les phases de vol\")"
   ]
  },
  {
   "cell_type": "markdown",
   "metadata": {},
   "source": [
    "#### 2.3.3. Calcul de la précision de classification non supervisée (_unsupervised clustering accuracy_)\n",
    "\n",
    "Enfin, on souhaite évaluer la performance de notre modèle en tant que classificateur.\n",
    "\n",
    "**Note** : cette approche n'a de sens que si le nombre de clusters est égal au nombre de classes de la variable cible !\n",
    "\n",
    "Pour ce faire, nous allons passer par une métrique appelée **unsupervised clustering accuracy**. Celle-ci correspond à la précision de classification (i.e. proportion de points correctement classifiés), mais dans un cadre non supervisé. Cette métrique mesure la capacité à partitionner les données selon les différentes modalités d'une variable cible. La question est donc de mesurer la capacité du modèle $k$-means à partitionner les données selon la phase de vol.\n",
    "\n",
    "Cette métrique s'écrit :\n",
    "\\begin{equation}\n",
    "    acc(\\mathbf{Q}, \\mathbf{Y}) = \\frac{1}{N} \\underset{m}\\max \\sum_{k=1}^K |Q_k \\cap Y_{m(k)}|\n",
    "\\end{equation}\n",
    "\n",
    "où on cherche la meilleure association $m$ (_mapping_) deux à deux entre clusters et classes (dans notre cas, l'association entre Cluster 0, Cluster 1, etc. et les phases de vol taxi, take_off, etc.).\n",
    "\n",
    "Pour calculer cette meilleur association, un algorithme efficace est la _méthode Hongroise_ ou algorithme de Kuhn-Munkres. Celui-ci est disponible dans le module de scipy `scipy.optimize.linear_sum_assignment`."
   ]
  },
  {
   "cell_type": "code",
   "execution_count": null,
   "metadata": {},
   "outputs": [],
   "source": [
    "from scipy.optimize import linear_sum_assignment"
   ]
  },
  {
   "cell_type": "code",
   "execution_count": null,
   "metadata": {},
   "outputs": [],
   "source": []
  },
  {
   "cell_type": "code",
   "execution_count": null,
   "metadata": {},
   "outputs": [
    {
     "ename": "NameError",
     "evalue": "name 'prediction' is not defined",
     "output_type": "error",
     "traceback": [
      "\u001b[1;31m---------------------------------------------------------------------------\u001b[0m",
      "\u001b[1;31mNameError\u001b[0m                                 Traceback (most recent call last)",
      "\u001b[1;32m<ipython-input-2-031c0679af43>\u001b[0m in \u001b[0;36m<module>\u001b[1;34m\u001b[0m\n\u001b[0;32m      8\u001b[0m     \u001b[1;32mreturn\u001b[0m \u001b[0mw\u001b[0m\u001b[1;33m[\u001b[0m\u001b[0mrow_ind\u001b[0m\u001b[1;33m,\u001b[0m \u001b[0mcol_ind\u001b[0m\u001b[1;33m]\u001b[0m\u001b[1;33m.\u001b[0m\u001b[0msum\u001b[0m\u001b[1;33m(\u001b[0m\u001b[1;33m)\u001b[0m \u001b[1;33m*\u001b[0m \u001b[1;36m1.0\u001b[0m \u001b[1;33m/\u001b[0m \u001b[0mlabels\u001b[0m\u001b[1;33m.\u001b[0m\u001b[0msize\u001b[0m\u001b[1;33m\u001b[0m\u001b[1;33m\u001b[0m\u001b[0m\n\u001b[0;32m      9\u001b[0m \u001b[1;33m\u001b[0m\u001b[0m\n\u001b[1;32m---> 10\u001b[1;33m \u001b[0macc\u001b[0m \u001b[1;33m=\u001b[0m \u001b[0mcluster_acc\u001b[0m\u001b[1;33m(\u001b[0m\u001b[0mprediction\u001b[0m\u001b[1;33m,\u001b[0m \u001b[0mvol\u001b[0m\u001b[1;33m[\u001b[0m\u001b[1;34m'FLIGHT_MOD'\u001b[0m\u001b[1;33m]\u001b[0m\u001b[1;33m)\u001b[0m\u001b[1;33m\u001b[0m\u001b[1;33m\u001b[0m\u001b[0m\n\u001b[0m\u001b[0;32m     11\u001b[0m \u001b[0mprint\u001b[0m\u001b[1;33m(\u001b[0m\u001b[1;34m'Accuracy : {:f} %'\u001b[0m\u001b[1;33m.\u001b[0m\u001b[0mformat\u001b[0m\u001b[1;33m(\u001b[0m\u001b[0macc\u001b[0m\u001b[1;33m*\u001b[0m\u001b[1;36m100\u001b[0m\u001b[1;33m)\u001b[0m\u001b[1;33m)\u001b[0m\u001b[1;33m\u001b[0m\u001b[1;33m\u001b[0m\u001b[0m\n",
      "\u001b[1;31mNameError\u001b[0m: name 'prediction' is not defined"
     ]
    }
   ],
   "source": [
    "def cluster_acc(labels, targets):\n",
    "    assert labels.size == targets.size\n",
    "    D = max(labels.max(), targets.max()) + 1\n",
    "    w = np.zeros((D, D))\n",
    "    for i in range(labels.size):\n",
    "        w[labels[i], targets[i]] += 1\n",
    "    row_ind, col_ind = linear_sum_assignment(w.max() - w)\n",
    "    return w[row_ind, col_ind].sum() * 1.0 / labels.size\n",
    "\n",
    "acc = cluster_acc(prediction, vol['FLIGHT_MOD'])\n",
    "print('Accuracy : {:f} %'.format(acc*100))"
   ]
  },
  {
   "cell_type": "markdown",
   "metadata": {},
   "source": [
    "#### Test Khi-2\n",
    "\n",
    "Découvrir la library scipy pour effectuer le test de chi-deux d'indépendance des variables dans un tableau de contingence.\n",
    "\n",
    "https://docs.scipy.org/doc/scipy/reference/generated/scipy.stats.chi2_contingency.html\n",
    "\n",
    "scipy.stats.chi2_contingency : fonction permet de calculer le score de khi-2 et la p-value pour le test d'hypothèse d'indépendance des fréquences observées. "
   ]
  }
 ],
 "metadata": {
  "kernelspec": {
   "display_name": "Python 3.8.8 ('base')",
   "language": "python",
   "name": "python3"
  },
  "language_info": {
   "codemirror_mode": {
    "name": "ipython",
    "version": 3
   },
   "file_extension": ".py",
   "mimetype": "text/x-python",
   "name": "python",
   "nbconvert_exporter": "python",
   "pygments_lexer": "ipython3",
   "version": "3.8.8"
  },
  "orig_nbformat": 4,
  "vscode": {
   "interpreter": {
    "hash": "4733dbd1e8826140db1cc445337af4405e38ee5554ffe600d37e6c07e2b40485"
   }
  }
 },
 "nbformat": 4,
 "nbformat_minor": 2
}
