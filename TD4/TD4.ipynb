{
 "cells": [
  {
   "cell_type": "markdown",
   "metadata": {},
   "source": [
    "# TD 4 | Étude des vibrations des aubes d'un rouet de compresseur d'un turbofan\n",
    "\n",
    "---\n",
    "\n",
    "Objectifs du TD :\n",
    "\n",
    "* pratiquer sur un use case concret d'analyse statistique de données de production aéronautiques\n",
    "* PCA\n",
    "* tests statistiques et coefficients de corrélation\n",
    "\n",
    "---"
   ]
  },
  {
   "cell_type": "markdown",
   "metadata": {},
   "source": [
    "## Présentation du problème"
   ]
  },
  {
   "cell_type": "markdown",
   "metadata": {},
   "source": [
    "On considère le **rouet de compresseur** de la **turbine à gaz d'un turbopropulseur** d'hélicoptère. Celui-ci est constitué de 13 **aubes**.\n",
    "\n",
    "<img src=\"rc/turbo-helico.png\" />\n",
    "\n",
    "<img src=\"rc/compresseur.png\" /> <img src=\"rc/compresseur-2.png\" />\n",
    "\n",
    "En production, après la fabrication et montage de la pièce, on mesure les vibrations des aubes grâce à une technique appelée **tip-timing**. Cette technique consiste à mesurer la position d'une aube en rotation par rapport à sa position au repos. En effet, les vibrations dues à la rotation entraînent un **décalage de la position des aubes** (voir schéma ci-dessous). \n",
    "\n",
    "<img src=\"rc/tiptiming.png\"/>\n",
    "\n",
    "La mesure de ce déplacement maximal à un régime (vitesse de rotation) donné permet de déduire le niveau vibratoire de chacune des aubes. Voici les résultats obtenus pour chacune des 13 aubes :\n",
    "\n",
    "<img src=\"rc/vibrations.png\" />"
   ]
  },
  {
   "cell_type": "markdown",
   "metadata": {},
   "source": [
    "<div style=\"color: #bb1111; font-size: 16px; background-color: #ffeeee; padding: 20px; border-radius: 15px\">\n",
    "    <p><b>Problème :</b> on observe un niveau de vibrations anormal pour l'aube numérotée 11 dans le tableau ci-dessus (déplacement maximal de 0.99 mm). Cependant, il est impossible d'identifier de manière certaine cette aube, car l'aube n°1 n'est pas identifiée : il peut y avoir un décalage circulaire des mesures. On sait seulement qu'une aube vibre davantage que les autres. Comment peut-on identifier cette aube afin de la remplacer ?</p>\n",
    "</div>"
   ]
  },
  {
   "cell_type": "markdown",
   "metadata": {},
   "source": [
    "## Présentation des données"
   ]
  },
  {
   "cell_type": "markdown",
   "metadata": {},
   "source": [
    "<div style=\"color: #1111bb; font-size: 16px; background-color: #eeeeff; padding: 20px; border-radius: 15px\">\n",
    "    <p>On dispose de données de production sur les aubes de ce compresseur !</p>\n",
    "</div>"
   ]
  },
  {
   "cell_type": "markdown",
   "metadata": {},
   "source": [
    "Durant la production, de nombreuses caractéristiques géométriques de chaque aube sont mesurées. Ces données géométriques sont les suivantes :\n",
    "\n",
    "* 17 variables géométriques concernant la forme (bord d'attaque BA, bord de fuite BF, etc.) de l'aube\n",
    "* 94 variables d'épaisseurs mesurées à différents points de l'aube\n",
    "\n",
    "soit un total de 111 variables mesurées par aube. Ces données se trouvent dans le fichier `Rouet_geometries.csv` (voir figures ci-dessous).\n",
    "\n",
    "<img src=\"rc/geometries.png\" />\n",
    "<img src=\"rc/epaisseurs.png\" />"
   ]
  },
  {
   "cell_type": "markdown",
   "metadata": {},
   "source": [
    "Enfin, les données de vibrations issues du tip-timing se trouvent dans le fichier `Rouet_vibrations.csv`.\n",
    "\n",
    "<img src=\"rc/vibrations.png\" />"
   ]
  },
  {
   "cell_type": "markdown",
   "metadata": {},
   "source": [
    "<div style=\"color: #1111bb; font-size: 16px; background-color: #eeeeff; padding: 20px; border-radius: 15px\">\n",
    "    <p><b>Attention :</b> Les numérotations des aubes dans les données géométriques et les résultats du tip-timing ne sont pas les mêmes (permutation circulaire) !</p>\n",
    "</div>"
   ]
  },
  {
   "cell_type": "markdown",
   "metadata": {},
   "source": [
    "## 1. Chargement et préparation des données\n",
    "\n",
    "### 1.1 Lecture des données\n",
    "\n",
    "Charger les deux jeux de données, géométries (`./data/Rouet_geometries.csv`) et vibrations (`./data/Rouet_vibrations.csv`), dans des DataFrames pandas. Il sera nécessaire de prêter attention au format des fichier (header, séparateur de colonnes, typage des colonnes, etc.).\n",
    "\n",
    "**Indice** : l'encodage des fichier CSV n'est pas UTF-8, il faudra donc préciser l'option `encoding='latin'` à la fonction `pandas.read_csv`."
   ]
  },
  {
   "cell_type": "code",
   "execution_count": 2,
   "metadata": {},
   "outputs": [],
   "source": [
    "import pandas as pd\n",
    "import numpy as np"
   ]
  },
  {
   "cell_type": "code",
   "execution_count": 3,
   "metadata": {},
   "outputs": [],
   "source": [
    "from email.header import Header\n",
    "from tkinter.ttk import Separator\n",
    "\n",
    "\n",
    "geometries = pd.read_csv(\"../data/Rouet_geometries.csv\",encoding=\"latin\",skiprows=[0,1,16], sep=\";\", decimal=\",\")"
   ]
  },
  {
   "cell_type": "code",
   "execution_count": 4,
   "metadata": {},
   "outputs": [
    {
     "data": {
      "text/html": [
       "<div>\n",
       "<style scoped>\n",
       "    .dataframe tbody tr th:only-of-type {\n",
       "        vertical-align: middle;\n",
       "    }\n",
       "\n",
       "    .dataframe tbody tr th {\n",
       "        vertical-align: top;\n",
       "    }\n",
       "\n",
       "    .dataframe thead th {\n",
       "        text-align: right;\n",
       "    }\n",
       "</style>\n",
       "<table border=\"1\" class=\"dataframe\">\n",
       "  <thead>\n",
       "    <tr style=\"text-align: right;\">\n",
       "      <th></th>\n",
       "      <th>N° Pale</th>\n",
       "      <th>BA in</th>\n",
       "      <th>MI in</th>\n",
       "      <th>BF intra</th>\n",
       "      <th>BA ex</th>\n",
       "      <th>MI Ex</th>\n",
       "      <th>BF ex</th>\n",
       "      <th>BA in.1</th>\n",
       "      <th>MI in.1</th>\n",
       "      <th>BF intra.1</th>\n",
       "      <th>...</th>\n",
       "      <th>85</th>\n",
       "      <th>86</th>\n",
       "      <th>87</th>\n",
       "      <th>88</th>\n",
       "      <th>89</th>\n",
       "      <th>90</th>\n",
       "      <th>91</th>\n",
       "      <th>92</th>\n",
       "      <th>93</th>\n",
       "      <th>94</th>\n",
       "    </tr>\n",
       "  </thead>\n",
       "  <tbody>\n",
       "    <tr>\n",
       "      <th>0</th>\n",
       "      <td>1</td>\n",
       "      <td>0.077</td>\n",
       "      <td>0.064</td>\n",
       "      <td>0.047</td>\n",
       "      <td>0.054</td>\n",
       "      <td>0.035</td>\n",
       "      <td>0.053</td>\n",
       "      <td>4.43</td>\n",
       "      <td>2.03</td>\n",
       "      <td>1.95</td>\n",
       "      <td>...</td>\n",
       "      <td>121</td>\n",
       "      <td>151</td>\n",
       "      <td>140</td>\n",
       "      <td>143</td>\n",
       "      <td>161</td>\n",
       "      <td>168</td>\n",
       "      <td>180</td>\n",
       "      <td>175</td>\n",
       "      <td>182</td>\n",
       "      <td>194</td>\n",
       "    </tr>\n",
       "    <tr>\n",
       "      <th>1</th>\n",
       "      <td>2</td>\n",
       "      <td>0.068</td>\n",
       "      <td>0.073</td>\n",
       "      <td>0.059</td>\n",
       "      <td>0.056</td>\n",
       "      <td>0.039</td>\n",
       "      <td>0.053</td>\n",
       "      <td>4.44</td>\n",
       "      <td>2.02</td>\n",
       "      <td>1.95</td>\n",
       "      <td>...</td>\n",
       "      <td>129</td>\n",
       "      <td>155</td>\n",
       "      <td>149</td>\n",
       "      <td>148</td>\n",
       "      <td>172</td>\n",
       "      <td>176</td>\n",
       "      <td>187</td>\n",
       "      <td>185</td>\n",
       "      <td>190</td>\n",
       "      <td>197</td>\n",
       "    </tr>\n",
       "    <tr>\n",
       "      <th>2</th>\n",
       "      <td>3</td>\n",
       "      <td>0.074</td>\n",
       "      <td>0.072</td>\n",
       "      <td>0.055</td>\n",
       "      <td>0.059</td>\n",
       "      <td>0.038</td>\n",
       "      <td>0.047</td>\n",
       "      <td>4.44</td>\n",
       "      <td>2.03</td>\n",
       "      <td>1.95</td>\n",
       "      <td>...</td>\n",
       "      <td>129</td>\n",
       "      <td>154</td>\n",
       "      <td>146</td>\n",
       "      <td>146</td>\n",
       "      <td>165</td>\n",
       "      <td>173</td>\n",
       "      <td>183</td>\n",
       "      <td>177</td>\n",
       "      <td>185</td>\n",
       "      <td>195</td>\n",
       "    </tr>\n",
       "    <tr>\n",
       "      <th>3</th>\n",
       "      <td>4</td>\n",
       "      <td>0.070</td>\n",
       "      <td>0.076</td>\n",
       "      <td>0.058</td>\n",
       "      <td>0.056</td>\n",
       "      <td>0.037</td>\n",
       "      <td>0.062</td>\n",
       "      <td>4.46</td>\n",
       "      <td>2.02</td>\n",
       "      <td>1.94</td>\n",
       "      <td>...</td>\n",
       "      <td>125</td>\n",
       "      <td>152</td>\n",
       "      <td>146</td>\n",
       "      <td>146</td>\n",
       "      <td>168</td>\n",
       "      <td>171</td>\n",
       "      <td>186</td>\n",
       "      <td>182</td>\n",
       "      <td>189</td>\n",
       "      <td>196</td>\n",
       "    </tr>\n",
       "    <tr>\n",
       "      <th>4</th>\n",
       "      <td>5</td>\n",
       "      <td>0.086</td>\n",
       "      <td>0.060</td>\n",
       "      <td>0.041</td>\n",
       "      <td>0.042</td>\n",
       "      <td>0.043</td>\n",
       "      <td>0.065</td>\n",
       "      <td>4.42</td>\n",
       "      <td>2.03</td>\n",
       "      <td>1.97</td>\n",
       "      <td>...</td>\n",
       "      <td>126</td>\n",
       "      <td>150</td>\n",
       "      <td>147</td>\n",
       "      <td>146</td>\n",
       "      <td>164</td>\n",
       "      <td>172</td>\n",
       "      <td>185</td>\n",
       "      <td>178</td>\n",
       "      <td>184</td>\n",
       "      <td>194</td>\n",
       "    </tr>\n",
       "  </tbody>\n",
       "</table>\n",
       "<p>5 rows × 112 columns</p>\n",
       "</div>"
      ],
      "text/plain": [
       "   N° Pale  BA in  MI in  BF intra  BA ex  MI Ex  BF ex  BA in.1  MI in.1  \\\n",
       "0        1  0.077  0.064     0.047  0.054  0.035  0.053     4.43     2.03   \n",
       "1        2  0.068  0.073     0.059  0.056  0.039  0.053     4.44     2.02   \n",
       "2        3  0.074  0.072     0.055  0.059  0.038  0.047     4.44     2.03   \n",
       "3        4  0.070  0.076     0.058  0.056  0.037  0.062     4.46     2.02   \n",
       "4        5  0.086  0.060     0.041  0.042  0.043  0.065     4.42     2.03   \n",
       "\n",
       "   BF intra.1  ...   85   86   87   88   89   90   91   92   93   94  \n",
       "0        1.95  ...  121  151  140  143  161  168  180  175  182  194  \n",
       "1        1.95  ...  129  155  149  148  172  176  187  185  190  197  \n",
       "2        1.95  ...  129  154  146  146  165  173  183  177  185  195  \n",
       "3        1.94  ...  125  152  146  146  168  171  186  182  189  196  \n",
       "4        1.97  ...  126  150  147  146  164  172  185  178  184  194  \n",
       "\n",
       "[5 rows x 112 columns]"
      ]
     },
     "execution_count": 4,
     "metadata": {},
     "output_type": "execute_result"
    }
   ],
   "source": [
    "geometries.head()"
   ]
  },
  {
   "cell_type": "code",
   "execution_count": 5,
   "metadata": {},
   "outputs": [],
   "source": [
    "vibrations = pd.read_csv(\"../data/Rouet_vibrations.csv\", encoding=\"latin\",header=1, sep=\";\", decimal=\",\")"
   ]
  },
  {
   "cell_type": "code",
   "execution_count": 6,
   "metadata": {},
   "outputs": [
    {
     "data": {
      "text/html": [
       "<div>\n",
       "<style scoped>\n",
       "    .dataframe tbody tr th:only-of-type {\n",
       "        vertical-align: middle;\n",
       "    }\n",
       "\n",
       "    .dataframe tbody tr th {\n",
       "        vertical-align: top;\n",
       "    }\n",
       "\n",
       "    .dataframe thead th {\n",
       "        text-align: right;\n",
       "    }\n",
       "</style>\n",
       "<table border=\"1\" class=\"dataframe\">\n",
       "  <thead>\n",
       "    <tr style=\"text-align: right;\">\n",
       "      <th></th>\n",
       "      <th>N° Pale</th>\n",
       "      <th>Niveau vibratoire 1FPP (mm)</th>\n",
       "      <th>Vitesse de rotation - Régime (RPM)</th>\n",
       "    </tr>\n",
       "  </thead>\n",
       "  <tbody>\n",
       "    <tr>\n",
       "      <th>0</th>\n",
       "      <td>1</td>\n",
       "      <td>0.54</td>\n",
       "      <td>16532.3</td>\n",
       "    </tr>\n",
       "    <tr>\n",
       "      <th>1</th>\n",
       "      <td>2</td>\n",
       "      <td>0.60</td>\n",
       "      <td>16538.4</td>\n",
       "    </tr>\n",
       "    <tr>\n",
       "      <th>2</th>\n",
       "      <td>3</td>\n",
       "      <td>0.61</td>\n",
       "      <td>16543.6</td>\n",
       "    </tr>\n",
       "    <tr>\n",
       "      <th>3</th>\n",
       "      <td>4</td>\n",
       "      <td>0.53</td>\n",
       "      <td>16560.2</td>\n",
       "    </tr>\n",
       "    <tr>\n",
       "      <th>4</th>\n",
       "      <td>5</td>\n",
       "      <td>0.43</td>\n",
       "      <td>16550.8</td>\n",
       "    </tr>\n",
       "  </tbody>\n",
       "</table>\n",
       "</div>"
      ],
      "text/plain": [
       "   N° Pale  Niveau vibratoire 1FPP (mm)  Vitesse de rotation - Régime (RPM)\n",
       "0        1                         0.54                             16532.3\n",
       "1        2                         0.60                             16538.4\n",
       "2        3                         0.61                             16543.6\n",
       "3        4                         0.53                             16560.2\n",
       "4        5                         0.43                             16550.8"
      ]
     },
     "execution_count": 6,
     "metadata": {},
     "output_type": "execute_result"
    }
   ],
   "source": [
    "vibrations.head()"
   ]
  },
  {
   "cell_type": "markdown",
   "metadata": {},
   "source": [
    "### 1.2 Standardisez les variables géométriques afin d'obtenir des variables centrées (moyenne 0) et réduites (variance 1)."
   ]
  },
  {
   "cell_type": "code",
   "execution_count": 7,
   "metadata": {},
   "outputs": [],
   "source": [
    "from sklearn.preprocessing import StandardScaler"
   ]
  },
  {
   "cell_type": "code",
   "execution_count": 8,
   "metadata": {},
   "outputs": [
    {
     "data": {
      "text/plain": [
       "array([[ 0.03930267, -1.20498957],\n",
       "       [ 0.42250369, -1.07792086],\n",
       "       [ 0.48637052, -0.96959999],\n",
       "       [-0.02456417, -0.62380644],\n",
       "       [-0.66323253, -0.81961724],\n",
       "       [ 0.74183787,  0.30941953],\n",
       "       [-0.98256671,  1.51344767],\n",
       "       [-0.66323253,  0.52397818],\n",
       "       [-0.088431  ,  0.93434763],\n",
       "       [-0.47163202,  1.02808685],\n",
       "       [ 2.9133103 ,  0.9447631 ],\n",
       "       [-0.91869988,  0.89268576],\n",
       "       [-0.7909662 , -1.45079463]])"
      ]
     },
     "execution_count": 8,
     "metadata": {},
     "output_type": "execute_result"
    }
   ],
   "source": [
    "vibrations_norm = StandardScaler().fit_transform(vibrations.to_numpy()[:,1:3])\n",
    "vibrations_norm"
   ]
  },
  {
   "cell_type": "code",
   "execution_count": 9,
   "metadata": {},
   "outputs": [
    {
     "data": {
      "text/plain": [
       "array([[7.70e-02, 6.40e-02, 4.70e-02, ..., 1.75e+02, 1.82e+02, 1.94e+02],\n",
       "       [6.80e-02, 7.30e-02, 5.90e-02, ..., 1.85e+02, 1.90e+02, 1.97e+02],\n",
       "       [7.40e-02, 7.20e-02, 5.50e-02, ..., 1.77e+02, 1.85e+02, 1.95e+02],\n",
       "       ...,\n",
       "       [8.70e-02, 6.60e-02, 4.70e-02, ..., 1.78e+02, 1.83e+02, 1.94e+02],\n",
       "       [8.10e-02, 6.80e-02, 4.50e-02, ..., 1.93e+02, 1.99e+02, 2.11e+02],\n",
       "       [8.60e-02, 6.10e-02, 4.90e-02, ..., 2.06e+02, 2.08e+02, 2.23e+02]])"
      ]
     },
     "execution_count": 9,
     "metadata": {},
     "output_type": "execute_result"
    }
   ],
   "source": [
    "geometries.to_numpy()[:,1:len(geometries.columns)]"
   ]
  },
  {
   "cell_type": "code",
   "execution_count": 10,
   "metadata": {},
   "outputs": [
    {
     "data": {
      "text/plain": [
       "array([[-0.16766319, -0.50410083, -0.73993433, ..., -0.74174488,\n",
       "        -0.67345379, -0.55903023],\n",
       "       [-1.47543605,  1.13422687,  1.39765374, ...,  0.04221312,\n",
       "        -0.01270668, -0.31406193],\n",
       "       [-0.60358748,  0.95219046,  0.68512438, ..., -0.58495328,\n",
       "        -0.42567362, -0.47737413],\n",
       "       ...,\n",
       "       [ 1.28541777, -0.14002801, -0.73993433, ..., -0.50655748,\n",
       "        -0.5908604 , -0.55903023],\n",
       "       [ 0.4135692 ,  0.22404481, -1.09619901, ...,  0.66937953,\n",
       "         0.73063382,  0.82912348],\n",
       "       [ 1.14010968, -1.05021006, -0.38366965, ...,  1.68852493,\n",
       "         1.47397432,  1.80899669]])"
      ]
     },
     "execution_count": 10,
     "metadata": {},
     "output_type": "execute_result"
    }
   ],
   "source": [
    "geometries_norm = StandardScaler().fit_transform(geometries.to_numpy()[:,1:len(geometries.columns)])\n",
    "geometries_norm"
   ]
  },
  {
   "cell_type": "markdown",
   "metadata": {},
   "source": [
    "## 2. Analyse exploratoire des données\n",
    "\n",
    "### 2.1 Affichez le niveau vibratoire de chaque aube sur un bar plot"
   ]
  },
  {
   "cell_type": "code",
   "execution_count": 11,
   "metadata": {},
   "outputs": [],
   "source": [
    "import matplotlib.pyplot as plt\n",
    "import seaborn as sns"
   ]
  },
  {
   "cell_type": "code",
   "execution_count": 12,
   "metadata": {},
   "outputs": [
    {
     "data": {
      "text/plain": [
       "Text(0.5, 1.0, 'Niveau vibratoire selon la palme')"
      ]
     },
     "execution_count": 12,
     "metadata": {},
     "output_type": "execute_result"
    },
    {
     "data": {
      "image/png": "[encoded data removed]",
      "text/plain": [
       "<Figure size 432x288 with 1 Axes>"
      ]
     },
     "metadata": {
      "needs_background": "light"
     },
     "output_type": "display_data"
    }
   ],
   "source": [
    "sns.barplot(data=vibrations,x=\"N° Pale\",y=\"Niveau vibratoire 1FPP (mm)\")\n",
    "plt.title(\"Niveau vibratoire selon la palme\")"
   ]
  },
  {
   "cell_type": "markdown",
   "metadata": {},
   "source": [
    "### 2.2 Analyse par ACP de l'importance des variables géométriques\n",
    "\n",
    "On dispose d'un grand nombre de variables géométriques (111 variables). On souhaite déterminer quelles sont les variables géométriques importantes en analysant leurs poids dans les composantes principales du jeu de données.\n",
    "\n",
    "#### 2.2.1 Effectuez une ACP sur le jeu de données géométriques, puis calculez et visualisez la part de variance expliquée par chaque composante principale. Interprétez le résultat. Quelle part de variance est expliquée par les 2 premières CP ?"
   ]
  },
  {
   "cell_type": "code",
   "execution_count": 13,
   "metadata": {},
   "outputs": [],
   "source": [
    "from sklearn.decomposition import PCA"
   ]
  },
  {
   "cell_type": "code",
   "execution_count": 14,
   "metadata": {},
   "outputs": [
    {
     "data": {
      "text/plain": [
       "PCA(n_components=2)"
      ]
     },
     "execution_count": 14,
     "metadata": {},
     "output_type": "execute_result"
    }
   ],
   "source": [
    "pca = PCA(n_components=2)\n",
    "pca.fit(geometries_norm)"
   ]
  },
  {
   "cell_type": "code",
   "execution_count": 15,
   "metadata": {},
   "outputs": [
    {
     "name": "stdout",
     "output_type": "stream",
     "text": [
      "la part de variance expliquée par les deux premieres CP est de : 0.8414341461182344\n"
     ]
    }
   ],
   "source": [
    "var_exp_ratio=np.cumsum(pca.explained_variance_ratio_)[1]\n",
    "print(\"la part de variance expliquée par les deux premieres CP est de : \"+str(var_exp_ratio))"
   ]
  },
  {
   "cell_type": "code",
   "execution_count": 16,
   "metadata": {},
   "outputs": [
    {
     "name": "stderr",
     "output_type": "stream",
     "text": [
      "No handles with labels found to put in legend.\n"
     ]
    },
    {
     "data": {
      "image/png": "[encoded data removed]",
      "text/plain": [
       "<Figure size 432x288 with 2 Axes>"
      ]
     },
     "metadata": {
      "needs_background": "light"
     },
     "output_type": "display_data"
    }
   ],
   "source": [
    "x=pca.transform(geometries_norm)[:,0]\n",
    "y=pca.transform(geometries_norm)[:,1]\n",
    "\n",
    "plt.scatter(x,y,c=np.arange(1,len(x)+1),cmap=\"GnBu\")\n",
    "plt.title(\"PCA à 2 composantes\")\n",
    "plt.xlabel(\"PCA1\")\n",
    "plt.ylabel(\"PCA2\")\n",
    "plt.colorbar(label=\"N° Pal\")\n",
    "plt.legend(loc='upper left', bbox_to_anchor=(1, 1))\n",
    "plt.show()\n"
   ]
  },
  {
   "cell_type": "markdown",
   "metadata": {},
   "source": [
    "#### 2.2.2 Visualisez le poids des variables géométriques dans le plan (PC1, PC2)\n",
    "\n",
    "**Indice 1 :** utilisez pour cela les composantes des vecteurs principaux de la matrice `pca.components_`.\n",
    "\n",
    "**Indice 2 :** Afin d'obtenir une graphique avec une bonne échelle entre -1 et 1, il est nécessaire d'appliquer aux poids de chaque composante principale un facteur d'échelle égal à $\\sqrt{\\text{variance expliquée}}$.\n",
    "\n",
    "Voici le type de graphique, appelé _PCA factor loadings plot_ en anglais, que vous devriez obtenir :\n",
    "\n",
    "<img src=\"rc/pca-plot.png\" height=500px width=500px />"
   ]
  },
  {
   "cell_type": "markdown",
   "metadata": {},
   "source": [
    "Une technique très courante pour analyser l'importance des variables est de visualiser leurs poids dans le plan des 2 premières composantes principales."
   ]
  },
  {
   "cell_type": "code",
   "execution_count": 17,
   "metadata": {},
   "outputs": [
    {
     "data": {
      "image/png": "[encoded data removed]",
      "text/plain": [
       "<Figure size 720x720 with 1 Axes>"
      ]
     },
     "metadata": {
      "needs_background": "light"
     },
     "output_type": "display_data"
    }
   ],
   "source": [
    "from math import sqrt\n",
    "columns=geometries.columns.values[1:]\n",
    "pca_values=pca.components_\n",
    "\n",
    "plt.figure(figsize=(10,10))\n",
    "plt.rcParams.update({'font.size': 10})\n",
    "\n",
    "#Plot big circle\n",
    "x=np.linspace(start=-1,stop=1,num=500)\n",
    "y_positive=lambda x: np.sqrt(1**2-x**2) \n",
    "y_negative=lambda x: -np.sqrt(1**2-x**2)\n",
    "plt.plot(x,list(map(y_positive, x)), color='maroon')\n",
    "plt.plot(x,list(map(y_negative, x)),color='maroon')\n",
    "\n",
    "#Plot smaller circle\n",
    "x=np.linspace(start=-0.5,stop=0.5,num=500)\n",
    "y_positive=lambda x: np.sqrt(0.5**2-x**2) \n",
    "y_negative=lambda x: -np.sqrt(0.5**2-x**2)\n",
    "plt.plot(x,list(map(y_positive, x)), color='maroon')\n",
    "plt.plot(x,list(map(y_negative, x)),color='maroon')\n",
    "\n",
    "#Create broken lines\n",
    "x=np.linspace(start=-1,stop=1,num=30)\n",
    "plt.scatter(x,[0]*len(x), marker='_',color='maroon')\n",
    "plt.scatter([0]*len(x), x, marker='|',color='maroon')\n",
    "\n",
    "#Define color list\n",
    "colors = ['blue', 'red', 'green', 'black', 'purple', 'brown']\n",
    "if len(pca_values[0]) > 6:\n",
    "    colors=colors*(int(len(pca_values[0])/6)+1)\n",
    "\n",
    "add_string= \"\"\n",
    "for i in range(len(pca_values[0])):\n",
    "    xi=pca_values[0][i]*sqrt(pca.explained_variance_[0])\n",
    "    yi=pca_values[1][i]*sqrt(pca.explained_variance_[1])\n",
    "    #plt.plot(xi,yi) \n",
    "    plt.scatter(xi,yi)   \n",
    "    add_string=f\" ({round(xi,2)} {round(yi,2)})\"\n",
    "    plt.text(pca_values[0, i]*sqrt(pca.explained_variance_[0]), \n",
    "             pca_values[1, i]*sqrt(pca.explained_variance_[1]) , \n",
    "             s=columns[i] )\n",
    "\n",
    "plt.xlabel(f\"Component 1 ({round(pca.explained_variance_ratio_[0]*100,2)}%)\")\n",
    "plt.ylabel(f\"Component 2 ({round(pca.explained_variance_ratio_[1]*100,2)}%)\")\n",
    "plt.title(\"Variable factor map PCA (\"+str(var_exp_ratio*100)+\"%)\")\n",
    "plt.show()"
   ]
  },
  {
   "cell_type": "markdown",
   "metadata": {},
   "source": [
    "#### 2.2.3 Interprétez le graphique précédent. Quelles sont les variables géométriques les plus importantes ?"
   ]
  },
  {
   "cell_type": "markdown",
   "metadata": {},
   "source": [
    "Les variables d'épaisseurs (numérotées de 1 à 94) sont toutes situées dans la partie la plus à droite du plan des composantes principales. Elles ont donc un poids très important sur la PC1, beaucoup plus que les autres variables géométriques. Étant donné que la PC1 représente presque 80% de la variance, on peut en conclure que les variables d'épaisseurs sont les plus importantes."
   ]
  },
  {
   "cell_type": "markdown",
   "metadata": {},
   "source": [
    "## 3. Identification de l'aube anormale par analyse des corrélations\n",
    "\n",
    "Suite aux analyses précédentes, on décide de se focaliser sur les variables géométriques correspondant aux épaisseurs de l'aube (variables 1-94). Par ailleurs, les experts mécaniciens nous ont informés que les vibrations étaient corrélées à l'épaisseur de l'aube en différentes points. Par conséquent, nous pouvons décrire les données géométriques en utilisant **seulement la première composante principale** : on se ramène donc à un cas **univarié**, avec une seule variable $\\text{PC1}$ (projection sur la première composante principale).\n",
    "\n",
    "**Objectif :** trouver la permutation circulaire des numérotations d'aubes qui **maximise** la corrélation entre vibrations et épaisseurs des aubes, afin d'identifier l'aube défectueuse.\n",
    "\n",
    "Voici 3 coefficients de corrélation usuels permettant de mesurer l'association de deux variables (ici, $X =\\text{PC1} $ et $Y = \\text{vibration}$) :\n",
    "\n",
    "Coefficient de corrélation | formule | lien wikipédia\n",
    "---------------------------|----------|---------------\n",
    "Corrélation de Pearson     | $\\rho(X, Y) = \\frac{\\text{Cov}(X, Y)}{\\sigma_X \\sigma_Y}$ | https://fr.wikipedia.org/wiki/Corr%C3%A9lation_(statistiques)\n",
    "Corrélation de Spearman    | $\\rho_S(X, Y) = \\frac{\\text{Cov}(\\text{rank}(X), \\text{rank}(Y))}{\\sigma_{\\text{rank}_X} \\sigma_{\\text{rank}(Y)}}$ | https://fr.wikipedia.org/wiki/Corr%C3%A9lation_de_Spearman\n",
    "Corrélation de Kendall     | $\\tau(X, Y) = \\frac{2\\sum_{i<j}\\text{sign}(x_j-x_i)\\text{sign}(y_j-y_i)}{N(N-1)}$ | https://fr.wikipedia.org/wiki/Tau_de_Kendall\n"
   ]
  },
  {
   "cell_type": "markdown",
   "metadata": {},
   "source": [
    "### 3.1 Quel(s) coefficient(s) vous semble(nt) adapté(s) pour analyser les corrélations entre nos variables ?"
   ]
  },
  {
   "cell_type": "markdown",
   "metadata": {},
   "source": [
    "La corrélation de Kendall est la plus adaptés aux jeu de donnée"
   ]
  },
  {
   "cell_type": "markdown",
   "metadata": {},
   "source": [
    "### 3.2 Calculez les corrélations pour les 12 décalages circulaires possibles entre les données géométriques et les vibrations. Visualisez-les sur un graphique.\n",
    "\n",
    "**Indice :** on peut facilement obtenir une permuation circulaire d'un jeu de données à l'aide de la fonction `numpy.roll(...)`."
   ]
  },
  {
   "cell_type": "markdown",
   "metadata": {},
   "source": [
    "<div style=\"color: #1111bb; font-size: 16px; background-color: #eeeeff; padding: 20px; border-radius: 15px\">\n",
    "    <p><b>Rappel :</b> On n'utilise que la PC1 des variables géométriques !</p>\n",
    "</div>"
   ]
  },
  {
   "cell_type": "markdown",
   "metadata": {},
   "source": [
    "Il est recommandé de calculer les _$p$-values_ associées au coefficient de corrélation choisi. Ces valeurs permettent de déterminer si les corrélations trouvées sont **significatives ou non**. La $p$-value est associée aux deux hypothèses statistiques suivantes :\n",
    "\n",
    "* $\\mathcal{H}_0$ : les variables X et Y sont indépendantes (pas de corrélation)\n",
    "* $\\mathcal{H}_1$ : les variables X et Y sont dépendantes (corrélation)\n",
    "\n",
    "La $p$-value correspond à la **probabilité de se tromper en rejetant l'hypothèse null $\\mathcal{H}_0$**. On fait généralement le choix de rejeter l'hypothèse nulle lorsque $p$-value < 0.05, i.e. moins de 5% de chances de se tromper."
   ]
  },
  {
   "cell_type": "code",
   "execution_count": 18,
   "metadata": {},
   "outputs": [],
   "source": [
    "import math\n",
    "def kendall_tau(x, y):\n",
    "    \"\"\"Compute Kendall's tau correlation\n",
    "    \n",
    "    Arguments\n",
    "        xs : float array (n)\n",
    "            input variable 1\n",
    "        ys : float array (n)\n",
    "        input variable 2\n",
    "        \n",
    "    Returns\n",
    "        tau : float in [-1, 1]\n",
    "            correlation coefficient\n",
    "        pvalue : float\n",
    "            p-value\n",
    "    \"\"\"\n",
    "    assert x.size == y.size\n",
    "    size = x.size\n",
    "    \n",
    "    tot = (size * (size-1)) // 2\n",
    "    s = np.array([np.sign(x[j] - x[i]) * np.sign(y[j] - y[i]) for j in range(size) for i in range(j)])\n",
    "    tau = np.sum(s) / tot\n",
    "    \n",
    "    dis = np.sum(s < 0)  # number of discordant pairs\n",
    "    # Exact p-value, see Maurice G. Kendall, \"Rank Correlation Methods\" (4th Edition), Charles Griffin & Co., 1970.\n",
    "    c = min(dis, tot-dis)\n",
    "    if size <= 0:\n",
    "        raise ValueError\n",
    "    elif c < 0 or 2*c > size*(size-1):\n",
    "        raise ValueError\n",
    "    elif size == 1:\n",
    "        pvalue = 1.0\n",
    "    elif size == 2:\n",
    "        pvalue = 1.0\n",
    "    elif c == 0:\n",
    "        pvalue = 2.0/math.factorial(size) if size < 171 else 0.0\n",
    "    elif c == 1:\n",
    "        pvalue = 2.0/math.factorial(size-1) if (size-1) < 171 else 0.0\n",
    "    else:\n",
    "        new = [0.0]*(c+1)\n",
    "        new[0] = 1.0\n",
    "        new[1] = 1.0\n",
    "        for j in range(3,size+1):\n",
    "            old = new[:]\n",
    "            for k in range(1,min(j,c+1)):\n",
    "                new[k] += new[k-1]\n",
    "            for k in range(j,c+1):\n",
    "                new[k] += new[k-1] - old[k-j]\n",
    "        pvalue = 2.0*sum(new)/math.factorial(size) if size < 171 else 0.0\n",
    "        \n",
    "    return tau, pvalue"
   ]
  },
  {
   "cell_type": "code",
   "execution_count": 19,
   "metadata": {},
   "outputs": [
    {
     "data": {
      "text/plain": [
       "(13,)"
      ]
     },
     "execution_count": 19,
     "metadata": {},
     "output_type": "execute_result"
    }
   ],
   "source": [
    "vibrations[\"Niveau vibratoire 1FPP (mm)\"].to_numpy().shape"
   ]
  },
  {
   "cell_type": "code",
   "execution_count": 20,
   "metadata": {},
   "outputs": [
    {
     "data": {
      "text/plain": [
       "PCA(n_components=1)"
      ]
     },
     "execution_count": 20,
     "metadata": {},
     "output_type": "execute_result"
    }
   ],
   "source": [
    "pca1 = PCA(n_components=1)\n",
    "pca1.fit(geometries_norm)"
   ]
  },
  {
   "cell_type": "code",
   "execution_count": 21,
   "metadata": {},
   "outputs": [],
   "source": [
    "\n",
    "Y=vibrations_norm[:,1]\n",
    "Y_=vibrations[\"Niveau vibratoire 1FPP (mm)\"].to_numpy()\n",
    "X=pca1.transform(geometries_norm)\n",
    "\n",
    "tau=[]\n",
    "pvalue=[]\n",
    "for k in range(0,len(X)):\n",
    "\tres=kendall_tau(X, np.roll(Y_,k+1))\n",
    "\ttau.append(res[0])\n",
    "\tpvalue.append(res[1])\n",
    "\t#Y_=np.roll(Y_,1)"
   ]
  },
  {
   "cell_type": "code",
   "execution_count": 22,
   "metadata": {},
   "outputs": [
    {
     "data": {
      "text/plain": [
       "array([[ -2.73338422],\n",
       "       [  0.86682646],\n",
       "       [ -1.19815849],\n",
       "       [ -2.89822306],\n",
       "       [ -0.77885574],\n",
       "       [-14.17122881],\n",
       "       [-10.89847501],\n",
       "       [ -0.97238595],\n",
       "       [  0.53191363],\n",
       "       [ 17.25584461],\n",
       "       [ -9.6037368 ],\n",
       "       [  4.8292172 ],\n",
       "       [ 19.77064618]])"
      ]
     },
     "execution_count": 22,
     "metadata": {},
     "output_type": "execute_result"
    }
   ],
   "source": [
    "X"
   ]
  },
  {
   "cell_type": "code",
   "execution_count": 23,
   "metadata": {},
   "outputs": [
    {
     "data": {
      "text/plain": [
       "<matplotlib.legend.Legend at 0x25cb082df70>"
      ]
     },
     "execution_count": 23,
     "metadata": {},
     "output_type": "execute_result"
    },
    {
     "data": {
      "image/png": "[encoded data removed]",
      "text/plain": [
       "<Figure size 432x288 with 1 Axes>"
      ]
     },
     "metadata": {
      "needs_background": "light"
     },
     "output_type": "display_data"
    }
   ],
   "source": [
    "plt.bar(np.arange(1,14),pvalue)\n",
    "plt.plot(np.arange(1,14),[0.5]*13,color='red',label=\"pvalue=0.5\")\n",
    "plt.legend()"
   ]
  },
  {
   "cell_type": "code",
   "execution_count": 24,
   "metadata": {},
   "outputs": [
    {
     "data": {
      "image/png": "[encoded data removed]",
      "text/plain": [
       "<Figure size 432x288 with 1 Axes>"
      ]
     },
     "metadata": {
      "needs_background": "light"
     },
     "output_type": "display_data"
    }
   ],
   "source": [
    "fig, ax = plt.subplots()\n",
    "\n",
    "# Save the chart so we can loop through the bars below.\n",
    "bars = ax.bar(\n",
    "    x=np.arange(0,13),\n",
    "    height=pvalue\n",
    ")\n",
    "\n",
    "# Axis formatting.\n",
    "ax.spines['top'].set_visible(False)\n",
    "ax.spines['right'].set_visible(False)\n",
    "ax.spines['left'].set_visible(False)\n",
    "ax.spines['bottom'].set_color('#DDDDDD')\n",
    "ax.tick_params(bottom=False, left=False)\n",
    "ax.set_axisbelow(True)\n",
    "ax.yaxis.grid(True, color='#EEEEEE')\n",
    "ax.xaxis.grid(False)\n",
    "\n",
    "# Grab the color of the bars so we can make the\n",
    "# text the same color.\n",
    "bar_color = bars[0].get_facecolor()\n",
    "\n",
    "# Add text annotations to the top of the bars.\n",
    "# Note, you'll have to adjust this slightly (the 0.3)\n",
    "# with different data.\n",
    "for bar in bars:\n",
    "  ax.text(\n",
    "      bar.get_x() + bar.get_width() / 2,\n",
    "      bar.get_height() + 0.02,\n",
    "      round(bar.get_height(), 1),\n",
    "      horizontalalignment='center',\n",
    "      color=bar_color\n",
    "  )\n",
    "\n",
    "plt.title(\"pvalue selon la rotation circulaire\")\n",
    "fig.tight_layout()\n"
   ]
  },
  {
   "cell_type": "code",
   "execution_count": 25,
   "metadata": {},
   "outputs": [
    {
     "data": {
      "image/png": "[encoded data removed]",
      "text/plain": [
       "<Figure size 432x288 with 1 Axes>"
      ]
     },
     "metadata": {
      "needs_background": "light"
     },
     "output_type": "display_data"
    }
   ],
   "source": [
    "for i in range(0,13):\n",
    "\tif (pvalue[i]>0.05):\n",
    "\t\tplt.bar(i+1,np.abs(tau)[i],color=\"red\",label=\"pvalue >0.05\")\n",
    "\telse:\n",
    "\t\tplt.bar(i+1,np.abs(tau)[i],color=\"blue\",label=\"pvalue <0.05\")\n",
    "plt.legend(loc='upper left', bbox_to_anchor=(1, 1))\n",
    "plt.show()"
   ]
  },
  {
   "cell_type": "markdown",
   "metadata": {},
   "source": [
    "### 3.3 Quel est le décalage circulaire qui maximise la corrélation ? (il peut éventuellement en y avoir plusieurs) Peut-on en déduire l'aube anormale ?"
   ]
  },
  {
   "cell_type": "markdown",
   "metadata": {},
   "source": [
    "La circulation 7 et 12 maximise la corrélation malheureusement"
   ]
  },
  {
   "cell_type": "markdown",
   "metadata": {},
   "source": [
    "### 3.4 L'analyse de la PC1 ne s'est pas révélée suffisante, une analyse plus fine est nécessaire. Calculez, pour chaque décalage circulaire de la numérotation des aubes, les corrélations entre toutes les variables d'épaisseur (94 variables) et le niveau vibratoire. Concluez sur l'identité de l'aube défaillante, ainsi que sur la zone précise du défaut."
   ]
  },
  {
   "cell_type": "code",
   "execution_count": 28,
   "metadata": {},
   "outputs": [],
   "source": [
    "var_epaiss_norm=geometries_norm[:,:94]"
   ]
  },
  {
   "cell_type": "code",
   "execution_count": null,
   "metadata": {},
   "outputs": [
    {
     "data": {
      "text/plain": [
       "0.0"
      ]
     },
     "execution_count": 146,
     "metadata": {},
     "output_type": "execute_result"
    }
   ],
   "source": [
    "np.linalg.det(np.dot(var_epaiss_norm.transpose(),var_epaiss_norm))\n",
    "# On remarque que es variables géometriques ne sont pas indépendantes\n",
    "# On ne peut donc pas faire de regression multiple simple car XXt n'est pas inversible\n",
    "# essayons de faire une MANOVA"
   ]
  },
  {
   "cell_type": "code",
   "execution_count": 26,
   "metadata": {},
   "outputs": [],
   "source": [
    "from statsmodels.multivariate.manova import MANOVA"
   ]
  },
  {
   "cell_type": "code",
   "execution_count": null,
   "metadata": {},
   "outputs": [
    {
     "name": "stdout",
     "output_type": "stream",
     "text": [
      "Décallage n° 0 : \n",
      "\n",
      "                 Multivariate linear model\n",
      "============================================================\n",
      "                                                            \n",
      "------------------------------------------------------------\n",
      "           x0           Value   Num DF Den DF F Value Pr > F\n",
      "------------------------------------------------------------\n",
      "          Wilks' lambda 0.8386 12.0000 1.0000  0.0160 1.0000\n",
      "         Pillai's trace 0.1726 12.0000 1.0000  0.0174 1.0000\n",
      " Hotelling-Lawley trace 0.1797 12.0000 0.5000  0.0075 1.0000\n",
      "    Roy's greatest root 0.0860 12.0000 1.0000  0.0072 1.0000\n",
      "============================================================\n",
      "\n",
      "Décallage n° 1 : \n",
      "\n",
      "                 Multivariate linear model\n",
      "============================================================\n",
      "                                                            \n",
      "------------------------------------------------------------\n",
      "           x0           Value   Num DF Den DF F Value Pr > F\n",
      "------------------------------------------------------------\n",
      "          Wilks' lambda 0.2122 12.0000 1.0000  0.3094 0.9026\n",
      "         Pillai's trace 1.4197 12.0000 1.0000 -0.2819 1.0000\n",
      " Hotelling-Lawley trace 1.7500 12.0000 0.5000  0.0729 0.9914\n",
      "    Roy's greatest root 0.8168 12.0000 1.0000  0.0681 0.9976\n",
      "============================================================\n",
      "\n",
      "Décallage n° 2 : \n",
      "\n",
      "                 Multivariate linear model\n",
      "============================================================\n",
      "                                                            \n",
      "------------------------------------------------------------\n",
      "           x0           Value   Num DF Den DF F Value Pr > F\n",
      "------------------------------------------------------------\n",
      "          Wilks' lambda 0.6400 12.0000 1.0000  0.0469 0.9994\n",
      "         Pillai's trace 0.4408 12.0000 1.0000  0.0657 0.9979\n",
      " Hotelling-Lawley trace 0.4521 12.0000 0.5000  0.0188 0.9999\n",
      "    Roy's greatest root 0.0860 12.0000 1.0000  0.0072 1.0000\n",
      "============================================================\n",
      "\n",
      "Décallage n° 3 : \n",
      "\n",
      "                 Multivariate linear model\n",
      "============================================================\n",
      "                                                            \n",
      "------------------------------------------------------------\n",
      "           x0           Value   Num DF Den DF F Value Pr > F\n",
      "------------------------------------------------------------\n",
      "          Wilks' lambda 0.7508 12.0000 1.0000  0.0277 0.9999\n",
      "         Pillai's trace 0.2864 12.0000 1.0000  0.0334 0.9999\n",
      " Hotelling-Lawley trace 0.2868 12.0000 0.5000  0.0120 1.0000\n",
      "    Roy's greatest root 0.0860 12.0000 1.0000  0.0072 1.0000\n",
      "============================================================\n",
      "\n",
      "Décallage n° 4 : \n",
      "\n",
      "                 Multivariate linear model\n",
      "============================================================\n",
      "                                                            \n",
      "------------------------------------------------------------\n",
      "           x0           Value   Num DF Den DF F Value Pr > F\n",
      "------------------------------------------------------------\n",
      "          Wilks' lambda 0.3690 12.0000 1.0000  0.1425 0.9788\n",
      "         Pillai's trace 0.9813 12.0000 1.0000  4.3763 0.3588\n",
      " Hotelling-Lawley trace 1.0052 12.0000 0.5000  0.0419 0.9983\n",
      "    Roy's greatest root 0.1728 12.0000 1.0000  0.0144 1.0000\n",
      "============================================================\n",
      "\n",
      "Décallage n° 5 : \n",
      "\n",
      "                 Multivariate linear model\n",
      "============================================================\n",
      "                                                            \n",
      "------------------------------------------------------------\n",
      "           x0           Value   Num DF Den DF F Value Pr > F\n",
      "------------------------------------------------------------\n",
      "          Wilks' lambda 0.7861 12.0000 1.0000  0.0227 1.0000\n",
      "         Pillai's trace 0.2626 12.0000 1.0000  0.0297 0.9999\n",
      " Hotelling-Lawley trace 0.2182 12.0000 0.5000  0.0091 1.0000\n",
      "    Roy's greatest root 0.0860 12.0000 1.0000  0.0072 1.0000\n",
      "============================================================\n",
      "\n",
      "Décallage n° 6 : \n",
      "\n",
      "                 Multivariate linear model\n",
      "============================================================\n",
      "                                                            \n",
      "------------------------------------------------------------\n",
      "           x0           Value   Num DF Den DF F Value Pr > F\n",
      "------------------------------------------------------------\n",
      "          Wilks' lambda 0.4218 12.0000 1.0000  0.1143 0.9880\n",
      "         Pillai's trace 0.8413 12.0000 1.0000  0.4417 0.8417\n",
      " Hotelling-Lawley trace 0.8883 12.0000 0.5000  0.0370 0.9989\n",
      "    Roy's greatest root 0.2097 12.0000 1.0000  0.0175 1.0000\n",
      "============================================================\n",
      "\n",
      "Décallage n° 7 : \n",
      "\n",
      "                 Multivariate linear model\n",
      "============================================================\n",
      "                                                            \n",
      "------------------------------------------------------------\n",
      "           x0           Value   Num DF Den DF F Value Pr > F\n",
      "------------------------------------------------------------\n",
      "          Wilks' lambda 0.3244 12.0000 1.0000  0.1736 0.9665\n",
      "         Pillai's trace 1.0165 12.0000 1.0000 -5.1326 1.0000\n",
      " Hotelling-Lawley trace 1.2772 12.0000 0.5000  0.0532 0.9964\n",
      "    Roy's greatest root 0.6474 12.0000 1.0000  0.0539 0.9990\n",
      "============================================================\n",
      "\n",
      "Décallage n° 8 : \n",
      "\n",
      "                 Multivariate linear model\n",
      "============================================================\n",
      "                                                            \n",
      "------------------------------------------------------------\n",
      "           x0           Value   Num DF Den DF F Value Pr > F\n",
      "------------------------------------------------------------\n",
      "          Wilks' lambda 0.6039 12.0000 1.0000  0.0547 0.9989\n",
      "         Pillai's trace 0.4865 12.0000 1.0000  0.0789 0.9961\n",
      " Hotelling-Lawley trace 0.5242 12.0000 0.5000  0.0218 0.9998\n",
      "    Roy's greatest root 0.1852 12.0000 1.0000  0.0154 1.0000\n",
      "============================================================\n",
      "\n",
      "Décallage n° 9 : \n",
      "\n",
      "                 Multivariate linear model\n",
      "============================================================\n",
      "                                                            \n",
      "------------------------------------------------------------\n",
      "           x0           Value   Num DF Den DF F Value Pr > F\n",
      "------------------------------------------------------------\n",
      "          Wilks' lambda 0.8339 12.0000 1.0000  0.0166 1.0000\n",
      "         Pillai's trace 0.1781 12.0000 1.0000  0.0181 1.0000\n",
      " Hotelling-Lawley trace 0.1853 12.0000 0.5000  0.0077 1.0000\n",
      "    Roy's greatest root 0.0860 12.0000 1.0000  0.0072 1.0000\n",
      "============================================================\n",
      "\n",
      "Décallage n° 10 : \n",
      "\n",
      "                 Multivariate linear model\n",
      "============================================================\n",
      "                                                            \n",
      "------------------------------------------------------------\n",
      "           x0           Value   Num DF Den DF F Value Pr > F\n",
      "------------------------------------------------------------\n",
      "          Wilks' lambda 0.7965 12.0000 1.0000  0.0213 1.0000\n",
      "         Pillai's trace 0.2219 12.0000 1.0000  0.0238 1.0000\n",
      " Hotelling-Lawley trace 0.2334 12.0000 0.5000  0.0097 1.0000\n",
      "    Roy's greatest root 0.0860 12.0000 1.0000  0.0072 1.0000\n",
      "============================================================\n",
      "\n",
      "Décallage n° 11 : \n",
      "\n",
      "                 Multivariate linear model\n",
      "============================================================\n",
      "                                                            \n",
      "------------------------------------------------------------\n",
      "           x0           Value   Num DF Den DF F Value Pr > F\n",
      "------------------------------------------------------------\n",
      "          Wilks' lambda 0.1337 12.0000 1.0000  0.5402 0.8014\n",
      "         Pillai's trace 2.0045 12.0000 1.0000 -0.1663 1.0000\n",
      " Hotelling-Lawley trace 1.9999 12.0000 0.5000  0.0833 0.9880\n",
      "    Roy's greatest root 0.2441 12.0000 1.0000  0.0203 1.0000\n",
      "============================================================\n",
      "\n",
      "Décallage n° 12 : \n",
      "\n",
      "                 Multivariate linear model\n",
      "============================================================\n",
      "                                                            \n",
      "------------------------------------------------------------\n",
      "           x0           Value   Num DF Den DF F Value Pr > F\n",
      "------------------------------------------------------------\n",
      "          Wilks' lambda 0.2247 12.0000 1.0000  0.2876 0.9131\n",
      "         Pillai's trace 1.3642 12.0000 1.0000 -0.3122 1.0000\n",
      " Hotelling-Lawley trace 1.6799 12.0000 0.5000  0.0700 0.9922\n",
      "    Roy's greatest root 0.7303 12.0000 1.0000  0.0609 0.9984\n",
      "============================================================\n",
      "\n"
     ]
    }
   ],
   "source": [
    "for k in range(0,len(X)):\n",
    "\tfit=MANOVA(endog=var_epaiss_norm,exog=np.roll(Y_,k+1))\n",
    "\tprint(\"Décallage n° \"+str(k)+\" : \\n\")\n",
    "\tprint(fit.mv_test())"
   ]
  },
  {
   "cell_type": "markdown",
   "metadata": {},
   "source": [
    "J'obtiens des résultats que je ne sais interpreter donc je décides de regarder si une seule colonne peut suffir à l'interpretation de la vibration des Pales."
   ]
  },
  {
   "cell_type": "markdown",
   "metadata": {},
   "source": [
    "On peut essayer de regarder colonne par colonne si une composante explique bien le mode vibratoire selon un décalage circulaire"
   ]
  },
  {
   "cell_type": "code",
   "execution_count": 42,
   "metadata": {},
   "outputs": [],
   "source": [
    "pvalue=np.zeros([13,len(var_epaiss_norm[0,:])])\n",
    "tau_kendall=np.zeros([13,len(var_epaiss_norm[0,:])])\n",
    "Y_=vibrations[\"Niveau vibratoire 1FPP (mm)\"].to_numpy()\n",
    "\n",
    "for k in range(13):\n",
    "\tfor i in range(len(var_epaiss_norm[0,:])):\n",
    "\t\tres=kendall_tau(var_epaiss_norm[:,i],np.roll(Y_,k+1))\n",
    "\t\tpvalue[k,i]=res[1]\n",
    "\t\ttau_kendall[k,i]=res[0]\n"
   ]
  },
  {
   "cell_type": "markdown",
   "metadata": {},
   "source": [
    "On peut ensuite trouver la variable ainsi que le décalage qui maximise la corrélation sachant que la pvalue est inférieure à 0.05"
   ]
  },
  {
   "cell_type": "code",
   "execution_count": 68,
   "metadata": {},
   "outputs": [
    {
     "name": "stdout",
     "output_type": "stream",
     "text": [
      "la colonne qui maximise la corrélation est : 40 pour une corrélation de 0.7051282051282052\n",
      "le décalaege circuaire qui permet de maximiser la corrélation est un décalage de 11\n"
     ]
    }
   ],
   "source": [
    "correlation_pvalue=(pvalue<0.05)*tau_kendall\n",
    "arg_corr_max=np.argmax(correlation_pvalue)\n",
    "col_max_cor=arg_corr_max %len(var_epaiss_norm[0,:])\n",
    "decalage=arg_corr_max //len(var_epaiss_norm[0,:])\n",
    "print(\"la colonne qui maximise la corrélation est : \"+str(col_max_cor)+\" pour une corrélation de \"+str(correlation_pvalue[decalage,col_max_cor]))\n",
    "print(\"le décalaege circuaire qui permet de maximiser la corrélation est un décalage de \"+str(decalage))"
   ]
  },
  {
   "cell_type": "markdown",
   "metadata": {},
   "source": [
    "On peut donc en déduire qu'il faut faire un décalge de 11 par apport à la Pale 11 pour retrouver la Pale qui vibre (c'est la 9 ème)"
   ]
  }
 ],
 "metadata": {
  "kernelspec": {
   "display_name": "Python 3.8.8 ('base')",
   "language": "python",
   "name": "python3"
  },
  "language_info": {
   "codemirror_mode": {
    "name": "ipython",
    "version": 3
   },
   "file_extension": ".py",
   "mimetype": "text/x-python",
   "name": "python",
   "nbconvert_exporter": "python",
   "pygments_lexer": "ipython3",
   "version": "3.8.8"
  },
  "vscode": {
   "interpreter": {
    "hash": "4733dbd1e8826140db1cc445337af4405e38ee5554ffe600d37e6c07e2b40485"
   }
  }
 },
 "nbformat": 4,
 "nbformat_minor": 4
}
